{
 "cells": [
  {
   "cell_type": "code",
   "execution_count": null,
   "metadata": {
    "collapsed": true
   },
   "outputs": [],
   "source": [
    "import numpy as np\n",
    "import pandas as pd\n",
    "from sklearn.model_selection import KFold, train_test_split"
   ]
  },
  {
   "cell_type": "code",
   "execution_count": 2,
   "outputs": [],
   "source": [
    "# read sobazaar data\n",
    "data = pd.read_csv('data/Sobazaar-bprh-cleaned.csv')\n"
   ],
   "metadata": {
    "collapsed": false,
    "pycharm": {
     "name": "#%%\n"
    }
   }
  },
  {
   "cell_type": "code",
   "execution_count": 11,
   "outputs": [
    {
     "data": {
      "text/plain": "5"
     },
     "execution_count": 11,
     "metadata": {},
     "output_type": "execute_result"
    }
   ],
   "source": [
    "original_item_list = sorted(set(data.ItemID))\n",
    "original_user_list = sorted(set(data.UserID))\n",
    "\n",
    "data_without_target = data[data.Action != 'P']\n",
    "data_only_with_target = data[data.Action == 'P']\n",
    "\n",
    "kf = KFold(n_splits=5, shuffle=True, random_state=20200714)\n",
    "kf.get_n_splits(data_only_with_target)"
   ],
   "metadata": {
    "collapsed": false,
    "pycharm": {
     "name": "#%%\n"
    }
   }
  },
  {
   "cell_type": "code",
   "execution_count": 12,
   "outputs": [],
   "source": [
    "kf_avg_performance = []\n",
    "for train_index, test_index in kf.split(data_without_target):\n",
    "    train_data, test_data = data_without_target.iloc[train_index], data_without_target.iloc[test_index]\n",
    "    train_data.reset_index(inplace=True, drop=True)\n",
    "    test_data.reset_index(inplace=True, drop=True)\n",
    "\n",
    "    # then we construct popularity-based ranking list for item\n",
    "    ranking_list = train_data.groupby(\"ItemID\").count().UserID.copy()\n",
    "    ranking_list.sort_values(inplace=True,ascending=False)\n",
    "    ranking_list = ranking_list.index.to_list()\n",
    "\n",
    "    # then we get performance metric\n",
    "    ranking_5 = set(ranking_list[:5])\n",
    "    ranking_10 = set(ranking_list[:10])\n",
    "    scoring_list = []\n",
    "    for u in set(test_data.UserID):\n",
    "        I_u_t_test = set(test_data[test_data.UserID == u].ItemID)\n",
    "        p_5 = len(ranking_5.intersection(I_u_t_test)) / 5\n",
    "        p_10 = len(ranking_10.intersection(I_u_t_test)) / 10\n",
    "        r_5 = len(ranking_5.intersection(I_u_t_test)) / len(I_u_t_test)\n",
    "        r_10 = len(ranking_10.intersection(I_u_t_test)) / len(I_u_t_test)\n",
    "        scoring_list.append([p_5, p_10, r_5, r_10])\n",
    "\n",
    "    temp = np.array(scoring_list).mean(axis=0)\n",
    "    kf_avg_performance.append(temp.tolist())"
   ],
   "metadata": {
    "collapsed": false,
    "pycharm": {
     "name": "#%%\n"
    }
   }
  },
  {
   "cell_type": "code",
   "execution_count": 13,
   "outputs": [
    {
     "data": {
      "text/plain": "array([0.03334747, 0.02891174, 0.01978322, 0.03207143])"
     },
     "execution_count": 13,
     "metadata": {},
     "output_type": "execute_result"
    }
   ],
   "source": [
    "np.array(kf_avg_performance).mean(axis=0)"
   ],
   "metadata": {
    "collapsed": false,
    "pycharm": {
     "name": "#%%\n"
    }
   }
  }
 ],
 "metadata": {
  "kernelspec": {
   "display_name": "Python 3",
   "language": "python",
   "name": "python3"
  },
  "language_info": {
   "codemirror_mode": {
    "name": "ipython",
    "version": 2
   },
   "file_extension": ".py",
   "mimetype": "text/x-python",
   "name": "python",
   "nbconvert_exporter": "python",
   "pygments_lexer": "ipython2",
   "version": "2.7.6"
  }
 },
 "nbformat": 4,
 "nbformat_minor": 0
}