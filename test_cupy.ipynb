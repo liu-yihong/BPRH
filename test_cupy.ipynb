{
 "cells": [
  {
   "cell_type": "code",
   "execution_count": null,
   "metadata": {},
   "outputs": [],
   "source": [
    "import cupy as cp\n",
    "import numpy as np\n",
    "import time\n",
    "\n",
    "%load_ext autoreload\n",
    "%autoreload 2"
   ]
  },
  {
   "cell_type": "code",
   "execution_count": null,
   "metadata": {
    "pycharm": {
     "name": "#%%\n"
    }
   },
   "outputs": [],
   "source": [
    "### Numpy and CPU\n",
    "s = time.time()\n",
    "x_cpu = np.ones((4000,100,1))\n",
    "e = time.time()\n",
    "print(e - s)"
   ]
  },
  {
   "cell_type": "code",
   "execution_count": null,
   "metadata": {
    "pycharm": {
     "name": "#%%\n"
    }
   },
   "outputs": [],
   "source": [
    "### CuPy and GPU\n",
    "s = time.time()\n",
    "x_gpu = cp.ones((4000,1))\n",
    "cp.cuda.Stream.null.synchronize()\n",
    "e = time.time()\n",
    "print(e - s)"
   ]
  },
  {
   "cell_type": "code",
   "execution_count": 11,
   "metadata": {
    "pycharm": {
     "name": "#%%\n"
    }
   },
   "outputs": [],
   "source": [
    "import math\n",
    "from bprH_gpu import bprH, adv_index, save_model, load_model\n",
    "import pandas as pd\n",
    "from sklearn.model_selection import KFold, train_test_split\n",
    "import numpy as np\n",
    "import cProfile as profile"
   ]
  },
  {
   "cell_type": "code",
   "execution_count": 12,
   "metadata": {
    "pycharm": {
     "name": "#%%\n"
    }
   },
   "outputs": [],
   "source": [
    "def behavior_generator(num_user = 10, num_item=10):\n",
    "    data = []\n",
    "    for u in range(num_user):\n",
    "        for i in range(num_item):\n",
    "            p = np.random.uniform(0,1)\n",
    "            if 0.95 <= p:\n",
    "                data.append(['U' + str(u),'I' + str(i),'P'])\n",
    "            elif 0.7 <= p:\n",
    "                data.append(['U' + str(u),'I' + str(i),'P'])\n",
    "                data.append(['U' + str(u),'I' + str(i),'V'])\n",
    "            elif 0.3 <= p:\n",
    "                data.append(['U' + str(u),'I' + str(i),'V'])\n",
    "    data = pd.DataFrame(data, columns=['UserID', 'ItemID', 'Action'])\n",
    "    return data"
   ]
  },
  {
   "cell_type": "code",
   "execution_count": 13,
   "metadata": {
    "pycharm": {
     "name": "#%%\n"
    }
   },
   "outputs": [],
   "source": [
    "data = behavior_generator(num_user=50, num_item=50)"
   ]
  },
  {
   "cell_type": "code",
   "execution_count": 14,
   "metadata": {
    "pycharm": {
     "name": "#%%\n"
    }
   },
   "outputs": [],
   "source": [
    "# the best way is to split the data with a time manner - from sklearn.model_selection import TimeSeriesSplit\n",
    "# but first let's do it in a simple way\n",
    "\n",
    "original_item_list = sorted(set(data.ItemID))\n",
    "original_user_list = sorted(set(data.UserID))\n",
    "\n",
    "data_without_target = data[data.Action != 'P']\n",
    "data_only_with_target = data[data.Action == 'P']"
   ]
  },
  {
   "cell_type": "code",
   "execution_count": 15,
   "metadata": {
    "pycharm": {
     "name": "#%%\n"
    }
   },
   "outputs": [],
   "source": [
    "# split the data_only_with_target into 5 folds\n",
    "#kf = KFold(n_splits=5,shuffle=True, random_state=0)\n",
    "#kf.get_n_splits(X=data_only_with_target)\n",
    "\n",
    "d1, test_data = train_test_split(data_only_with_target, test_size=0.2)\n",
    "\n",
    "train_data = pd.concat([d1, data_without_target])\n",
    "train_data.reset_index(inplace=True)\n",
    "test_data.reset_index(inplace=True)"
   ]
  },
  {
   "cell_type": "code",
   "execution_count": 17,
   "metadata": {
    "pycharm": {
     "name": "#%%\n"
    }
   },
   "outputs": [
    {
     "data": {
      "text/plain": "<Figure size 864x576 with 2 Axes>",
      "image/png": "[encoded data removed]"
     },
     "metadata": {
      "needs_background": "light"
     },
     "output_type": "display_data"
    },
    {
     "name": "stderr",
     "output_type": "stream",
     "text": [
      "100%|██████████| 9000/9000 [1:31:34<00:00,  1.64it/s, auc=0, loss=-1.3670709649261163, norm_nabula_U_u=0.20312436156319527, norm_nabula_Vi=0.00288, norm_nabula_Vj=0.0132, norm_nabula_Vk=0.0159, precision_10=0.083, precision_5=0.0936, recall_10=0.255, recall_5=0.143]\n"
     ]
    },
    {
     "name": "stdout",
     "output_type": "stream",
     "text": [
      "Precision@K\n",
      "\tPrecision@5      \t (min:    0.081, max:    0.094, cur:    0.094)\n",
      "\tPrecision@10     \t (min:    0.072, max:    0.083, cur:    0.083)\n",
      "Recall@K\n",
      "\tRecall@5         \t (min:    0.124, max:    0.143, cur:    0.143)\n",
      "\tRecall@10        \t (min:    0.210, max:    0.255, cur:    0.255)\n"
     ]
    }
   ],
   "source": [
    "# pr = profile.Profile()\n",
    "# pr.enable()\n",
    "model = bprH(dim=5,\n",
    "                 omega=10,\n",
    "                 rho=1,\n",
    "                 lambda_u=0.1,\n",
    "                 lambda_v=0.1,\n",
    "                 lambda_b=0.1,\n",
    "                 gamma=0.01,\n",
    "                 random_state=20200704,\n",
    "                 num_iter=9000)\n",
    "\n",
    "model.fit(X=train_data,\n",
    "              eval_X=test_data,\n",
    "              original_item_list=original_item_list,\n",
    "              original_user_list=original_user_list,\n",
    "              saved_path='data/item-set-coselection-test.pkl',\n",
    "              coselection=True,\n",
    "              plot_metric=True)\n",
    "# pr.disable()\n",
    "#pr.dump_stats(\"bhrH_gpu_profile.pstat\")"
   ]
  },
  {
   "cell_type": "code",
   "execution_count": 24,
   "outputs": [],
   "source": [
    "import numpy as np\n",
    "import scipy"
   ],
   "metadata": {
    "collapsed": false,
    "pycharm": {
     "name": "#%%\n"
    }
   }
  },
  {
   "cell_type": "code",
   "execution_count": 29,
   "outputs": [],
   "source": [
    "lfm_train_data = np.zeros(shape=(50,50))\n",
    "lfm_test_data = np.zeros(shape=(50,50))\n",
    "for u in original_user_list:\n",
    "    train_item_pool = set(train_data[(train_data.UserID == u) & (train_data.Action == 'P')].ItemID)\n",
    "    test_item_pool = set(test_data[(test_data.UserID == u) & (test_data.Action == 'P')].ItemID)\n",
    "    u_idx = original_user_list.index(u)\n",
    "    for i in train_item_pool:\n",
    "        i_idx = original_item_list.index(i)\n",
    "        lfm_train_data[u_idx,i_idx] = 1\n",
    "    for i in test_item_pool:\n",
    "        i_idx = original_item_list.index(i)\n",
    "        lfm_test_data[u_idx,i_idx] = 1"
   ],
   "metadata": {
    "collapsed": false,
    "pycharm": {
     "name": "#%%\n"
    }
   }
  },
  {
   "cell_type": "code",
   "execution_count": 42,
   "outputs": [],
   "source": [
    "lfm_train_data = scipy.sparse.coo_matrix(lfm_train_data)\n",
    "lfm_test_data = scipy.sparse.coo_matrix(lfm_test_data)"
   ],
   "metadata": {
    "collapsed": false,
    "pycharm": {
     "name": "#%%\n"
    }
   }
  },
  {
   "cell_type": "code",
   "execution_count": 58,
   "outputs": [
    {
     "name": "stdout",
     "output_type": "stream",
     "text": [
      "Precision: train 0.37, test 0.05.\n",
      "AUC: train 0.65, test 0.43.\n"
     ]
    }
   ],
   "source": [
    "from lightfm import LightFM\n",
    "from lightfm.evaluation import precision_at_k\n",
    "from lightfm.evaluation import auc_score\n",
    "\n",
    "model = LightFM(learning_rate=0.01, loss='bpr')\n",
    "model.fit(lfm_train_data, epochs=40)\n",
    "\n",
    "train_precision = precision_at_k(model, lfm_train_data, k=10).mean()\n",
    "test_precision = precision_at_k(model, lfm_test_data, k=10).mean()\n",
    "\n",
    "train_auc = auc_score(model, lfm_train_data).mean()\n",
    "test_auc = auc_score(model, lfm_test_data).mean()\n",
    "\n",
    "print('Precision: train %.2f, test %.2f.' % (train_precision, test_precision))\n",
    "print('AUC: train %.2f, test %.2f.' % (train_auc, test_auc))"
   ],
   "metadata": {
    "collapsed": false,
    "pycharm": {
     "name": "#%%\n"
    }
   }
  },
  {
   "cell_type": "code",
   "execution_count": null,
   "metadata": {
    "pycharm": {
     "name": "#%%\n"
    }
   },
   "outputs": [],
   "source": [
    "kf = KFold(n_splits=5,shuffle=True, random_state=0)\n",
    "kf.get_n_splits(X=data_only_with_target)\n",
    "\n",
    "cnt = 0\n",
    "for train_index, test_index in kf.split(X=data_only_with_target):\n",
    "    # build train and test data\n",
    "    # page 90 5.2 section - make most of auxiliary data in training process\n",
    "    train_data = pd.concat([data_only_with_target.iloc[train_index], data_without_target])\n",
    "    test_data = data_only_with_target.iloc[test_index]\n",
    "\n",
    "    # start a BPRH model\n",
    "    model = bprH(dim=8,\n",
    "                 omega=1,\n",
    "                 rho=1,\n",
    "                 lambda_u=1.5,\n",
    "                 lambda_v=0.1,\n",
    "                 lambda_b=0.1,\n",
    "                 gamma=0.01,\n",
    "                 random_state=20200704,\n",
    "                 num_iter=9000)\n",
    "\n",
    "    model.fit(X=train_data,\n",
    "              eval_X=test_data,\n",
    "              original_item_list=original_item_list,\n",
    "              original_user_list=original_user_list,\n",
    "              saved_path='data/item-set-coselection-'+str(cnt)+'.pkl',\n",
    "              coselection=True,\n",
    "              plot_metric=True)\n",
    "    cnt += 1\n"
   ]
  },
  {
   "cell_type": "code",
   "execution_count": 38,
   "metadata": {
    "pycharm": {
     "name": "#%%\n"
    }
   },
   "outputs": [],
   "source": [
    "# read sobazaar data\n",
    "data = pd.read_csv('data/sb_unique_actions_20.csv')\n",
    "# change column name\n",
    "data.columns = ['ItemID', 'UserID', 'Action', 'Action_Date', 'Action_Time',\n",
    "       'SessionID']\n",
    "\n",
    "# data = data.sample(frac=0.5) # TODO: test small data"
   ]
  },
  {
   "cell_type": "code",
   "execution_count": 39,
   "metadata": {
    "pycharm": {
     "name": "#%%\n"
    }
   },
   "outputs": [],
   "source": [
    "# the best way is to split the data with a time manner - from sklearn.model_selection import TimeSeriesSplit\n",
    "# but first let's do it in a simple way\n",
    "\n",
    "original_item_list = sorted(set(data.ItemID))\n",
    "original_user_list = sorted(set(data.UserID))\n",
    "\n",
    "data_without_target = data[data.Action != 'P']\n",
    "data_only_with_target = data[data.Action == 'P']"
   ]
  },
  {
   "cell_type": "code",
   "execution_count": null,
   "metadata": {
    "pycharm": {
     "name": "#%%\n"
    }
   },
   "outputs": [],
   "source": [
    "# split the data_only_with_target into 5 folds\n",
    "kf = KFold(n_splits=5, shuffle=True, random_state=0)\n",
    "kf.get_n_splits(X=data_only_with_target)"
   ]
  },
  {
   "cell_type": "code",
   "execution_count": null,
   "metadata": {
    "pycharm": {
     "name": "#%%\n"
    }
   },
   "outputs": [],
   "source": [
    "cnt = 0\n",
    "for train_index, test_index in kf.split(X=data_only_with_target):\n",
    "    # build train and test data\n",
    "    train_data = pd.concat([data_only_with_target.iloc[train_index], data_without_target])\n",
    "    test_data = data_only_with_target.iloc[test_index]\n",
    "\n",
    "    # start a BPRH model\n",
    "    model = bprH(dim=30,\n",
    "                 omega=1000,\n",
    "                 rho=1,\n",
    "                 lambda_u=1,\n",
    "                 lambda_v=0.5,\n",
    "                 lambda_b=0.5,\n",
    "                 gamma=0.01,\n",
    "                 random_state=20200704,\n",
    "                 num_iter=10000)\n",
    "\n",
    "    model.fit(X=train_data,\n",
    "              eval_X=test_data,\n",
    "              original_item_list=original_item_list,\n",
    "              original_user_list=original_user_list,\n",
    "              saved_path='data/item-set-coselection-'+str(cnt)+'.pkl',\n",
    "              coselection=True,\n",
    "              plot_metric=True)\n",
    "    cnt += 1"
   ]
  },
  {
   "cell_type": "code",
   "execution_count": 40,
   "metadata": {
    "pycharm": {
     "name": "#%%\n"
    }
   },
   "outputs": [],
   "source": [
    "d1, test_data = train_test_split(data_only_with_target, test_size=0.2)\n",
    "\n",
    "train_data = pd.concat([d1, data_without_target])\n",
    "train_data.reset_index(inplace=True)\n",
    "test_data.reset_index(inplace=True)"
   ]
  },
  {
   "cell_type": "code",
   "execution_count": null,
   "metadata": {
    "pycharm": {
     "name": "#%%\n",
     "is_executing": true
    }
   },
   "outputs": [
    {
     "data": {
      "text/plain": "<Figure size 864x576 with 2 Axes>",
      "image/png": "[encoded data removed]"
     },
     "metadata": {
      "needs_background": "light"
     },
     "output_type": "display_data"
    },
    {
     "name": "stderr",
     "output_type": "stream",
     "text": [
      " 25%|██▌       | 5031/20000 [2:14:41<6:08:52,  1.48s/it, auc=0, loss=[-2.39268561], norm_nabula_U_u=3.3245164987908673, norm_nabula_Vi=1.11, norm_nabula_Vj=3.98, norm_nabula_Vk=0, precision_10=0.000727, precision_5=0.000485, recall_10=0.00646, recall_5=0.00202]"
     ]
    },
    {
     "name": "stdout",
     "output_type": "stream",
     "text": [
      "Precision@K\n",
      "\tPrecision@5      \t (min:    0.000, max:    0.001, cur:    0.000)\n",
      "\tPrecision@10     \t (min:    0.001, max:    0.001, cur:    0.001)\n",
      "Recall@K\n",
      "\tRecall@5         \t (min:    0.002, max:    0.006, cur:    0.002)\n",
      "\tRecall@10        \t (min:    0.006, max:    0.009, cur:    0.006)\n"
     ]
    }
   ],
   "source": [
    "#pr = profile.Profile()\n",
    "#pr.enable()\n",
    "\n",
    "model = bprH(dim=50,\n",
    "                 omega=500,\n",
    "                 rho=1,\n",
    "                 lambda_u=0.1,\n",
    "                 lambda_v=0.1,\n",
    "                 lambda_b=0.1,\n",
    "                 gamma=0.1,\n",
    "                 random_state=20200704,\n",
    "                 num_iter=20000)\n",
    "\n",
    "model.fit(X=train_data,\n",
    "              eval_X=test_data,\n",
    "              original_item_list=original_item_list,\n",
    "              original_user_list=original_user_list,\n",
    "              saved_path='data/item-set-coselection-test.pkl',\n",
    "              coselection=True,\n",
    "              plot_metric=True)\n",
    "\n",
    "#pr.disable()\n",
    "#pr.dump_stats(\"bhrH_gpu_profile.pstat\")\n"
   ]
  }
 ],
 "metadata": {
  "kernelspec": {
   "name": "python3",
   "language": "python",
   "display_name": "Python 3"
  },
  "language_info": {
   "codemirror_mode": {
    "name": "ipython",
    "version": 2
   },
   "file_extension": ".py",
   "mimetype": "text/x-python",
   "name": "python",
   "nbconvert_exporter": "python",
   "pygments_lexer": "ipython2",
   "version": "2.7.6"
  }
 },
 "nbformat": 4,
 "nbformat_minor": 1
}