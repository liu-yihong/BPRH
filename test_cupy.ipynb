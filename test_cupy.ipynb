{
 "cells": [
  {
   "cell_type": "code",
   "execution_count": 1,
   "metadata": {
    "collapsed": true
   },
   "outputs": [],
   "source": [
    "import cupy as cp\n",
    "import numpy as np\n",
    "import time\n",
    "\n",
    "%load_ext autoreload\n",
    "%autoreload 2"
   ]
  },
  {
   "cell_type": "code",
   "execution_count": null,
   "outputs": [],
   "source": [
    "### Numpy and CPU\n",
    "s = time.time()\n",
    "x_cpu = np.ones((4000,100,1))\n",
    "e = time.time()\n",
    "print(e - s)"
   ],
   "metadata": {
    "collapsed": false,
    "pycharm": {
     "name": "#%%\n"
    }
   }
  },
  {
   "cell_type": "code",
   "execution_count": null,
   "outputs": [],
   "source": [
    "### CuPy and GPU\n",
    "s = time.time()\n",
    "x_gpu = cp.ones((4000,1))\n",
    "cp.cuda.Stream.null.synchronize()\n",
    "e = time.time()\n",
    "print(e - s)"
   ],
   "metadata": {
    "collapsed": false,
    "pycharm": {
     "name": "#%%\n"
    }
   }
  },
  {
   "cell_type": "code",
   "execution_count": 2,
   "outputs": [],
   "source": [
    "import math\n",
    "from bprH_gpu import bprH, adv_index, save_model, load_model\n",
    "import pandas as pd\n",
    "from sklearn.model_selection import KFold, train_test_split\n",
    "import numpy as np\n",
    "import cProfile as profile"
   ],
   "metadata": {
    "collapsed": false,
    "pycharm": {
     "name": "#%%\n"
    }
   }
  },
  {
   "cell_type": "code",
   "execution_count": null,
   "outputs": [],
   "source": [
    "def behavior_generator(num_user = 10, num_item=10):\n",
    "    data = []\n",
    "    for u in range(num_user):\n",
    "        for i in range(num_item):\n",
    "            p = np.random.uniform(0,1)\n",
    "            if 0.7 <= p:\n",
    "                data.append(['U' + str(u),'I' + str(i),'P'])\n",
    "                data.append(['U' + str(u),'I' + str(i),'V'])\n",
    "            elif 0.3 <= p:\n",
    "                data.append(['U' + str(u),'I' + str(i),'V'])\n",
    "    data = pd.DataFrame(data, columns=['UserID', 'ItemID', 'Action'])\n",
    "    return data"
   ],
   "metadata": {
    "collapsed": false,
    "pycharm": {
     "name": "#%%\n"
    }
   }
  },
  {
   "cell_type": "code",
   "execution_count": null,
   "outputs": [],
   "source": [
    "data = behavior_generator(num_user=50, num_item=50)"
   ],
   "metadata": {
    "collapsed": false,
    "pycharm": {
     "name": "#%%\n"
    }
   }
  },
  {
   "cell_type": "code",
   "execution_count": null,
   "outputs": [],
   "source": [
    "# the best way is to split the data with a time manner - from sklearn.model_selection import TimeSeriesSplit\n",
    "# but first let's do it in a simple way\n",
    "\n",
    "original_item_list = sorted(set(data.ItemID))\n",
    "original_user_list = sorted(set(data.UserID))\n",
    "\n",
    "data_without_target = data[data.Action != 'P']\n",
    "data_only_with_target = data[data.Action == 'P']"
   ],
   "metadata": {
    "collapsed": false,
    "pycharm": {
     "name": "#%%\n"
    }
   }
  },
  {
   "cell_type": "code",
   "execution_count": null,
   "outputs": [],
   "source": [
    "# split the data_only_with_target into 5 folds\n",
    "#kf = KFold(n_splits=5,shuffle=True, random_state=0)\n",
    "#kf.get_n_splits(X=data_only_with_target)\n",
    "\n",
    "d1, test_data = train_test_split(data_only_with_target, test_size=0.2)\n",
    "\n",
    "train_data = pd.concat([d1, data_without_target])\n",
    "train_data.reset_index(inplace=True)\n",
    "test_data.reset_index(inplace=True)"
   ],
   "metadata": {
    "collapsed": false,
    "pycharm": {
     "name": "#%%\n"
    }
   }
  },
  {
   "cell_type": "code",
   "execution_count": null,
   "outputs": [],
   "source": [
    "model = bprH(dim=12,\n",
    "                 omega=10,\n",
    "                 rho=1,\n",
    "                 lambda_u=1.5,\n",
    "                 lambda_v=0.5,\n",
    "                 lambda_b=0.5,\n",
    "                 gamma=0.005,\n",
    "                 random_state=20200704,\n",
    "                 num_iter=9000)\n",
    "\n",
    "model.fit(X=train_data,\n",
    "              eval_X=test_data,\n",
    "              original_item_list=original_item_list,\n",
    "              original_user_list=original_user_list,\n",
    "              saved_path='data/item-set-coselection-test.pkl',\n",
    "              coselection=True,\n",
    "              plot_metric=True)"
   ],
   "metadata": {
    "collapsed": false,
    "pycharm": {
     "name": "#%%\n"
    }
   }
  },
  {
   "cell_type": "code",
   "execution_count": null,
   "outputs": [],
   "source": [
    "kf = KFold(n_splits=5,shuffle=True, random_state=0)\n",
    "kf.get_n_splits(X=data_only_with_target)\n",
    "\n",
    "cnt = 0\n",
    "for train_index, test_index in kf.split(X=data_only_with_target):\n",
    "    # build train and test data\n",
    "    # page 90 5.2 section - make most of auxiliary data in training process\n",
    "    train_data = pd.concat([data_only_with_target.iloc[train_index], data_without_target])\n",
    "    test_data = data_only_with_target.iloc[test_index]\n",
    "\n",
    "    # start a BPRH model\n",
    "    model = bprH(dim=8,\n",
    "                 omega=1,\n",
    "                 rho=1,\n",
    "                 lambda_u=1.5,\n",
    "                 lambda_v=0.1,\n",
    "                 lambda_b=0.1,\n",
    "                 gamma=0.01,\n",
    "                 random_state=20200704,\n",
    "                 num_iter=9000)\n",
    "\n",
    "    model.fit(X=train_data,\n",
    "              eval_X=test_data,\n",
    "              original_item_list=original_item_list,\n",
    "              original_user_list=original_user_list,\n",
    "              saved_path='data/item-set-coselection-'+str(cnt)+'.pkl',\n",
    "              coselection=True,\n",
    "              plot_metric=True)\n",
    "    cnt += 1\n"
   ],
   "metadata": {
    "collapsed": false,
    "pycharm": {
     "name": "#%%\n"
    }
   }
  },
  {
   "cell_type": "code",
   "execution_count": 3,
   "outputs": [],
   "source": [
    "# read sobazaar data\n",
    "data = pd.read_csv('data/sb_unique_actions_20.csv')\n",
    "# change column name\n",
    "data.columns = ['ItemID', 'UserID', 'Action', 'Action_Date', 'Action_Time',\n",
    "       'SessionID']\n",
    "\n",
    "# data = data.sample(frac=0.5) # TODO: test small data"
   ],
   "metadata": {
    "collapsed": false,
    "pycharm": {
     "name": "#%%\n"
    }
   }
  },
  {
   "cell_type": "code",
   "execution_count": 4,
   "outputs": [],
   "source": [
    "# the best way is to split the data with a time manner - from sklearn.model_selection import TimeSeriesSplit\n",
    "# but first let's do it in a simple way\n",
    "\n",
    "original_item_list = sorted(set(data.ItemID))\n",
    "original_user_list = sorted(set(data.UserID))\n",
    "\n",
    "data_without_target = data[data.Action != 'P']\n",
    "data_only_with_target = data[data.Action == 'P']"
   ],
   "metadata": {
    "collapsed": false,
    "pycharm": {
     "name": "#%%\n"
    }
   }
  },
  {
   "cell_type": "code",
   "execution_count": null,
   "outputs": [],
   "source": [
    "# split the data_only_with_target into 5 folds\n",
    "kf = KFold(n_splits=5, shuffle=True, random_state=0)\n",
    "kf.get_n_splits(X=data_only_with_target)"
   ],
   "metadata": {
    "collapsed": false,
    "pycharm": {
     "name": "#%%\n"
    }
   }
  },
  {
   "cell_type": "code",
   "execution_count": null,
   "outputs": [],
   "source": [
    "cnt = 0\n",
    "for train_index, test_index in kf.split(X=data_only_with_target):\n",
    "    # build train and test data\n",
    "    train_data = pd.concat([data_only_with_target.iloc[train_index], data_without_target])\n",
    "    test_data = data_only_with_target.iloc[test_index]\n",
    "\n",
    "    # start a BPRH model\n",
    "    model = bprH(dim=30,\n",
    "                 omega=1000,\n",
    "                 rho=1,\n",
    "                 lambda_u=1,\n",
    "                 lambda_v=0.5,\n",
    "                 lambda_b=0.5,\n",
    "                 gamma=0.01,\n",
    "                 random_state=20200704,\n",
    "                 num_iter=10000)\n",
    "\n",
    "    model.fit(X=train_data,\n",
    "              eval_X=test_data,\n",
    "              original_item_list=original_item_list,\n",
    "              original_user_list=original_user_list,\n",
    "              saved_path='data/item-set-coselection-'+str(cnt)+'.pkl',\n",
    "              coselection=True,\n",
    "              plot_metric=True)\n",
    "    cnt += 1"
   ],
   "metadata": {
    "collapsed": false,
    "pycharm": {
     "name": "#%%\n"
    }
   }
  },
  {
   "cell_type": "code",
   "execution_count": 5,
   "outputs": [],
   "source": [
    "d1, test_data = train_test_split(data_only_with_target, test_size=0.2)\n",
    "\n",
    "train_data = pd.concat([d1, data_without_target])\n",
    "train_data.reset_index(inplace=True)\n",
    "test_data.reset_index(inplace=True)"
   ],
   "metadata": {
    "collapsed": false,
    "pycharm": {
     "name": "#%%\n"
    }
   }
  },
  {
   "cell_type": "code",
   "execution_count": null,
   "outputs": [
    {
     "name": "stdout",
     "output_type": "stream",
     "text": [
      "Calculate auxiliary-target correlation\n"
     ]
    },
    {
     "name": "stderr",
     "output_type": "stream",
     "text": [
      " 27%|██▋       | 1220/4514 [00:29<01:17, 42.56it/s]"
     ]
    }
   ],
   "source": [
    "pr = profile.Profile()\n",
    "pr.enable()\n",
    "\n",
    "model = bprH(dim=10,\n",
    "                 omega=1000,\n",
    "                 rho=1,\n",
    "                 lambda_u=1.0,\n",
    "                 lambda_v=0.1,\n",
    "                 lambda_b=0.1,\n",
    "                 gamma=0.1,\n",
    "                 random_state=20200704,\n",
    "                 num_iter=10000)\n",
    "\n",
    "model.fit(X=train_data,\n",
    "              eval_X=test_data,\n",
    "              original_item_list=original_item_list,\n",
    "              original_user_list=original_user_list,\n",
    "              saved_path='data/item-set-coselection-test.pkl',\n",
    "              coselection=True,\n",
    "              plot_metric=True)\n",
    "\n",
    "pr.disable()\n",
    "pr.dump_stats(\"bhrH_gpu_profile.pstat\")"
   ],
   "metadata": {
    "collapsed": false,
    "pycharm": {
     "name": "#%%\n",
     "is_executing": true
    }
   }
  }
 ],
 "metadata": {
  "kernelspec": {
   "display_name": "Python 3",
   "language": "python",
   "name": "python3"
  },
  "language_info": {
   "codemirror_mode": {
    "name": "ipython",
    "version": 2
   },
   "file_extension": ".py",
   "mimetype": "text/x-python",
   "name": "python",
   "nbconvert_exporter": "python",
   "pygments_lexer": "ipython2",
   "version": "2.7.6"
  }
 },
 "nbformat": 4,
 "nbformat_minor": 0
}