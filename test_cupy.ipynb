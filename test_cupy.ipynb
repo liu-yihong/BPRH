{
 "cells": [
  {
   "cell_type": "code",
   "execution_count": null,
   "metadata": {},
   "outputs": [],
   "source": [
    "import cupy as cp\n",
    "import numpy as np\n",
    "import time\n",
    "\n",
    "%load_ext autoreload\n",
    "%autoreload 2"
   ]
  },
  {
   "cell_type": "code",
   "execution_count": null,
   "metadata": {
    "pycharm": {
     "name": "#%%\n"
    }
   },
   "outputs": [],
   "source": [
    "### Numpy and CPU\n",
    "s = time.time()\n",
    "x_cpu = np.ones((4000,100,1))\n",
    "e = time.time()\n",
    "print(e - s)"
   ]
  },
  {
   "cell_type": "code",
   "execution_count": null,
   "metadata": {
    "pycharm": {
     "name": "#%%\n"
    }
   },
   "outputs": [],
   "source": [
    "### CuPy and GPU\n",
    "s = time.time()\n",
    "x_gpu = cp.ones((4000,1))\n",
    "cp.cuda.Stream.null.synchronize()\n",
    "e = time.time()\n",
    "print(e - s)"
   ]
  },
  {
   "cell_type": "code",
   "execution_count": null,
   "metadata": {
    "pycharm": {
     "name": "#%%\n"
    }
   },
   "outputs": [],
   "source": [
    "from bprH_gpu import bprH, save_model, load_model\n",
    "import pandas as pd\n",
    "from sklearn.model_selection import KFold, train_test_split\n",
    "import cProfile as profile"
   ]
  },
  {
   "cell_type": "code",
   "execution_count": null,
   "metadata": {
    "pycharm": {
     "name": "#%%\n"
    }
   },
   "outputs": [],
   "source": [
    "def behavior_generator(num_user = 10, num_item=10):\n",
    "    data = []\n",
    "    for u in range(num_user):\n",
    "        for i in range(num_item):\n",
    "            p = np.random.uniform(0,1)\n",
    "            if 0.99 <= p:\n",
    "                data.append(['U' + str(u),'I' + str(i),'P'])\n",
    "            elif 0.9 <= p:\n",
    "                data.append(['U' + str(u),'I' + str(i),'P'])\n",
    "                data.append(['U' + str(u),'I' + str(i),'V'])\n",
    "            elif 0.5 <= p:\n",
    "                data.append(['U' + str(u),'I' + str(i),'V'])\n",
    "    data = pd.DataFrame(data, columns=['UserID', 'ItemID', 'Action'])\n",
    "    return data"
   ]
  },
  {
   "cell_type": "code",
   "execution_count": null,
   "metadata": {
    "pycharm": {
     "name": "#%%\n"
    }
   },
   "outputs": [],
   "source": [
    "data = behavior_generator(num_user=47, num_item=50)"
   ]
  },
  {
   "cell_type": "code",
   "execution_count": null,
   "outputs": [],
   "source": [
    "# to librec\n",
    "data_librec_1 = data[data.Action == 'P']\n",
    "data_librec_1.Action = 1\n",
    "data_librec_1.to_csv('generated_data.txt', index=False, header=False)\n",
    "\n",
    "data_librec_2 = data\n",
    "data_librec_1.Action = 1\n",
    "data_librec_1.to_csv('generated_data2.txt', index=False, header=False)"
   ],
   "metadata": {
    "collapsed": false,
    "pycharm": {
     "name": "#%%\n",
     "is_executing": true
    }
   }
  },
  {
   "cell_type": "code",
   "execution_count": null,
   "metadata": {
    "pycharm": {
     "name": "#%%\n"
    }
   },
   "outputs": [],
   "source": [
    "# the best way is to split the data with a time manner - from sklearn.model_selection import TimeSeriesSplit\n",
    "# but first let's do it in a simple way\n",
    "\n",
    "original_item_list = sorted(set(data.ItemID))\n",
    "original_user_list = sorted(set(data.UserID))\n",
    "\n",
    "data_without_target = data[data.Action != 'P']\n",
    "data_only_with_target = data[data.Action == 'P']"
   ]
  },
  {
   "cell_type": "code",
   "execution_count": null,
   "metadata": {
    "pycharm": {
     "name": "#%%\n"
    }
   },
   "outputs": [],
   "source": [
    "# split the data_only_with_target into 5 folds\n",
    "#kf = KFold(n_splits=5,shuffle=True, random_state=0)\n",
    "#kf.get_n_splits(X=data_only_with_target)\n",
    "\n",
    "d1, test_data = train_test_split(data_only_with_target, test_size=0.2)\n",
    "\n",
    "train_data = pd.concat([d1, data_without_target])\n",
    "train_data.reset_index(inplace=True, drop=True)\n",
    "test_data.reset_index(inplace=True, drop=True)"
   ]
  },
  {
   "cell_type": "code",
   "execution_count": null,
   "metadata": {
    "pycharm": {
     "name": "#%%\n"
    }
   },
   "outputs": [],
   "source": [
    "#pr = profile.Profile()\n",
    "#pr.enable()\n",
    "model = bprH(dim=5,\n",
    "                 omega=10,\n",
    "                 rho=1,\n",
    "                 lambda_u=0,\n",
    "                 lambda_v=0,\n",
    "                 lambda_b=0,\n",
    "                 gamma=0.1,\n",
    "                 random_state=20200704,\n",
    "                 num_iter=4000)\n",
    "\n",
    "model.fit(X=train_data,\n",
    "          eval_X=test_data,\n",
    "          original_item_list=original_item_list,\n",
    "          original_user_list=original_user_list,\n",
    "          saved_path='data/item-set-coselection-test.pkl',\n",
    "          coselection=True,\n",
    "          plot_metric=True,\n",
    "          print_metric=True\n",
    ")\n",
    "#pr.disable()\n",
    "#pr.dump_stats(\"bhrH_gpu_profile.pstat\")"
   ]
  },
  {
   "cell_type": "code",
   "execution_count": null,
   "outputs": [],
   "source": [
    "# metrcis on test data\n",
    "scoring_list_10, precision_10, recall_10, _ = model.scoring(ground_truth=model.test_data,\n",
    "              user_to_eval=sorted(set(model.test_data.UserID)),\n",
    "              K=10)\n",
    "model.recommend(user_to_recommend=[0], K=10)"
   ],
   "metadata": {
    "collapsed": false,
    "pycharm": {
     "name": "#%%\n"
    }
   }
  },
  {
   "cell_type": "code",
   "execution_count": null,
   "outputs": [],
   "source": [
    "model.test_data"
   ],
   "metadata": {
    "collapsed": false,
    "pycharm": {
     "name": "#%%\n"
    }
   }
  },
  {
   "cell_type": "code",
   "execution_count": null,
   "outputs": [],
   "source": [
    "scoring_list_10, precision_10, recall_10, _ = model.scoring(ground_truth=model.train_data,\n",
    "              user_to_eval=sorted(set(model.train_data.UserID)),\n",
    "              K=10)"
   ],
   "metadata": {
    "collapsed": false,
    "pycharm": {
     "name": "#%%\n"
    }
   }
  },
  {
   "cell_type": "code",
   "execution_count": null,
   "outputs": [],
   "source": [
    "import numpy as np\n",
    "import scipy"
   ],
   "metadata": {
    "collapsed": false,
    "pycharm": {
     "name": "#%%\n",
     "is_executing": true
    }
   }
  },
  {
   "cell_type": "code",
   "execution_count": null,
   "outputs": [],
   "source": [
    "lfm_train_data = np.zeros(shape=(4712,7015))\n",
    "lfm_test_data = np.zeros(shape=(4712,7015))\n",
    "for u in original_user_list:\n",
    "    train_item_pool = set(train_data[(train_data.UserID == u) & (train_data.Action == 'P')].ItemID)\n",
    "    test_item_pool = set(test_data[(test_data.UserID == u) & (test_data.Action == 'P')].ItemID)\n",
    "    u_idx = original_user_list.index(u)\n",
    "    for i in train_item_pool:\n",
    "        i_idx = original_item_list.index(i)\n",
    "        lfm_train_data[u_idx,i_idx] = 1\n",
    "    for i in test_item_pool:\n",
    "        i_idx = original_item_list.index(i)\n",
    "        lfm_test_data[u_idx,i_idx] = 1"
   ],
   "metadata": {
    "collapsed": false,
    "pycharm": {
     "name": "#%%\n",
     "is_executing": true
    }
   }
  },
  {
   "cell_type": "code",
   "execution_count": null,
   "outputs": [],
   "source": [
    "lfm_train_data = scipy.sparse.coo_matrix(lfm_train_data)\n",
    "lfm_test_data = scipy.sparse.coo_matrix(lfm_test_data)"
   ],
   "metadata": {
    "collapsed": false,
    "pycharm": {
     "name": "#%%\n",
     "is_executing": true
    }
   }
  },
  {
   "cell_type": "code",
   "execution_count": null,
   "outputs": [],
   "source": [
    "from lightfm import LightFM\n",
    "from lightfm.evaluation import precision_at_k\n",
    "from lightfm.evaluation import auc_score\n",
    "\n",
    "model = LightFM(no_components=10, learning_rate=0.005, loss='bpr')\n",
    "model.fit(lfm_train_data, epochs=1000)\n",
    "\n",
    "train_precision = precision_at_k(model, lfm_train_data, k=10).mean()\n",
    "test_precision = precision_at_k(model, lfm_test_data, k=10).mean()\n",
    "\n",
    "train_auc = auc_score(model, lfm_train_data).mean()\n",
    "test_auc = auc_score(model, lfm_test_data).mean()\n",
    "\n",
    "print('Precision: train %.2f, test %.2f.' % (train_precision, test_precision))\n",
    "print('AUC: train %.2f, test %.2f.' % (train_auc, test_auc))"
   ],
   "metadata": {
    "collapsed": false,
    "pycharm": {
     "name": "#%%\n",
     "is_executing": true
    }
   }
  },
  {
   "cell_type": "code",
   "execution_count": null,
   "metadata": {
    "pycharm": {
     "name": "#%%\n",
     "is_executing": true
    }
   },
   "outputs": [],
   "source": [
    "kf = KFold(n_splits=5,shuffle=True, random_state=0)\n",
    "kf.get_n_splits(X=data_only_with_target)\n",
    "\n",
    "cnt = 0\n",
    "for train_index, test_index in kf.split(X=data_only_with_target):\n",
    "    # build train and test data\n",
    "    # page 90 5.2 section - make most of auxiliary data in training process\n",
    "    train_data = pd.concat([data_only_with_target.iloc[train_index], data_without_target])\n",
    "    test_data = data_only_with_target.iloc[test_index]\n",
    "\n",
    "    # start a BPRH model\n",
    "    model = bprH(dim=8,\n",
    "                 omega=1,\n",
    "                 rho=1,\n",
    "                 lambda_u=1.5,\n",
    "                 lambda_v=0.1,\n",
    "                 lambda_b=0.1,\n",
    "                 gamma=0.01,\n",
    "                 random_state=20200704,\n",
    "                 num_iter=9000)\n",
    "\n",
    "    model.fit(X=train_data,\n",
    "              eval_X=test_data,\n",
    "              original_item_list=original_item_list,\n",
    "              original_user_list=original_user_list,\n",
    "              saved_path='data/item-set-coselection-'+str(cnt)+'.pkl',\n",
    "              coselection=True,\n",
    "              plot_metric=True)\n",
    "    cnt += 1\n"
   ]
  },
  {
   "cell_type": "code",
   "execution_count": null,
   "metadata": {
    "pycharm": {
     "name": "#%%\n"
    }
   },
   "outputs": [],
   "source": [
    "# read sobazaar data\n",
    "data = pd.read_csv('data/sb_bprh.csv')\n",
    "# change column name\n",
    "data.columns = ['ItemID', 'UserID', 'Action', 'Action_Date', 'Action_Time',\n",
    "       'SessionID']\n",
    "\n",
    "data = data[['ItemID', 'UserID', 'Action']]\n",
    "data.drop_duplicates(inplace=True)"
   ]
  },
  {
   "cell_type": "code",
   "execution_count": null,
   "metadata": {
    "pycharm": {
     "name": "#%%\n"
    }
   },
   "outputs": [],
   "source": [
    "# the best way is to split the data with a time manner - from sklearn.model_selection import TimeSeriesSplit\n",
    "# but first let's do it in a simple way\n",
    "\n",
    "original_item_list = sorted(set(data.ItemID))\n",
    "original_user_list = sorted(set(data.UserID))\n",
    "\n",
    "data_without_target = data[data.Action != 'P']\n",
    "data_only_with_target = data[data.Action == 'P']"
   ]
  },
  {
   "cell_type": "code",
   "execution_count": null,
   "metadata": {
    "pycharm": {
     "name": "#%%\n",
     "is_executing": true
    }
   },
   "outputs": [],
   "source": [
    "# split the data_only_with_target into 5 folds\n",
    "kf = KFold(n_splits=5, shuffle=True, random_state=0)\n",
    "kf.get_n_splits(X=data_only_with_target)"
   ]
  },
  {
   "cell_type": "code",
   "execution_count": null,
   "metadata": {
    "pycharm": {
     "name": "#%%\n",
     "is_executing": true
    }
   },
   "outputs": [],
   "source": [
    "cnt = 0\n",
    "for train_index, test_index in kf.split(X=data_only_with_target):\n",
    "    # build train and test data\n",
    "    train_data = pd.concat([data_only_with_target.iloc[train_index], data_without_target])\n",
    "    test_data = data_only_with_target.iloc[test_index]\n",
    "\n",
    "    # start a BPRH model\n",
    "    model = bprH(dim=30,\n",
    "                 omega=1000,\n",
    "                 rho=1,\n",
    "                 lambda_u=1,\n",
    "                 lambda_v=0.5,\n",
    "                 lambda_b=0.5,\n",
    "                 gamma=0.01,\n",
    "                 random_state=20200704,\n",
    "                 num_iter=10000)\n",
    "\n",
    "    model.fit(X=train_data,\n",
    "              eval_X=test_data,\n",
    "              original_item_list=original_item_list,\n",
    "              original_user_list=original_user_list,\n",
    "              saved_path='data/item-set-coselection-'+str(cnt)+'.pkl',\n",
    "              coselection=True,\n",
    "              plot_metric=True)\n",
    "    cnt += 1"
   ]
  },
  {
   "cell_type": "code",
   "execution_count": null,
   "metadata": {
    "pycharm": {
     "name": "#%%\n"
    }
   },
   "outputs": [],
   "source": [
    "d1, test_data = train_test_split(data_only_with_target, test_size=0.2)\n",
    "\n",
    "train_data = pd.concat([d1, data_without_target])\n",
    "train_data.reset_index(inplace=True,drop=True)\n",
    "test_data.reset_index(inplace=True,drop=True)"
   ]
  },
  {
   "cell_type": "code",
   "execution_count": null,
   "metadata": {
    "pycharm": {
     "name": "#%%\n",
     "is_executing": true
    }
   },
   "outputs": [
    {
     "name": "stdout",
     "output_type": "stream",
     "text": [
      "Registering Model Parameters\n",
      "Build I_u_t, I_u_a\n",
      "Calculate auxiliary-target correlation\n",
      "Generate Itemset Coselection - Build U_i\n"
     ]
    },
    {
     "name": "stderr",
     "output_type": "stream",
     "text": [
      "100%|██████████| 4712/4712 [01:29<00:00, 52.40it/s]\n",
      "100%|██████████| 4712/4712 [00:00<00:00, 277356.06it/s]\n",
      " 22%|██▏       | 1518/7015 [00:16<00:58, 94.73it/s] "
     ]
    }
   ],
   "source": [
    "model = bprH(dim=50,\n",
    "                 omega=1000,\n",
    "                 rho=1,\n",
    "                 lambda_u=0.5,\n",
    "                 lambda_v=0.5,\n",
    "                 lambda_b=0.5,\n",
    "                 gamma=0.005,\n",
    "                 random_state=20200710,\n",
    "                 num_iter=5000)\n",
    "\n",
    "model.fit(X=train_data,\n",
    "          eval_X=test_data,\n",
    "          original_item_list=original_item_list,\n",
    "          original_user_list=original_user_list,\n",
    "          saved_path='data/item-set-coselection-test.pkl',\n",
    "          coselection=True,\n",
    "          plot_metric=False,\n",
    "          print_metric=False)"
   ]
  },
  {
   "cell_type": "code",
   "execution_count": 8,
   "outputs": [],
   "source": [
    "scoring_list_10, precision_10, recall_10, _ = \\\n",
    "    model.scoring(ground_truth=model.test_data,\n",
    "              user_to_eval=sorted(set(model.test_data.UserID)),\n",
    "              K=10)"
   ],
   "metadata": {
    "collapsed": false,
    "pycharm": {
     "name": "#%%\n"
    }
   }
  },
  {
   "cell_type": "code",
   "execution_count": 18,
   "outputs": [
    {
     "data": {
      "text/plain": "       ItemID  UserID Action\n236      4949     404      P\n2268      236     404      P\n3576     2035     404      P\n3639     6068     404      P\n3740     4092     404      P\n4496     4434     404      P\n5648     6933     404      P\n8505     6407     404      P\n9195     6675     404      P\n9411     6758     404      P\n9756     6358     404      P\n10251    6038     404      P\n10794    3543     404      P\n11633    3808     404      P",
      "text/html": "<div>\n<style scoped>\n    .dataframe tbody tr th:only-of-type {\n        vertical-align: middle;\n    }\n\n    .dataframe tbody tr th {\n        vertical-align: top;\n    }\n\n    .dataframe thead th {\n        text-align: right;\n    }\n</style>\n<table border=\"1\" class=\"dataframe\">\n  <thead>\n    <tr style=\"text-align: right;\">\n      <th></th>\n      <th>ItemID</th>\n      <th>UserID</th>\n      <th>Action</th>\n    </tr>\n  </thead>\n  <tbody>\n    <tr>\n      <th>236</th>\n      <td>4949</td>\n      <td>404</td>\n      <td>P</td>\n    </tr>\n    <tr>\n      <th>2268</th>\n      <td>236</td>\n      <td>404</td>\n      <td>P</td>\n    </tr>\n    <tr>\n      <th>3576</th>\n      <td>2035</td>\n      <td>404</td>\n      <td>P</td>\n    </tr>\n    <tr>\n      <th>3639</th>\n      <td>6068</td>\n      <td>404</td>\n      <td>P</td>\n    </tr>\n    <tr>\n      <th>3740</th>\n      <td>4092</td>\n      <td>404</td>\n      <td>P</td>\n    </tr>\n    <tr>\n      <th>4496</th>\n      <td>4434</td>\n      <td>404</td>\n      <td>P</td>\n    </tr>\n    <tr>\n      <th>5648</th>\n      <td>6933</td>\n      <td>404</td>\n      <td>P</td>\n    </tr>\n    <tr>\n      <th>8505</th>\n      <td>6407</td>\n      <td>404</td>\n      <td>P</td>\n    </tr>\n    <tr>\n      <th>9195</th>\n      <td>6675</td>\n      <td>404</td>\n      <td>P</td>\n    </tr>\n    <tr>\n      <th>9411</th>\n      <td>6758</td>\n      <td>404</td>\n      <td>P</td>\n    </tr>\n    <tr>\n      <th>9756</th>\n      <td>6358</td>\n      <td>404</td>\n      <td>P</td>\n    </tr>\n    <tr>\n      <th>10251</th>\n      <td>6038</td>\n      <td>404</td>\n      <td>P</td>\n    </tr>\n    <tr>\n      <th>10794</th>\n      <td>3543</td>\n      <td>404</td>\n      <td>P</td>\n    </tr>\n    <tr>\n      <th>11633</th>\n      <td>3808</td>\n      <td>404</td>\n      <td>P</td>\n    </tr>\n  </tbody>\n</table>\n</div>"
     },
     "execution_count": 18,
     "metadata": {},
     "output_type": "execute_result"
    }
   ],
   "source": [
    "model.train_data[(model.train_data.UserID == 404) &\n",
    "                 (model.train_data.Action == \"P\")]"
   ],
   "metadata": {
    "collapsed": false,
    "pycharm": {
     "name": "#%%\n"
    }
   }
  },
  {
   "cell_type": "code",
   "execution_count": 14,
   "outputs": [
    {
     "data": {
      "text/plain": "      ItemID  UserID Action\n261     5046     404      P\n1643    5770     404      P\n1977    4171     404      P\n2008     471     404      P",
      "text/html": "<div>\n<style scoped>\n    .dataframe tbody tr th:only-of-type {\n        vertical-align: middle;\n    }\n\n    .dataframe tbody tr th {\n        vertical-align: top;\n    }\n\n    .dataframe thead th {\n        text-align: right;\n    }\n</style>\n<table border=\"1\" class=\"dataframe\">\n  <thead>\n    <tr style=\"text-align: right;\">\n      <th></th>\n      <th>ItemID</th>\n      <th>UserID</th>\n      <th>Action</th>\n    </tr>\n  </thead>\n  <tbody>\n    <tr>\n      <th>261</th>\n      <td>5046</td>\n      <td>404</td>\n      <td>P</td>\n    </tr>\n    <tr>\n      <th>1643</th>\n      <td>5770</td>\n      <td>404</td>\n      <td>P</td>\n    </tr>\n    <tr>\n      <th>1977</th>\n      <td>4171</td>\n      <td>404</td>\n      <td>P</td>\n    </tr>\n    <tr>\n      <th>2008</th>\n      <td>471</td>\n      <td>404</td>\n      <td>P</td>\n    </tr>\n  </tbody>\n</table>\n</div>"
     },
     "execution_count": 14,
     "metadata": {},
     "output_type": "execute_result"
    }
   ],
   "source": [
    "model.test_data[model.test_data.UserID == 404]"
   ],
   "metadata": {
    "collapsed": false,
    "pycharm": {
     "name": "#%%\n"
    }
   }
  },
  {
   "cell_type": "code",
   "execution_count": 24,
   "outputs": [
    {
     "data": {
      "text/plain": "array([[-0.58238604, -0.42182379, -0.69283479, ..., -0.60697936,\n         0.19777065,  0.08216565],\n       [ 0.65250566,  0.15347718,  1.3230051 , ..., -0.81596365,\n         2.49769663,  0.31699304],\n       [ 0.84981093, -0.47369144,  0.41294763, ...,  0.90614293,\n        -0.55250807, -0.84272059],\n       ...,\n       [-0.19771952,  1.06898457,  1.89134039, ..., -1.22563057,\n        -1.29902831,  0.26265441],\n       [ 0.44992601,  1.04122114, -0.70205945, ...,  0.48012517,\n        -1.43401496,  1.12638675],\n       [ 0.01890585, -1.06995588,  0.85704412, ..., -1.00359167,\n         1.58781057, -1.9604453 ]])"
     },
     "execution_count": 24,
     "metadata": {},
     "output_type": "execute_result"
    }
   ],
   "source": [
    "model.V"
   ],
   "metadata": {
    "collapsed": false,
    "pycharm": {
     "name": "#%%\n"
    }
   }
  },
  {
   "cell_type": "code",
   "execution_count": null,
   "outputs": [],
   "source": [
    "cp.linalg.norm(cp.array([[1,2,3],[4,5,6]]) - cp.array([[1.9,1.7,1.2],[4.8,5.2,9.6]]))"
   ],
   "metadata": {
    "collapsed": false,
    "pycharm": {
     "name": "#%%\n"
    }
   }
  }
 ],
 "metadata": {
  "kernelspec": {
   "name": "python3",
   "language": "python",
   "display_name": "Python 3"
  },
  "language_info": {
   "codemirror_mode": {
    "name": "ipython",
    "version": 2
   },
   "file_extension": ".py",
   "mimetype": "text/x-python",
   "name": "python",
   "nbconvert_exporter": "python",
   "pygments_lexer": "ipython2",
   "version": "2.7.6"
  }
 },
 "nbformat": 4,
 "nbformat_minor": 1
}