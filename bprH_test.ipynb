{
 "cells": [
  {
   "cell_type": "code",
   "execution_count": 1,
   "metadata": {
    "collapsed": true
   },
   "outputs": [],
   "source": [
    "from bprH import bprH, adv_index, save_model, load_model\n",
    "import pandas as pd\n",
    "from sklearn.model_selection import KFold\n",
    "import numpy as np"
   ]
  },
  {
   "cell_type": "code",
   "execution_count": 15,
   "metadata": {
    "pycharm": {
     "name": "#%%\n"
    }
   },
   "outputs": [],
   "source": [
    "data = [['U1','I1','V'], ['U1','I1','P'], ['U1','I3','V'], ['U1','I4','V'],\n",
    "        ['U2','I2','V'], ['U2','I2','P'], ['U2','I1','V'],\n",
    "        ['U3','I1','V'], ['U3','I1','P'], ['U3','I2','V'], ['U3','I4','V'], ['U3','I4','P'],\n",
    "        ['U4','I2','V'], ['U4','I3','V'], ['U4','I3','P'], ['U4','I4','V'],\n",
    "        ['U5','I1','V'], ['U5','I3','V'], ['U5','I2','V'], ['U5','I2','P']\n",
    "        ]\n",
    "data = pd.DataFrame(data, columns=['UserID', 'ItemID', 'Action'])\n",
    "\n",
    "test = [['U1','I3','P'], ['U2','I1','P'], ['U3','I2','P'], ['U4','I4','P'], ['U5','I1','P']]\n",
    "test = pd.DataFrame(test, columns=['UserID', 'ItemID', 'Action'])"
   ]
  },
  {
   "cell_type": "code",
   "execution_count": 16,
   "metadata": {
    "pycharm": {
     "name": "#%%\n"
    }
   },
   "outputs": [],
   "source": [
    "# start a BPRH model\n",
    "model = bprH(dim=3, omega=1, rho=1, lambda_u=0.1, lambda_v=0.1, lambda_b=0.1, gamma=0.008, num_iter=10000, random_state=20200704)"
   ]
  },
  {
   "cell_type": "code",
   "execution_count": 17,
   "metadata": {
    "pycharm": {
     "name": "#%%\n"
    }
   },
   "outputs": [
    {
     "name": "stdout",
     "output_type": "stream",
     "text": [
      "Calculate auxiliary-target correlation\n",
      "Generate Itemset Coselection\n"
     ]
    },
    {
     "name": "stderr",
     "output_type": "stream",
     "text": [
      "100%|██████████| 5/5 [00:00<00:00, 294.29it/s]\n",
      "100%|██████████| 12/12 [00:00<00:00, 101.75it/s]\n",
      "ITER 4893:  49%|████▉     | 4894/10000 [02:01<02:05, 40.70it/s, loss=-0.931, precision_10=0.1, precision_5=0, recall_10=1, recall_5=0]        \n"
     ]
    },
    {
     "ename": "KeyboardInterrupt",
     "evalue": "",
     "output_type": "error",
     "traceback": [
      "\u001B[1;31m---------------------------------------------------------------------------\u001B[0m",
      "\u001B[1;31mKeyboardInterrupt\u001B[0m                         Traceback (most recent call last)",
      "\u001B[1;32m<ipython-input-17-a064b7cf9451>\u001B[0m in \u001B[0;36m<module>\u001B[1;34m\u001B[0m\n\u001B[1;32m----> 1\u001B[1;33m \u001B[0mmodel\u001B[0m\u001B[1;33m.\u001B[0m\u001B[0mfit\u001B[0m\u001B[1;33m(\u001B[0m\u001B[0mX\u001B[0m\u001B[1;33m=\u001B[0m\u001B[0mdata\u001B[0m\u001B[1;33m,\u001B[0m \u001B[0meval_X\u001B[0m\u001B[1;33m=\u001B[0m\u001B[0mtest\u001B[0m\u001B[1;33m,\u001B[0m \u001B[0moriginal_item_list\u001B[0m\u001B[1;33m=\u001B[0m\u001B[1;33m[\u001B[0m\u001B[1;34m'I1'\u001B[0m\u001B[1;33m,\u001B[0m \u001B[1;34m'I2'\u001B[0m\u001B[1;33m,\u001B[0m \u001B[1;34m'I3'\u001B[0m\u001B[1;33m,\u001B[0m \u001B[1;34m'I4'\u001B[0m\u001B[1;33m,\u001B[0m \u001B[1;34m'I5'\u001B[0m\u001B[1;33m,\u001B[0m \u001B[1;34m'I6'\u001B[0m\u001B[1;33m,\u001B[0m \u001B[1;34m'I7'\u001B[0m\u001B[1;33m,\u001B[0m \u001B[1;34m'I8'\u001B[0m\u001B[1;33m,\u001B[0m \u001B[1;34m'I9'\u001B[0m\u001B[1;33m,\u001B[0m \u001B[1;34m'I10'\u001B[0m\u001B[1;33m,\u001B[0m \u001B[1;34m'I11'\u001B[0m\u001B[1;33m,\u001B[0m \u001B[1;34m'I12'\u001B[0m\u001B[1;33m]\u001B[0m\u001B[1;33m,\u001B[0m \u001B[0moriginal_user_list\u001B[0m\u001B[1;33m=\u001B[0m\u001B[1;33m[\u001B[0m\u001B[1;34m'U1'\u001B[0m\u001B[1;33m,\u001B[0m \u001B[1;34m'U2'\u001B[0m\u001B[1;33m,\u001B[0m \u001B[1;34m'U3'\u001B[0m\u001B[1;33m,\u001B[0m \u001B[1;34m'U4'\u001B[0m\u001B[1;33m,\u001B[0m \u001B[1;34m'U5'\u001B[0m\u001B[1;33m]\u001B[0m\u001B[1;33m,\u001B[0m \u001B[0msaved_path\u001B[0m\u001B[1;33m=\u001B[0m\u001B[1;34m'data/small-item-set-coselection.pkl'\u001B[0m\u001B[1;33m)\u001B[0m\u001B[1;33m\u001B[0m\u001B[1;33m\u001B[0m\u001B[0m\n\u001B[0m\u001B[0;32m      2\u001B[0m \u001B[1;33m\u001B[0m\u001B[0m\n",
      "\u001B[1;32mD:\\OneDrive - The University of Texas at Dallas\\UTD MIS PhD YXL180111\\2020 Summer\\Research\\BPR\\BPRH\\bprH.py\u001B[0m in \u001B[0;36mfit\u001B[1;34m(self, X, eval_X, original_item_list, original_user_list, y, saved_path)\u001B[0m\n\u001B[0;32m    255\u001B[0m                 \u001B[1;31m# calculate metrics on test data\u001B[0m\u001B[1;33m\u001B[0m\u001B[1;33m\u001B[0m\u001B[1;33m\u001B[0m\u001B[0m\n\u001B[0;32m    256\u001B[0m                 \u001B[0muser_to_eval\u001B[0m \u001B[1;33m=\u001B[0m \u001B[0msorted\u001B[0m\u001B[1;33m(\u001B[0m\u001B[0mset\u001B[0m\u001B[1;33m(\u001B[0m\u001B[0meval_X\u001B[0m\u001B[1;33m.\u001B[0m\u001B[0mUserID\u001B[0m\u001B[1;33m)\u001B[0m\u001B[1;33m)\u001B[0m\u001B[1;33m\u001B[0m\u001B[1;33m\u001B[0m\u001B[0m\n\u001B[1;32m--> 257\u001B[1;33m                 \u001B[0mscoring_list_5\u001B[0m\u001B[1;33m,\u001B[0m \u001B[0mprecision_5\u001B[0m\u001B[1;33m,\u001B[0m \u001B[0mrecall_5\u001B[0m \u001B[1;33m=\u001B[0m \u001B[0mself\u001B[0m\u001B[1;33m.\u001B[0m\u001B[0mscoring\u001B[0m\u001B[1;33m(\u001B[0m\u001B[0muser_to_eval\u001B[0m\u001B[1;33m=\u001B[0m\u001B[0muser_to_eval\u001B[0m\u001B[1;33m,\u001B[0m \u001B[0mground_truth\u001B[0m\u001B[1;33m=\u001B[0m\u001B[0meval_X\u001B[0m\u001B[1;33m,\u001B[0m \u001B[0mK\u001B[0m\u001B[1;33m=\u001B[0m\u001B[1;36m5\u001B[0m\u001B[1;33m)\u001B[0m\u001B[1;33m\u001B[0m\u001B[1;33m\u001B[0m\u001B[0m\n\u001B[0m\u001B[0;32m    258\u001B[0m                 scoring_list_10, precision_10, recall_10 = self.scoring(user_to_eval=user_to_eval, ground_truth=eval_X,\n\u001B[0;32m    259\u001B[0m                                                                      K=10)\n",
      "\u001B[1;32mD:\\OneDrive - The University of Texas at Dallas\\UTD MIS PhD YXL180111\\2020 Summer\\Research\\BPR\\BPRH\\bprH.py\u001B[0m in \u001B[0;36mscoring\u001B[1;34m(self, ground_truth, K, user_to_eval, y)\u001B[0m\n\u001B[0;32m    365\u001B[0m         \u001B[0mscoring_list\u001B[0m \u001B[1;33m=\u001B[0m \u001B[1;33m[\u001B[0m\u001B[1;33m]\u001B[0m\u001B[1;33m\u001B[0m\u001B[1;33m\u001B[0m\u001B[0m\n\u001B[0;32m    366\u001B[0m         \u001B[1;31m# clean ground truth\u001B[0m\u001B[1;33m\u001B[0m\u001B[1;33m\u001B[0m\u001B[1;33m\u001B[0m\u001B[0m\n\u001B[1;32m--> 367\u001B[1;33m         \u001B[0mground_truth\u001B[0m \u001B[1;33m=\u001B[0m \u001B[0mground_truth\u001B[0m\u001B[1;33m[\u001B[0m\u001B[0mground_truth\u001B[0m\u001B[1;33m.\u001B[0m\u001B[0mAction\u001B[0m \u001B[1;33m==\u001B[0m \u001B[1;34m'P'\u001B[0m\u001B[1;33m]\u001B[0m\u001B[1;33m\u001B[0m\u001B[1;33m\u001B[0m\u001B[0m\n\u001B[0m\u001B[0;32m    368\u001B[0m         \u001B[1;31m# begin iteration\u001B[0m\u001B[1;33m\u001B[0m\u001B[1;33m\u001B[0m\u001B[1;33m\u001B[0m\u001B[0m\n\u001B[0;32m    369\u001B[0m         \u001B[1;32mfor\u001B[0m \u001B[0mu\u001B[0m \u001B[1;32min\u001B[0m \u001B[0muser_to_eval\u001B[0m\u001B[1;33m:\u001B[0m\u001B[1;33m\u001B[0m\u001B[1;33m\u001B[0m\u001B[0m\n",
      "\u001B[1;32mC:\\ProgramData\\Anaconda3\\lib\\site-packages\\pandas\\core\\frame.py\u001B[0m in \u001B[0;36m__getitem__\u001B[1;34m(self, key)\u001B[0m\n\u001B[0;32m   2789\u001B[0m         \u001B[1;31m# Do we have a (boolean) 1d indexer?\u001B[0m\u001B[1;33m\u001B[0m\u001B[1;33m\u001B[0m\u001B[1;33m\u001B[0m\u001B[0m\n\u001B[0;32m   2790\u001B[0m         \u001B[1;32mif\u001B[0m \u001B[0mcom\u001B[0m\u001B[1;33m.\u001B[0m\u001B[0mis_bool_indexer\u001B[0m\u001B[1;33m(\u001B[0m\u001B[0mkey\u001B[0m\u001B[1;33m)\u001B[0m\u001B[1;33m:\u001B[0m\u001B[1;33m\u001B[0m\u001B[1;33m\u001B[0m\u001B[0m\n\u001B[1;32m-> 2791\u001B[1;33m             \u001B[1;32mreturn\u001B[0m \u001B[0mself\u001B[0m\u001B[1;33m.\u001B[0m\u001B[0m_getitem_bool_array\u001B[0m\u001B[1;33m(\u001B[0m\u001B[0mkey\u001B[0m\u001B[1;33m)\u001B[0m\u001B[1;33m\u001B[0m\u001B[1;33m\u001B[0m\u001B[0m\n\u001B[0m\u001B[0;32m   2792\u001B[0m \u001B[1;33m\u001B[0m\u001B[0m\n\u001B[0;32m   2793\u001B[0m         \u001B[1;31m# We are left with two options: a single key, and a collection of keys,\u001B[0m\u001B[1;33m\u001B[0m\u001B[1;33m\u001B[0m\u001B[1;33m\u001B[0m\u001B[0m\n",
      "\u001B[1;32mC:\\ProgramData\\Anaconda3\\lib\\site-packages\\pandas\\core\\frame.py\u001B[0m in \u001B[0;36m_getitem_bool_array\u001B[1;34m(self, key)\u001B[0m\n\u001B[0;32m   2843\u001B[0m         \u001B[0mkey\u001B[0m \u001B[1;33m=\u001B[0m \u001B[0mcheck_bool_indexer\u001B[0m\u001B[1;33m(\u001B[0m\u001B[0mself\u001B[0m\u001B[1;33m.\u001B[0m\u001B[0mindex\u001B[0m\u001B[1;33m,\u001B[0m \u001B[0mkey\u001B[0m\u001B[1;33m)\u001B[0m\u001B[1;33m\u001B[0m\u001B[1;33m\u001B[0m\u001B[0m\n\u001B[0;32m   2844\u001B[0m         \u001B[0mindexer\u001B[0m \u001B[1;33m=\u001B[0m \u001B[0mkey\u001B[0m\u001B[1;33m.\u001B[0m\u001B[0mnonzero\u001B[0m\u001B[1;33m(\u001B[0m\u001B[1;33m)\u001B[0m\u001B[1;33m[\u001B[0m\u001B[1;36m0\u001B[0m\u001B[1;33m]\u001B[0m\u001B[1;33m\u001B[0m\u001B[1;33m\u001B[0m\u001B[0m\n\u001B[1;32m-> 2845\u001B[1;33m         \u001B[1;32mreturn\u001B[0m \u001B[0mself\u001B[0m\u001B[1;33m.\u001B[0m\u001B[0m_take_with_is_copy\u001B[0m\u001B[1;33m(\u001B[0m\u001B[0mindexer\u001B[0m\u001B[1;33m,\u001B[0m \u001B[0maxis\u001B[0m\u001B[1;33m=\u001B[0m\u001B[1;36m0\u001B[0m\u001B[1;33m)\u001B[0m\u001B[1;33m\u001B[0m\u001B[1;33m\u001B[0m\u001B[0m\n\u001B[0m\u001B[0;32m   2846\u001B[0m \u001B[1;33m\u001B[0m\u001B[0m\n\u001B[0;32m   2847\u001B[0m     \u001B[1;32mdef\u001B[0m \u001B[0m_getitem_multilevel\u001B[0m\u001B[1;33m(\u001B[0m\u001B[0mself\u001B[0m\u001B[1;33m,\u001B[0m \u001B[0mkey\u001B[0m\u001B[1;33m)\u001B[0m\u001B[1;33m:\u001B[0m\u001B[1;33m\u001B[0m\u001B[1;33m\u001B[0m\u001B[0m\n",
      "\u001B[1;32mC:\\ProgramData\\Anaconda3\\lib\\site-packages\\pandas\\core\\generic.py\u001B[0m in \u001B[0;36m_take_with_is_copy\u001B[1;34m(self, indices, axis, **kwargs)\u001B[0m\n\u001B[0;32m   3407\u001B[0m         \u001B[0mSee\u001B[0m \u001B[0mthe\u001B[0m \u001B[0mdocstring\u001B[0m \u001B[0mof\u001B[0m\u001B[0;31m \u001B[0m\u001B[0;31m`\u001B[0m\u001B[0mtake\u001B[0m\u001B[0;31m`\u001B[0m \u001B[1;32mfor\u001B[0m \u001B[0mfull\u001B[0m \u001B[0mexplanation\u001B[0m \u001B[0mof\u001B[0m \u001B[0mthe\u001B[0m \u001B[0mparameters\u001B[0m\u001B[1;33m.\u001B[0m\u001B[1;33m\u001B[0m\u001B[1;33m\u001B[0m\u001B[0m\n\u001B[0;32m   3408\u001B[0m         \"\"\"\n\u001B[1;32m-> 3409\u001B[1;33m         \u001B[0mresult\u001B[0m \u001B[1;33m=\u001B[0m \u001B[0mself\u001B[0m\u001B[1;33m.\u001B[0m\u001B[0mtake\u001B[0m\u001B[1;33m(\u001B[0m\u001B[0mindices\u001B[0m\u001B[1;33m=\u001B[0m\u001B[0mindices\u001B[0m\u001B[1;33m,\u001B[0m \u001B[0maxis\u001B[0m\u001B[1;33m=\u001B[0m\u001B[0maxis\u001B[0m\u001B[1;33m,\u001B[0m \u001B[1;33m**\u001B[0m\u001B[0mkwargs\u001B[0m\u001B[1;33m)\u001B[0m\u001B[1;33m\u001B[0m\u001B[1;33m\u001B[0m\u001B[0m\n\u001B[0m\u001B[0;32m   3410\u001B[0m         \u001B[1;31m# Maybe set copy if we didn't actually change the index.\u001B[0m\u001B[1;33m\u001B[0m\u001B[1;33m\u001B[0m\u001B[1;33m\u001B[0m\u001B[0m\n\u001B[0;32m   3411\u001B[0m         \u001B[1;32mif\u001B[0m \u001B[1;32mnot\u001B[0m \u001B[0mresult\u001B[0m\u001B[1;33m.\u001B[0m\u001B[0m_get_axis\u001B[0m\u001B[1;33m(\u001B[0m\u001B[0maxis\u001B[0m\u001B[1;33m)\u001B[0m\u001B[1;33m.\u001B[0m\u001B[0mequals\u001B[0m\u001B[1;33m(\u001B[0m\u001B[0mself\u001B[0m\u001B[1;33m.\u001B[0m\u001B[0m_get_axis\u001B[0m\u001B[1;33m(\u001B[0m\u001B[0maxis\u001B[0m\u001B[1;33m)\u001B[0m\u001B[1;33m)\u001B[0m\u001B[1;33m:\u001B[0m\u001B[1;33m\u001B[0m\u001B[1;33m\u001B[0m\u001B[0m\n",
      "\u001B[1;32mC:\\ProgramData\\Anaconda3\\lib\\site-packages\\pandas\\core\\generic.py\u001B[0m in \u001B[0;36mtake\u001B[1;34m(self, indices, axis, is_copy, **kwargs)\u001B[0m\n\u001B[0;32m   3393\u001B[0m \u001B[1;33m\u001B[0m\u001B[0m\n\u001B[0;32m   3394\u001B[0m         new_data = self._data.take(\n\u001B[1;32m-> 3395\u001B[1;33m             \u001B[0mindices\u001B[0m\u001B[1;33m,\u001B[0m \u001B[0maxis\u001B[0m\u001B[1;33m=\u001B[0m\u001B[0mself\u001B[0m\u001B[1;33m.\u001B[0m\u001B[0m_get_block_manager_axis\u001B[0m\u001B[1;33m(\u001B[0m\u001B[0maxis\u001B[0m\u001B[1;33m)\u001B[0m\u001B[1;33m,\u001B[0m \u001B[0mverify\u001B[0m\u001B[1;33m=\u001B[0m\u001B[1;32mTrue\u001B[0m\u001B[1;33m\u001B[0m\u001B[1;33m\u001B[0m\u001B[0m\n\u001B[0m\u001B[0;32m   3396\u001B[0m         )\n\u001B[0;32m   3397\u001B[0m         \u001B[1;32mreturn\u001B[0m \u001B[0mself\u001B[0m\u001B[1;33m.\u001B[0m\u001B[0m_constructor\u001B[0m\u001B[1;33m(\u001B[0m\u001B[0mnew_data\u001B[0m\u001B[1;33m)\u001B[0m\u001B[1;33m.\u001B[0m\u001B[0m__finalize__\u001B[0m\u001B[1;33m(\u001B[0m\u001B[0mself\u001B[0m\u001B[1;33m)\u001B[0m\u001B[1;33m\u001B[0m\u001B[1;33m\u001B[0m\u001B[0m\n",
      "\u001B[1;32mC:\\ProgramData\\Anaconda3\\lib\\site-packages\\pandas\\core\\internals\\managers.py\u001B[0m in \u001B[0;36mtake\u001B[1;34m(self, indexer, axis, verify, convert)\u001B[0m\n\u001B[0;32m   1392\u001B[0m         \u001B[0mnew_labels\u001B[0m \u001B[1;33m=\u001B[0m \u001B[0mself\u001B[0m\u001B[1;33m.\u001B[0m\u001B[0maxes\u001B[0m\u001B[1;33m[\u001B[0m\u001B[0maxis\u001B[0m\u001B[1;33m]\u001B[0m\u001B[1;33m.\u001B[0m\u001B[0mtake\u001B[0m\u001B[1;33m(\u001B[0m\u001B[0mindexer\u001B[0m\u001B[1;33m)\u001B[0m\u001B[1;33m\u001B[0m\u001B[1;33m\u001B[0m\u001B[0m\n\u001B[0;32m   1393\u001B[0m         return self.reindex_indexer(\n\u001B[1;32m-> 1394\u001B[1;33m             \u001B[0mnew_axis\u001B[0m\u001B[1;33m=\u001B[0m\u001B[0mnew_labels\u001B[0m\u001B[1;33m,\u001B[0m \u001B[0mindexer\u001B[0m\u001B[1;33m=\u001B[0m\u001B[0mindexer\u001B[0m\u001B[1;33m,\u001B[0m \u001B[0maxis\u001B[0m\u001B[1;33m=\u001B[0m\u001B[0maxis\u001B[0m\u001B[1;33m,\u001B[0m \u001B[0mallow_dups\u001B[0m\u001B[1;33m=\u001B[0m\u001B[1;32mTrue\u001B[0m\u001B[1;33m\u001B[0m\u001B[1;33m\u001B[0m\u001B[0m\n\u001B[0m\u001B[0;32m   1395\u001B[0m         )\n\u001B[0;32m   1396\u001B[0m \u001B[1;33m\u001B[0m\u001B[0m\n",
      "\u001B[1;32mC:\\ProgramData\\Anaconda3\\lib\\site-packages\\pandas\\core\\internals\\managers.py\u001B[0m in \u001B[0;36mreindex_indexer\u001B[1;34m(self, new_axis, indexer, axis, fill_value, allow_dups, copy)\u001B[0m\n\u001B[0;32m   1270\u001B[0m         \u001B[0mnew_axes\u001B[0m \u001B[1;33m=\u001B[0m \u001B[0mlist\u001B[0m\u001B[1;33m(\u001B[0m\u001B[0mself\u001B[0m\u001B[1;33m.\u001B[0m\u001B[0maxes\u001B[0m\u001B[1;33m)\u001B[0m\u001B[1;33m\u001B[0m\u001B[1;33m\u001B[0m\u001B[0m\n\u001B[0;32m   1271\u001B[0m         \u001B[0mnew_axes\u001B[0m\u001B[1;33m[\u001B[0m\u001B[0maxis\u001B[0m\u001B[1;33m]\u001B[0m \u001B[1;33m=\u001B[0m \u001B[0mnew_axis\u001B[0m\u001B[1;33m\u001B[0m\u001B[1;33m\u001B[0m\u001B[0m\n\u001B[1;32m-> 1272\u001B[1;33m         \u001B[1;32mreturn\u001B[0m \u001B[0mtype\u001B[0m\u001B[1;33m(\u001B[0m\u001B[0mself\u001B[0m\u001B[1;33m)\u001B[0m\u001B[1;33m(\u001B[0m\u001B[0mnew_blocks\u001B[0m\u001B[1;33m,\u001B[0m \u001B[0mnew_axes\u001B[0m\u001B[1;33m)\u001B[0m\u001B[1;33m\u001B[0m\u001B[1;33m\u001B[0m\u001B[0m\n\u001B[0m\u001B[0;32m   1273\u001B[0m \u001B[1;33m\u001B[0m\u001B[0m\n\u001B[0;32m   1274\u001B[0m     \u001B[1;32mdef\u001B[0m \u001B[0m_slice_take_blocks_ax0\u001B[0m\u001B[1;33m(\u001B[0m\u001B[0mself\u001B[0m\u001B[1;33m,\u001B[0m \u001B[0mslice_or_indexer\u001B[0m\u001B[1;33m,\u001B[0m \u001B[0mfill_tuple\u001B[0m\u001B[1;33m=\u001B[0m\u001B[1;32mNone\u001B[0m\u001B[1;33m)\u001B[0m\u001B[1;33m:\u001B[0m\u001B[1;33m\u001B[0m\u001B[1;33m\u001B[0m\u001B[0m\n",
      "\u001B[1;32mC:\\ProgramData\\Anaconda3\\lib\\site-packages\\pandas\\core\\internals\\managers.py\u001B[0m in \u001B[0;36m__init__\u001B[1;34m(self, blocks, axes, do_integrity_check)\u001B[0m\n\u001B[0;32m    141\u001B[0m         \u001B[0mself\u001B[0m\u001B[1;33m.\u001B[0m\u001B[0m_consolidate_check\u001B[0m\u001B[1;33m(\u001B[0m\u001B[1;33m)\u001B[0m\u001B[1;33m\u001B[0m\u001B[1;33m\u001B[0m\u001B[0m\n\u001B[0;32m    142\u001B[0m \u001B[1;33m\u001B[0m\u001B[0m\n\u001B[1;32m--> 143\u001B[1;33m         \u001B[0mself\u001B[0m\u001B[1;33m.\u001B[0m\u001B[0m_rebuild_blknos_and_blklocs\u001B[0m\u001B[1;33m(\u001B[0m\u001B[1;33m)\u001B[0m\u001B[1;33m\u001B[0m\u001B[1;33m\u001B[0m\u001B[0m\n\u001B[0m\u001B[0;32m    144\u001B[0m \u001B[1;33m\u001B[0m\u001B[0m\n\u001B[0;32m    145\u001B[0m     \u001B[1;32mdef\u001B[0m \u001B[0mmake_empty\u001B[0m\u001B[1;33m(\u001B[0m\u001B[0mself\u001B[0m\u001B[1;33m,\u001B[0m \u001B[0maxes\u001B[0m\u001B[1;33m=\u001B[0m\u001B[1;32mNone\u001B[0m\u001B[1;33m)\u001B[0m\u001B[1;33m:\u001B[0m\u001B[1;33m\u001B[0m\u001B[1;33m\u001B[0m\u001B[0m\n",
      "\u001B[1;32mC:\\ProgramData\\Anaconda3\\lib\\site-packages\\pandas\\core\\internals\\managers.py\u001B[0m in \u001B[0;36m_rebuild_blknos_and_blklocs\u001B[1;34m(self)\u001B[0m\n\u001B[0;32m    222\u001B[0m             \u001B[0mrl\u001B[0m \u001B[1;33m=\u001B[0m \u001B[0mblk\u001B[0m\u001B[1;33m.\u001B[0m\u001B[0mmgr_locs\u001B[0m\u001B[1;33m\u001B[0m\u001B[1;33m\u001B[0m\u001B[0m\n\u001B[0;32m    223\u001B[0m             \u001B[0mnew_blknos\u001B[0m\u001B[1;33m[\u001B[0m\u001B[0mrl\u001B[0m\u001B[1;33m.\u001B[0m\u001B[0mindexer\u001B[0m\u001B[1;33m]\u001B[0m \u001B[1;33m=\u001B[0m \u001B[0mblkno\u001B[0m\u001B[1;33m\u001B[0m\u001B[1;33m\u001B[0m\u001B[0m\n\u001B[1;32m--> 224\u001B[1;33m             \u001B[0mnew_blklocs\u001B[0m\u001B[1;33m[\u001B[0m\u001B[0mrl\u001B[0m\u001B[1;33m.\u001B[0m\u001B[0mindexer\u001B[0m\u001B[1;33m]\u001B[0m \u001B[1;33m=\u001B[0m \u001B[0mnp\u001B[0m\u001B[1;33m.\u001B[0m\u001B[0marange\u001B[0m\u001B[1;33m(\u001B[0m\u001B[0mlen\u001B[0m\u001B[1;33m(\u001B[0m\u001B[0mrl\u001B[0m\u001B[1;33m)\u001B[0m\u001B[1;33m)\u001B[0m\u001B[1;33m\u001B[0m\u001B[1;33m\u001B[0m\u001B[0m\n\u001B[0m\u001B[0;32m    225\u001B[0m \u001B[1;33m\u001B[0m\u001B[0m\n\u001B[0;32m    226\u001B[0m         \u001B[1;32mif\u001B[0m \u001B[1;33m(\u001B[0m\u001B[0mnew_blknos\u001B[0m \u001B[1;33m==\u001B[0m \u001B[1;33m-\u001B[0m\u001B[1;36m1\u001B[0m\u001B[1;33m)\u001B[0m\u001B[1;33m.\u001B[0m\u001B[0many\u001B[0m\u001B[1;33m(\u001B[0m\u001B[1;33m)\u001B[0m\u001B[1;33m:\u001B[0m\u001B[1;33m\u001B[0m\u001B[1;33m\u001B[0m\u001B[0m\n",
      "\u001B[1;31mKeyboardInterrupt\u001B[0m: "
     ]
    }
   ],
   "source": [
    "model.fit(X=data, eval_X=test, original_item_list=['I1', 'I2', 'I3', 'I4', 'I5', 'I6', 'I7', 'I8', 'I9', 'I10', 'I11', 'I12'], original_user_list=['U1', 'U2', 'U3', 'U4', 'U5'], saved_path='data/small-item-set-coselection.pkl')"
   ]
  },
  {
   "cell_type": "code",
   "execution_count": null,
   "metadata": {
    "pycharm": {
     "is_executing": true,
     "name": "#%%\n"
    }
   },
   "outputs": [],
   "source": [
    "model.predict_estimation(user_to_predict=['U1'], item_to_predict=['I1', 'I2'])"
   ]
  },
  {
   "cell_type": "code",
   "execution_count": 6,
   "metadata": {
    "pycharm": {
     "name": "#%%\n"
    }
   },
   "outputs": [],
   "source": [
    "# read sobazaar data\n",
    "data = pd.read_csv('data/sb_unique_actions_20.csv')\n",
    "# change column name\n",
    "data.columns = ['ItemID', 'UserID', 'Action', 'Action_Date', 'Action_Time',\n",
    "       'SessionID']\n",
    "\n",
    "data = data.sample(frac=0.1) # TODO: test small data"
   ]
  },
  {
   "cell_type": "code",
   "execution_count": 7,
   "metadata": {
    "pycharm": {
     "name": "#%%\n"
    }
   },
   "outputs": [],
   "source": [
    "# the best way is to split the data with a time manner - from sklearn.model_selection import TimeSeriesSplit\n",
    "# but first let's do it in a simple way\n",
    "\n",
    "original_item_list = sorted(set(data.ItemID))\n",
    "original_user_list = sorted(set(data.UserID))\n",
    "\n",
    "data_without_target = data[data.Action != 'P']\n",
    "data_only_with_target = data[data.Action == 'P']"
   ]
  },
  {
   "cell_type": "code",
   "execution_count": 8,
   "metadata": {
    "pycharm": {
     "name": "#%%\n"
    }
   },
   "outputs": [
    {
     "data": {
      "text/plain": [
       "2"
      ]
     },
     "execution_count": 8,
     "metadata": {},
     "output_type": "execute_result"
    }
   ],
   "source": [
    "# split the data_only_with_target into 5 folds\n",
    "kf = KFold(n_splits=2,shuffle=True, random_state=0)\n",
    "kf.get_n_splits(X=data_only_with_target)"
   ]
  },
  {
   "cell_type": "code",
   "execution_count": null,
   "metadata": {
    "pycharm": {
     "is_executing": true,
     "name": "#%%\n"
    }
   },
   "outputs": [
    {
     "name": "stderr",
     "output_type": "stream",
     "text": [
      "C:\\ProgramData\\Anaconda3\\lib\\site-packages\\pandas\\core\\generic.py:5303: SettingWithCopyWarning: \n",
      "A value is trying to be set on a copy of a slice from a DataFrame.\n",
      "Try using .loc[row_indexer,col_indexer] = value instead\n",
      "\n",
      "See the caveats in the documentation: https://pandas.pydata.org/pandas-docs/stable/user_guide/indexing.html#returning-a-view-versus-a-copy\n",
      "  self[name] = value\n",
      "\n",
      "  0%|          | 0/2872 [00:00<?, ?it/s]\n",
      "  1%|          | 34/2872 [00:00<00:08, 336.83it/s]\n",
      "  2%|▏         | 53/2872 [00:00<00:10, 272.33it/s]\n",
      "  3%|▎         | 86/2872 [00:00<00:09, 285.95it/s]\n",
      "  4%|▍         | 120/2872 [00:00<00:09, 298.73it/s]\n",
      "  5%|▌         | 155/2872 [00:00<00:08, 310.85it/s]\n",
      "  7%|▋         | 189/2872 [00:00<00:08, 318.21it/s]\n",
      "  8%|▊         | 221/2872 [00:00<00:08, 316.90it/s]\n",
      "  9%|▊         | 251/2872 [00:00<00:08, 304.12it/s]\n",
      " 10%|▉         | 280/2872 [00:00<00:09, 285.63it/s]\n",
      " 11%|█         | 313/2872 [00:01<00:08, 295.28it/s]\n",
      " 12%|█▏        | 347/2872 [00:01<00:08, 305.79it/s]\n",
      " 13%|█▎        | 381/2872 [00:01<00:07, 312.75it/s]\n",
      " 14%|█▍        | 415/2872 [00:01<00:07, 318.70it/s]\n",
      " 16%|█▌        | 450/2872 [00:01<00:07, 324.83it/s]\n",
      " 17%|█▋        | 484/2872 [00:01<00:07, 327.37it/s]\n",
      " 18%|█▊        | 517/2872 [00:01<00:07, 311.51it/s]\n",
      " 19%|█▉        | 551/2872 [00:01<00:07, 318.69it/s]\n",
      " 20%|██        | 584/2872 [00:01<00:07, 320.18it/s]\n",
      " 21%|██▏       | 617/2872 [00:01<00:07, 306.89it/s]\n",
      " 23%|██▎       | 648/2872 [00:02<00:07, 300.72it/s]\n",
      " 24%|██▎       | 679/2872 [00:02<00:07, 300.85it/s]\n",
      " 25%|██▍       | 710/2872 [00:02<00:07, 300.05it/s]\n",
      " 26%|██▌       | 741/2872 [00:02<00:07, 286.25it/s]\n",
      " 27%|██▋       | 770/2872 [00:02<00:07, 282.38it/s]\n",
      " 28%|██▊       | 801/2872 [00:02<00:07, 289.37it/s]\n",
      " 29%|██▉       | 832/2872 [00:02<00:06, 292.80it/s]\n",
      " 30%|███       | 862/2872 [00:02<00:07, 281.69it/s]\n",
      " 31%|███       | 891/2872 [00:02<00:07, 282.52it/s]\n",
      " 32%|███▏      | 925/2872 [00:03<00:06, 295.32it/s]\n",
      " 33%|███▎      | 958/2872 [00:03<00:06, 304.14it/s]\n",
      " 35%|███▍      | 991/2872 [00:03<00:06, 308.90it/s]\n",
      " 36%|███▌      | 1023/2872 [00:03<00:05, 310.39it/s]\n",
      " 37%|███▋      | 1056/2872 [00:03<00:05, 313.36it/s]\n",
      " 38%|███▊      | 1091/2872 [00:03<00:05, 321.79it/s]\n",
      " 39%|███▉      | 1124/2872 [00:03<00:05, 321.44it/s]\n",
      " 40%|████      | 1157/2872 [00:03<00:05, 305.15it/s]\n",
      " 41%|████▏     | 1190/2872 [00:03<00:05, 310.49it/s]\n",
      " 43%|████▎     | 1224/2872 [00:03<00:05, 317.95it/s]\n",
      " 44%|████▎     | 1256/2872 [00:04<00:05, 317.67it/s]\n",
      " 45%|████▍     | 1288/2872 [00:04<00:04, 317.47it/s]\n",
      " 46%|████▌     | 1320/2872 [00:04<00:05, 306.40it/s]\n",
      " 47%|████▋     | 1353/2872 [00:04<00:04, 312.28it/s]\n",
      " 48%|████▊     | 1386/2872 [00:04<00:04, 315.63it/s]\n",
      " 49%|████▉     | 1421/2872 [00:04<00:04, 322.56it/s]\n",
      " 51%|█████     | 1456/2872 [00:04<00:04, 329.45it/s]\n",
      " 52%|█████▏    | 1491/2872 [00:04<00:04, 333.50it/s]\n",
      " 53%|█████▎    | 1525/2872 [00:04<00:04, 327.72it/s]\n",
      " 54%|█████▍    | 1558/2872 [00:05<00:04, 321.74it/s]\n",
      " 55%|█████▌    | 1591/2872 [00:05<00:04, 306.19it/s]\n",
      " 57%|█████▋    | 1623/2872 [00:05<00:04, 309.36it/s]\n",
      " 58%|█████▊    | 1655/2872 [00:05<00:03, 310.71it/s]\n",
      " 59%|█████▊    | 1687/2872 [00:05<00:03, 312.56it/s]\n",
      " 60%|█████▉    | 1719/2872 [00:05<00:03, 306.68it/s]\n",
      " 61%|██████    | 1752/2872 [00:05<00:03, 310.72it/s]\n",
      " 62%|██████▏   | 1784/2872 [00:05<00:03, 296.93it/s]\n",
      " 63%|██████▎   | 1817/2872 [00:05<00:03, 305.33it/s]\n",
      " 64%|██████▍   | 1851/2872 [00:05<00:03, 311.55it/s]\n",
      " 66%|██████▌   | 1883/2872 [00:06<00:03, 313.18it/s]\n",
      " 67%|██████▋   | 1915/2872 [00:06<00:03, 290.37it/s]\n",
      " 68%|██████▊   | 1945/2872 [00:06<00:03, 290.69it/s]\n",
      " 69%|██████▉   | 1975/2872 [00:06<00:03, 290.91it/s]\n",
      " 70%|██████▉   | 2008/2872 [00:06<00:02, 299.22it/s]\n",
      " 71%|███████   | 2039/2872 [00:06<00:02, 300.66it/s]\n",
      " 72%|███████▏  | 2073/2872 [00:06<00:02, 309.81it/s]\n",
      " 73%|███████▎  | 2108/2872 [00:06<00:02, 319.16it/s]\n",
      " 75%|███████▍  | 2141/2872 [00:06<00:02, 298.76it/s]\n",
      " 76%|███████▌  | 2172/2872 [00:07<00:02, 289.42it/s]\n",
      " 77%|███████▋  | 2204/2872 [00:07<00:02, 296.35it/s]\n",
      " 78%|███████▊  | 2234/2872 [00:07<00:02, 290.59it/s]\n",
      " 79%|███████▉  | 2268/2872 [00:07<00:02, 301.46it/s]\n",
      " 80%|████████  | 2302/2872 [00:07<00:01, 311.25it/s]\n",
      " 81%|████████▏ | 2336/2872 [00:07<00:01, 316.74it/s]\n",
      " 82%|████████▏ | 2368/2872 [00:07<00:01, 312.19it/s]\n",
      " 84%|████████▎ | 2402/2872 [00:07<00:01, 317.41it/s]\n",
      " 85%|████████▍ | 2434/2872 [00:07<00:01, 298.64it/s]\n",
      " 86%|████████▌ | 2465/2872 [00:08<00:01, 294.28it/s]\n",
      " 87%|████████▋ | 2495/2872 [00:08<00:01, 290.86it/s]\n",
      " 88%|████████▊ | 2527/2872 [00:08<00:01, 296.58it/s]\n",
      " 89%|████████▉ | 2557/2872 [00:08<00:01, 293.29it/s]\n",
      " 90%|█████████ | 2590/2872 [00:08<00:00, 301.80it/s]\n",
      " 91%|█████████▏| 2621/2872 [00:08<00:00, 295.55it/s]\n",
      " 92%|█████████▏| 2651/2872 [00:08<00:00, 272.66it/s]\n",
      " 93%|█████████▎| 2685/2872 [00:08<00:00, 289.19it/s]\n",
      " 95%|█████████▍| 2719/2872 [00:08<00:00, 302.01it/s]\n",
      " 96%|█████████▌| 2752/2872 [00:08<00:00, 307.35it/s]\n",
      " 97%|█████████▋| 2784/2872 [00:09<00:00, 308.39it/s]\n",
      " 98%|█████████▊| 2817/2872 [00:09<00:00, 312.83it/s]\n",
      " 99%|█████████▉| 2850/2872 [00:09<00:00, 316.91it/s]\n",
      "100%|██████████| 2872/2872 [00:09<00:00, 306.65it/s]\n",
      "  0%|          | 0/2254 [00:00<?, ?it/s]\n",
      "  0%|          | 1/2254 [00:01<45:13,  1.20s/it]\n",
      "  0%|          | 2/2254 [00:02<44:41,  1.19s/it]\n",
      "  0%|          | 3/2254 [00:03<44:42,  1.19s/it]\n",
      "  0%|          | 4/2254 [00:04<44:55,  1.20s/it]\n",
      "  0%|          | 5/2254 [00:05<44:29,  1.19s/it]\n",
      "  0%|          | 6/2254 [00:07<43:54,  1.17s/it]\n",
      "  0%|          | 7/2254 [00:08<43:58,  1.17s/it]\n",
      "  0%|          | 8/2254 [00:09<44:11,  1.18s/it]\n",
      "  0%|          | 9/2254 [00:10<44:21,  1.19s/it]\n",
      "  0%|          | 10/2254 [00:11<44:20,  1.19s/it]\n",
      "  0%|          | 11/2254 [00:13<44:26,  1.19s/it]\n",
      "  1%|          | 12/2254 [00:14<45:03,  1.21s/it]\n",
      "  1%|          | 13/2254 [00:16<53:39,  1.44s/it]\n",
      "  1%|          | 14/2254 [00:17<52:34,  1.41s/it]\n",
      "  1%|          | 15/2254 [00:18<50:40,  1.36s/it]\n",
      "  1%|          | 16/2254 [00:20<49:50,  1.34s/it]\n",
      "  1%|          | 17/2254 [00:21<49:20,  1.32s/it]\n",
      "  1%|          | 18/2254 [00:23<53:11,  1.43s/it]\n",
      "  1%|          | 19/2254 [00:24<53:01,  1.42s/it]\n",
      "  1%|          | 20/2254 [00:26<55:18,  1.49s/it]\n",
      "  1%|          | 21/2254 [00:27<56:59,  1.53s/it]\n",
      "  1%|          | 22/2254 [00:28<53:21,  1.43s/it]\n",
      "  1%|          | 23/2254 [00:30<50:44,  1.36s/it]\n",
      "  1%|          | 24/2254 [00:31<49:18,  1.33s/it]\n",
      "  1%|          | 25/2254 [00:32<47:22,  1.28s/it]\n",
      "  1%|          | 26/2254 [00:33<46:25,  1.25s/it]\n",
      "  1%|          | 27/2254 [00:34<46:11,  1.24s/it]\n",
      "  1%|          | 28/2254 [00:36<46:30,  1.25s/it]\n",
      "  1%|▏         | 29/2254 [00:37<46:30,  1.25s/it]\n",
      "  1%|▏         | 30/2254 [00:38<45:25,  1.23s/it]\n",
      "  1%|▏         | 31/2254 [00:39<44:46,  1.21s/it]\n",
      "  1%|▏         | 32/2254 [00:41<45:04,  1.22s/it]\n",
      "  1%|▏         | 33/2254 [00:42<45:52,  1.24s/it]\n",
      "  2%|▏         | 34/2254 [00:43<44:48,  1.21s/it]\n",
      "  2%|▏         | 35/2254 [00:44<44:46,  1.21s/it]\n",
      "  2%|▏         | 36/2254 [00:45<44:26,  1.20s/it]\n",
      "  2%|▏         | 37/2254 [00:47<43:49,  1.19s/it]\n",
      "  2%|▏         | 38/2254 [00:48<43:56,  1.19s/it]\n",
      "  2%|▏         | 39/2254 [00:49<44:19,  1.20s/it]\n",
      "  2%|▏         | 40/2254 [00:50<44:18,  1.20s/it]\n",
      "  2%|▏         | 41/2254 [00:51<44:20,  1.20s/it]\n",
      "  2%|▏         | 42/2254 [00:53<44:21,  1.20s/it]\n",
      "  2%|▏         | 43/2254 [00:54<43:57,  1.19s/it]\n",
      "  2%|▏         | 44/2254 [00:55<43:26,  1.18s/it]\n",
      "  2%|▏         | 45/2254 [00:56<44:12,  1.20s/it]\n",
      "  2%|▏         | 46/2254 [00:57<44:04,  1.20s/it]\n",
      "  2%|▏         | 47/2254 [00:59<43:52,  1.19s/it]\n",
      "  2%|▏         | 48/2254 [01:00<44:22,  1.21s/it]\n",
      "  2%|▏         | 49/2254 [01:01<43:47,  1.19s/it]\n",
      "  2%|▏         | 50/2254 [01:02<43:39,  1.19s/it]\n",
      "  2%|▏         | 51/2254 [01:03<43:26,  1.18s/it]\n",
      "  2%|▏         | 52/2254 [01:04<43:15,  1.18s/it]\n",
      "  2%|▏         | 53/2254 [01:06<42:45,  1.17s/it]\n",
      "  2%|▏         | 54/2254 [01:07<43:13,  1.18s/it]\n",
      "  2%|▏         | 55/2254 [01:08<44:02,  1.20s/it]\n",
      "  2%|▏         | 56/2254 [01:09<43:45,  1.19s/it]\n",
      "  3%|▎         | 57/2254 [01:10<43:42,  1.19s/it]\n",
      "  3%|▎         | 58/2254 [01:12<44:00,  1.20s/it]\n",
      "  3%|▎         | 59/2254 [01:13<45:15,  1.24s/it]\n",
      "  3%|▎         | 60/2254 [01:14<44:59,  1.23s/it]\n",
      "  3%|▎         | 61/2254 [01:15<44:36,  1.22s/it]\n",
      "  3%|▎         | 62/2254 [01:17<44:32,  1.22s/it]\n",
      "  3%|▎         | 63/2254 [01:18<43:52,  1.20s/it]\n",
      "  3%|▎         | 64/2254 [01:19<49:14,  1.35s/it]\n",
      "  3%|▎         | 65/2254 [01:21<52:20,  1.43s/it]"
     ]
    },
    {
     "name": "stdout",
     "output_type": "stream",
     "text": [
      "Calculate auxiliary-target correlation\n",
      "Generate Itemset Coselection\n"
     ]
    }
   ],
   "source": [
    "cnt = 0\n",
    "for train_index, test_index in kf.split(X=data_only_with_target):\n",
    "    # build train and test data\n",
    "    train_data = pd.concat([data_only_with_target.iloc[train_index], data_without_target])\n",
    "    test_data = data_only_with_target.iloc[test_index]\n",
    "\n",
    "    # start a BPRH model\n",
    "    model = bprH(dim=50, omega=1000, rho=1, lambda_u=0.5, lambda_v=0.5, lambda_b=0.5, gamma=0.01, random_state=20200704, num_iter=10000)\n",
    "\n",
    "    model.fit(X=train_data, eval_X=test_data, original_item_list=original_item_list, original_user_list=original_user_list, saved_path='data/item-set-coselection-'+str(cnt)+'.pkl')\n",
    "    cnt += 1"
   ]
  },
  {
   "cell_type": "code",
   "execution_count": 7,
   "metadata": {
    "pycharm": {
     "name": "#%%\n"
    }
   },
   "outputs": [],
   "source": [
    "train_data = pd.concat([data_only_with_target.iloc[train_index], data_without_target])\n",
    "test_data = data_only_with_target.iloc[test_index]"
   ]
  },
  {
   "cell_type": "code",
   "execution_count": null,
   "metadata": {
    "pycharm": {
     "is_executing": true,
     "name": "#%%\n"
    }
   },
   "outputs": [],
   "source": [
    "# start a BPRH model\n",
    "model = bprH(dim=50, omega=1000, rho=1, lambda_u=0.1, lambda_v=0.1, lambda_b=0.1, gamma=0.001, random_state=20200704)\n",
    "\n",
    "model.fit(X=train_data, original_item_list=original_item_list, original_user_list=original_user_list, num_iter=10000, saved_path='data/item-set-coselection-'+str(cnt)+'.pkl')\n",
    "cnt += 1"
   ]
  },
  {
   "cell_type": "code",
   "execution_count": 13,
   "metadata": {
    "pycharm": {
     "name": "#%%\n"
    }
   },
   "outputs": [],
   "source": [
    "user_to_predict = sorted(set(test_data.UserID))"
   ]
  },
  {
   "cell_type": "code",
   "execution_count": 9,
   "metadata": {
    "pycharm": {
     "name": "#%%\n"
    }
   },
   "outputs": [],
   "source": [
    "model = load_model(load_path='bprH_model.pkl')"
   ]
  },
  {
   "cell_type": "code",
   "execution_count": 14,
   "metadata": {
    "pycharm": {
     "name": "#%%\n"
    }
   },
   "outputs": [
    {
     "name": "stdout",
     "output_type": "stream",
     "text": [
      "Build User's Purchased Item Dict & Rec List\n"
     ]
    },
    {
     "name": "stderr",
     "output_type": "stream",
     "text": [
      "\n",
      "  0%|          | 0/1271 [00:00<?, ?it/s]C:\\ProgramData\\Anaconda3\\lib\\site-packages\\pandas\\core\\ops\\array_ops.py:253: FutureWarning: elementwise comparison failed; returning scalar instead, but in the future will perform elementwise comparison\n",
      "  res_values = method(rvalues)\n"
     ]
    },
    {
     "ename": "IndexError",
     "evalue": "only integers, slices (`:`), ellipsis (`...`), numpy.newaxis (`None`) and integer or boolean arrays are valid indices",
     "output_type": "error",
     "traceback": [
      "\u001B[1;31m---------------------------------------------------------------------------\u001B[0m",
      "\u001B[1;31mIndexError\u001B[0m                                Traceback (most recent call last)",
      "\u001B[1;32m<ipython-input-14-d26485850d3a>\u001B[0m in \u001B[0;36m<module>\u001B[1;34m\u001B[0m\n\u001B[1;32m----> 1\u001B[1;33m \u001B[0mmodel\u001B[0m\u001B[1;33m.\u001B[0m\u001B[0mscoring\u001B[0m\u001B[1;33m(\u001B[0m\u001B[0mground_truth\u001B[0m\u001B[1;33m=\u001B[0m\u001B[0mtest_data\u001B[0m\u001B[1;33m,\u001B[0m \u001B[0mK\u001B[0m\u001B[1;33m=\u001B[0m\u001B[1;36m5\u001B[0m\u001B[1;33m)\u001B[0m\u001B[1;33m\u001B[0m\u001B[1;33m\u001B[0m\u001B[0m\n\u001B[0m",
      "\u001B[1;32mD:\\OneDrive - The University of Texas at Dallas\\UTD MIS PhD YXL180111\\2020 Summer\\Research\\BPR\\BPRH\\bprH.py\u001B[0m in \u001B[0;36mscoring\u001B[1;34m(self, ground_truth, K, user_to_eval, y)\u001B[0m\n\u001B[0;32m    357\u001B[0m         \u001B[0muser_to_eval\u001B[0m \u001B[1;33m=\u001B[0m \u001B[0msorted\u001B[0m\u001B[1;33m(\u001B[0m\u001B[0mset\u001B[0m\u001B[1;33m(\u001B[0m\u001B[0muser_to_eval\u001B[0m\u001B[1;33m)\u001B[0m\u001B[1;33m)\u001B[0m\u001B[1;33m\u001B[0m\u001B[1;33m\u001B[0m\u001B[0m\n\u001B[0;32m    358\u001B[0m         \u001B[1;31m# get top K recommendation list\u001B[0m\u001B[1;33m\u001B[0m\u001B[1;33m\u001B[0m\u001B[1;33m\u001B[0m\u001B[0m\n\u001B[1;32m--> 359\u001B[1;33m         \u001B[0mrec_list\u001B[0m \u001B[1;33m=\u001B[0m \u001B[0mself\u001B[0m\u001B[1;33m.\u001B[0m\u001B[0mrecommend\u001B[0m\u001B[1;33m(\u001B[0m\u001B[0muser_to_recommend\u001B[0m\u001B[1;33m=\u001B[0m\u001B[0muser_to_eval\u001B[0m\u001B[1;33m,\u001B[0m \u001B[0mK\u001B[0m\u001B[1;33m=\u001B[0m\u001B[0mK\u001B[0m\u001B[1;33m)\u001B[0m\u001B[1;33m\u001B[0m\u001B[1;33m\u001B[0m\u001B[0m\n\u001B[0m\u001B[0;32m    360\u001B[0m         \u001B[0mscoring_list\u001B[0m \u001B[1;33m=\u001B[0m \u001B[1;33m[\u001B[0m\u001B[1;33m]\u001B[0m\u001B[1;33m\u001B[0m\u001B[1;33m\u001B[0m\u001B[0m\n\u001B[0;32m    361\u001B[0m         \u001B[1;31m# clean ground truth\u001B[0m\u001B[1;33m\u001B[0m\u001B[1;33m\u001B[0m\u001B[1;33m\u001B[0m\u001B[0m\n",
      "\u001B[1;32mD:\\OneDrive - The University of Texas at Dallas\\UTD MIS PhD YXL180111\\2020 Summer\\Research\\BPR\\BPRH\\bprH.py\u001B[0m in \u001B[0;36mrecommend\u001B[1;34m(self, user_to_recommend, K)\u001B[0m\n\u001B[0;32m    327\u001B[0m         \u001B[1;32mfor\u001B[0m \u001B[0mu\u001B[0m \u001B[1;32min\u001B[0m \u001B[0muser_set_bar\u001B[0m\u001B[1;33m:\u001B[0m\u001B[1;33m\u001B[0m\u001B[1;33m\u001B[0m\u001B[0m\n\u001B[0;32m    328\u001B[0m             \u001B[0muser_purchased_item\u001B[0m\u001B[1;33m[\u001B[0m\u001B[0mu\u001B[0m\u001B[1;33m]\u001B[0m \u001B[1;33m=\u001B[0m \u001B[0mset\u001B[0m\u001B[1;33m(\u001B[0m\u001B[0mself\u001B[0m\u001B[1;33m.\u001B[0m\u001B[0mtrain_data\u001B[0m\u001B[1;33m[\u001B[0m\u001B[1;33m(\u001B[0m\u001B[0mself\u001B[0m\u001B[1;33m.\u001B[0m\u001B[0mtrain_data\u001B[0m\u001B[1;33m.\u001B[0m\u001B[0mUserID\u001B[0m \u001B[1;33m==\u001B[0m \u001B[0mu\u001B[0m\u001B[1;33m)\u001B[0m \u001B[1;33m&\u001B[0m \u001B[1;33m(\u001B[0m\u001B[0mself\u001B[0m\u001B[1;33m.\u001B[0m\u001B[0mtrain_data\u001B[0m\u001B[1;33m.\u001B[0m\u001B[0mAction\u001B[0m \u001B[1;33m==\u001B[0m \u001B[1;34m'P'\u001B[0m\u001B[1;33m)\u001B[0m\u001B[1;33m]\u001B[0m\u001B[1;33m.\u001B[0m\u001B[0mItemID\u001B[0m\u001B[1;33m)\u001B[0m\u001B[1;33m\u001B[0m\u001B[1;33m\u001B[0m\u001B[0m\n\u001B[1;32m--> 329\u001B[1;33m             \u001B[0mest_pref_of_u\u001B[0m \u001B[1;33m=\u001B[0m \u001B[0mestimated_pref\u001B[0m\u001B[1;33m[\u001B[0m\u001B[0mu\u001B[0m\u001B[1;33m,\u001B[0m \u001B[1;33m:\u001B[0m\u001B[1;33m]\u001B[0m\u001B[1;33m\u001B[0m\u001B[1;33m\u001B[0m\u001B[0m\n\u001B[0m\u001B[0;32m    330\u001B[0m             \u001B[1;31m#\u001B[0m\u001B[1;33m\u001B[0m\u001B[1;33m\u001B[0m\u001B[1;33m\u001B[0m\u001B[0m\n\u001B[0;32m    331\u001B[0m             \u001B[0mest_pref_sort_index\u001B[0m \u001B[1;33m=\u001B[0m \u001B[0mest_pref_of_u\u001B[0m\u001B[1;33m.\u001B[0m\u001B[0margsort\u001B[0m\u001B[1;33m(\u001B[0m\u001B[1;33m)\u001B[0m\u001B[1;33m[\u001B[0m\u001B[1;33m:\u001B[0m\u001B[1;33m:\u001B[0m\u001B[1;33m-\u001B[0m\u001B[1;36m1\u001B[0m\u001B[1;33m]\u001B[0m\u001B[1;33m\u001B[0m\u001B[1;33m\u001B[0m\u001B[0m\n",
      "\u001B[1;31mIndexError\u001B[0m: only integers, slices (`:`), ellipsis (`...`), numpy.newaxis (`None`) and integer or boolean arrays are valid indices"
     ]
    }
   ],
   "source": [
    "model.scoring(ground_truth=test_data, K=5)"
   ]
  }
 ],
 "metadata": {
  "kernelspec": {
   "display_name": "Python 3",
   "language": "python",
   "name": "python3"
  },
  "language_info": {
   "codemirror_mode": {
    "name": "ipython",
    "version": 3
   },
   "file_extension": ".py",
   "mimetype": "text/x-python",
   "name": "python",
   "nbconvert_exporter": "python",
   "pygments_lexer": "ipython3",
   "version": "3.7.4"
  }
 },
 "nbformat": 4,
 "nbformat_minor": 1
}