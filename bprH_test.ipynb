{
 "cells": [
  {
   "cell_type": "code",
   "execution_count": 1,
   "metadata": {
    "collapsed": true
   },
   "outputs": [],
   "source": [
    "import math\n",
    "from bprH import bprH, adv_index, save_model, load_model\n",
    "import pandas as pd\n",
    "from sklearn.model_selection import KFold\n",
    "import numpy as np\n",
    "import cProfile as profile\n",
    "\n",
    "%load_ext autoreload\n",
    "%autoreload 2"
   ]
  },
  {
   "cell_type": "code",
   "execution_count": 2,
   "metadata": {
    "pycharm": {
     "name": "#%%\n"
    }
   },
   "outputs": [],
   "source": [
    "def behavior_generator(num_user = 10, num_item=10):\n",
    "    data = []\n",
    "    for u in range(num_user):\n",
    "        for i in range(num_item):\n",
    "            p = np.random.uniform(0,1)\n",
    "            if 0.7 <= p:\n",
    "                data.append(['U' + str(u),'I' + str(i),'P'])\n",
    "                data.append(['U' + str(u),'I' + str(i),'V'])\n",
    "            elif 0.3 <= p:\n",
    "                data.append(['U' + str(u),'I' + str(i),'V'])\n",
    "    data = pd.DataFrame(data, columns=['UserID', 'ItemID', 'Action'])\n",
    "    return data"
   ]
  },
  {
   "cell_type": "code",
   "execution_count": 3,
   "outputs": [],
   "source": [
    "data = behavior_generator(num_user=20, num_item=20)"
   ],
   "metadata": {
    "collapsed": false,
    "pycharm": {
     "name": "#%%\n"
    }
   }
  },
  {
   "cell_type": "code",
   "execution_count": 4,
   "outputs": [],
   "source": [
    "# the best way is to split the data with a time manner - from sklearn.model_selection import TimeSeriesSplit\n",
    "# but first let's do it in a simple way\n",
    "\n",
    "original_item_list = sorted(set(data.ItemID))\n",
    "original_user_list = sorted(set(data.UserID))\n",
    "\n",
    "data_without_target = data[data.Action != 'P']\n",
    "data_only_with_target = data[data.Action == 'P']"
   ],
   "metadata": {
    "collapsed": false,
    "pycharm": {
     "name": "#%%\n"
    }
   }
  },
  {
   "cell_type": "code",
   "execution_count": 6,
   "outputs": [
    {
     "data": {
      "text/plain": "2"
     },
     "execution_count": 6,
     "metadata": {},
     "output_type": "execute_result"
    }
   ],
   "source": [
    "# split the data_only_with_target into 5 folds\n",
    "kf = KFold(n_splits=2,shuffle=True, random_state=0)\n",
    "kf.get_n_splits(X=data_only_with_target)"
   ],
   "metadata": {
    "collapsed": false,
    "pycharm": {
     "name": "#%%\n"
    }
   }
  },
  {
   "cell_type": "code",
   "execution_count": 8,
   "outputs": [],
   "source": [
    "#pr = profile.Profile()\n",
    "#pr.disable()"
   ],
   "metadata": {
    "collapsed": false,
    "pycharm": {
     "name": "#%%\n"
    }
   }
  },
  {
   "cell_type": "code",
   "execution_count": 7,
   "outputs": [
    {
     "data": {
      "text/plain": "<Figure size 864x576 with 2 Axes>",
      "image/png": "[encoded data removed]"
     },
     "metadata": {
      "needs_background": "light"
     },
     "output_type": "display_data"
    },
    {
     "name": "stdout",
     "output_type": "stream",
     "text": [
      "Precision@K\n",
      "\tPrecision@5      \t (min:    0.190, max:    0.210, cur:    0.190)\n",
      "\tPrecision@10     \t (min:    0.165, max:    0.185, cur:    0.185)\n",
      "Recall@K\n",
      "\tRecall@5         \t (min:    0.274, max:    0.337, cur:    0.274)\n",
      "\tRecall@10        \t (min:    0.584, max:    0.668, cur:    0.668)\n"
     ]
    },
    {
     "name": "stderr",
     "output_type": "stream",
     "text": [
      "100%|██████████| 500/500 [03:44<00:00,  2.56it/s, loss=-4.38, norm_nabula_U_u=2.39, norm_nabula_Vi=1.48, norm_nabula_Vj=0.21, norm_nabula_Vk=0.405, precision_10=0.185, precision_5=0.19, recall_10=0.668, recall_5=0.274]\n"
     ]
    }
   ],
   "source": [
    "#pr.enable()\n",
    "cnt = 0\n",
    "for train_index, test_index in kf.split(X=data_only_with_target):\n",
    "    # build train and test data\n",
    "    # page 90 5.2 section - make most of auxiliary data in training process\n",
    "    train_data = pd.concat([data_only_with_target.iloc[train_index], data_without_target])\n",
    "    test_data = data_only_with_target.iloc[test_index]\n",
    "\n",
    "    # start a BPRH model\n",
    "    model = bprH(dim=5, omega=8, rho=1, lambda_u=1, lambda_v=0.5, lambda_b=0.5, gamma=0.01, random_state=20200704, num_iter=500)\n",
    "\n",
    "    model.fit(X=train_data, eval_X=test_data, original_item_list=original_item_list, original_user_list=original_user_list,\n",
    "              saved_path='data/item-set-coselection-'+str(cnt)+'.pkl', coselection=True, plot_metric=True)\n",
    "    cnt += 1\n",
    "\n",
    "#pr.dump_stats('profile.pstat')"
   ],
   "metadata": {
    "collapsed": false,
    "pycharm": {
     "name": "#%%\n"
    }
   }
  },
  {
   "cell_type": "code",
   "execution_count": 12,
   "metadata": {
    "pycharm": {
     "name": "#%%\n"
    }
   },
   "outputs": [],
   "source": [
    "# read sobazaar data\n",
    "data = pd.read_csv('data/sb_unique_actions_20.csv')\n",
    "# change column name\n",
    "data.columns = ['ItemID', 'UserID', 'Action', 'Action_Date', 'Action_Time',\n",
    "       'SessionID']\n",
    "\n",
    "# data = data.sample(frac=0.5) # TODO: test small data"
   ]
  },
  {
   "cell_type": "code",
   "execution_count": 13,
   "metadata": {
    "pycharm": {
     "name": "#%%\n"
    }
   },
   "outputs": [],
   "source": [
    "# the best way is to split the data with a time manner - from sklearn.model_selection import TimeSeriesSplit\n",
    "# but first let's do it in a simple way\n",
    "\n",
    "original_item_list = sorted(set(data.ItemID))\n",
    "original_user_list = sorted(set(data.UserID))\n",
    "\n",
    "data_without_target = data[data.Action != 'P']\n",
    "data_only_with_target = data[data.Action == 'P']"
   ]
  },
  {
   "cell_type": "code",
   "execution_count": 14,
   "metadata": {
    "pycharm": {
     "name": "#%%\n"
    }
   },
   "outputs": [
    {
     "data": {
      "text/plain": "5"
     },
     "execution_count": 14,
     "metadata": {},
     "output_type": "execute_result"
    }
   ],
   "source": [
    "# split the data_only_with_target into 5 folds\n",
    "kf = KFold(n_splits=5, shuffle=True, random_state=0)\n",
    "kf.get_n_splits(X=data_only_with_target)"
   ]
  },
  {
   "cell_type": "code",
   "execution_count": null,
   "metadata": {
    "pycharm": {
     "name": "#%%\n",
     "is_executing": true
    }
   },
   "outputs": [
    {
     "data": {
      "text/plain": "<Figure size 864x576 with 2 Axes>",
      "image/png": "[encoded data removed]"
     },
     "metadata": {
      "needs_background": "light"
     },
     "output_type": "display_data"
    },
    {
     "name": "stdout",
     "output_type": "stream",
     "text": [
      "Precision@K\n",
      "\tPrecision@5      \t (min:    0.001, max:    0.001, cur:    0.001)\n",
      "\tPrecision@10     \t (min:    0.001, max:    0.001, cur:    0.001)\n",
      "Recall@K\n",
      "\tRecall@5         \t (min:    0.003, max:    0.004, cur:    0.004)\n",
      "\tRecall@10        \t (min:    0.005, max:    0.006, cur:    0.005)\n"
     ]
    },
    {
     "name": "stderr",
     "output_type": "stream",
     "text": [
      " 13%|█▎        | 1336/10000 [8:42:02<60:05:13, 24.97s/it, loss=-17.4, norm_nabula_U_u=13.5, norm_nabula_Vi=5.07, norm_nabula_Vj=6.85, norm_nabula_Vk=6.98, precision_10=0.000708, precision_5=0.0011, recall_10=0.0046, recall_5=0.00355]"
     ]
    }
   ],
   "source": [
    "cnt = 0\n",
    "for train_index, test_index in kf.split(X=data_only_with_target):\n",
    "    # build train and test data\n",
    "    train_data = pd.concat([data_only_with_target.iloc[train_index], data_without_target])\n",
    "    test_data = data_only_with_target.iloc[test_index]\n",
    "\n",
    "    # start a BPRH model\n",
    "    model = bprH(dim=30, omega=1000, rho=1, lambda_u=1, lambda_v=0.5, lambda_b=0.5, gamma=0.01, random_state=20200704, num_iter=10000)\n",
    "\n",
    "    model.fit(X=train_data, eval_X=test_data, original_item_list=original_item_list, original_user_list=original_user_list,\n",
    "              saved_path='data/item-set-coselection-'+str(cnt)+'.pkl', coselection=True, plot_metric=True)\n",
    "    cnt += 1"
   ]
  },
  {
   "cell_type": "code",
   "execution_count": 13,
   "outputs": [],
   "source": [
    "# test recommendation\n",
    "# build the rec list for users\n",
    "user_rec_dict = dict()\n",
    "\n",
    "# print(\"Build User's Purchased Item Dict & Rec List\")\n",
    "# user_set_bar = tqdm(user_to_recommend)\n",
    "for u in [0]:\n",
    "    user_rec_dict[u] = set()\n",
    "    est_pref_of_u = np.array([0.12,0.33,0.49,0.55,0.26,0.11,0.89,0.98])\n",
    "    #\n",
    "    est_pref_sort_index = est_pref_of_u.argsort()[::-1]\n",
    "    rec_item_cnt = 0\n",
    "    for item_id in est_pref_sort_index:\n",
    "        if rec_item_cnt == 5:\n",
    "            break\n",
    "        if item_id not in set([6,7]):\n",
    "            user_rec_dict[u].add(item_id)\n",
    "            rec_item_cnt += 1\n"
   ],
   "metadata": {
    "collapsed": false,
    "pycharm": {
     "name": "#%%\n"
    }
   }
  },
  {
   "cell_type": "code",
   "execution_count": 14,
   "outputs": [],
   "source": [
    "scoring_list = []\n",
    "# test metric\n",
    "for u in [0]:\n",
    "    rec_list_for_user_u = user_rec_dict[u]\n",
    "    ground_truth_for_user_u = set([3,1])\n",
    "    precision_K_for_u = len(rec_list_for_user_u.intersection(ground_truth_for_user_u)) / 5\n",
    "    recall_K_for_u = len(rec_list_for_user_u.intersection(ground_truth_for_user_u)) / len(\n",
    "        ground_truth_for_user_u) if len(ground_truth_for_user_u) != 0 else np.nan\n",
    "    scoring_list.append([u, precision_K_for_u, recall_K_for_u])\n",
    "#scoring_list = pd.DataFrame(scoring_list, columns=['UserID', 'Precision@' + str(K), 'Recall@' + str(K)])\n",
    "#precision_K = scoring_list.mean()['Precision@' + str(K)]\n",
    "#recall_K = scoring_list.mean()['Recall@' + str(K)]\n",
    "scoring_list = np.array(scoring_list)\n",
    "scoring_average = scoring_list.mean(axis=0)\n",
    "precision_K = scoring_average[1]\n",
    "recall_K = scoring_average[2]"
   ],
   "metadata": {
    "collapsed": false,
    "pycharm": {
     "name": "#%%\n"
    }
   }
  },
  {
   "cell_type": "code",
   "execution_count": 3,
   "outputs": [],
   "source": [
    "est_pref_of_u = [1,2,3,4,-1,-2,-3,-4]\n",
    "E_u = 0\n",
    "indicator_cnt = 0\n",
    "for i in [0,1,2]:\n",
    "    for j in [3,4,5,6,7]:\n",
    "        E_u += 1\n",
    "        if est_pref_of_u[i] > est_pref_of_u[j]:\n",
    "            indicator_cnt += 1\n",
    "auc_for_u = indicator_cnt / E_u if E_u != 0 else 0"
   ],
   "metadata": {
    "collapsed": false,
    "pycharm": {
     "name": "#%%\n"
    }
   }
  }
 ],
 "metadata": {
  "kernelspec": {
   "display_name": "Python 3",
   "language": "python",
   "name": "python3"
  },
  "language_info": {
   "codemirror_mode": {
    "name": "ipython",
    "version": 3
   },
   "file_extension": ".py",
   "mimetype": "text/x-python",
   "name": "python",
   "nbconvert_exporter": "python",
   "pygments_lexer": "ipython3",
   "version": "3.7.4"
  }
 },
 "nbformat": 4,
 "nbformat_minor": 1
}