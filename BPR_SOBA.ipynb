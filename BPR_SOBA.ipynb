{
 "cells": [
  {
   "cell_type": "code",
   "execution_count": 1,
   "metadata": {
    "collapsed": true
   },
   "outputs": [
    {
     "name": "stderr",
     "output_type": "stream",
     "text": [
      "C:\\ProgramData\\Anaconda3\\lib\\site-packages\\lightfm\\_lightfm_fast.py:9: UserWarning: LightFM was compiled without OpenMP support. Only a single thread will be used.\n",
      "  warnings.warn('LightFM was compiled without OpenMP support. '\n"
     ]
    }
   ],
   "source": [
    "import numpy as np\n",
    "import pandas as pd\n",
    "import scipy\n",
    "\n",
    "from lightfm import LightFM\n",
    "from lightfm.evaluation import precision_at_k\n",
    "from lightfm.evaluation import recall_at_k\n",
    "from lightfm.evaluation import auc_score\n",
    "\n",
    "from sklearn.model_selection import train_test_split\n",
    "\n",
    "%load_ext autoreload\n",
    "%autoreload 2"
   ]
  },
  {
   "cell_type": "code",
   "execution_count": null,
   "outputs": [],
   "source": [],
   "metadata": {
    "collapsed": false,
    "pycharm": {
     "name": "#%%\n"
    }
   }
  },
  {
   "cell_type": "code",
   "execution_count": 2,
   "outputs": [],
   "source": [
    "data = pd.read_csv(\"data/Sobazaar-bprh-cleaned.csv\")"
   ],
   "metadata": {
    "collapsed": false,
    "pycharm": {
     "name": "#%%\n"
    }
   }
  },
  {
   "cell_type": "code",
   "execution_count": 3,
   "outputs": [],
   "source": [
    "# Here we only consider data with View\n",
    "data = data[~(data.Action == \"L\")]\n",
    "data.reset_index(inplace=True, drop=True)\n",
    "data.drop_duplicates(inplace=True)"
   ],
   "metadata": {
    "collapsed": false,
    "pycharm": {
     "name": "#%%\n"
    }
   }
  },
  {
   "cell_type": "code",
   "execution_count": 4,
   "outputs": [],
   "source": [
    "original_item_list = sorted(set(data.ItemID))\n",
    "original_user_list = sorted(set(data.UserID))\n",
    "\n",
    "data_without_target = data[data.Action != 'P']\n",
    "data_only_with_target = data[data.Action == 'P']"
   ],
   "metadata": {
    "collapsed": false,
    "pycharm": {
     "name": "#%%\n"
    }
   }
  },
  {
   "cell_type": "code",
   "execution_count": 5,
   "outputs": [],
   "source": [
    "train_data, test_data = train_test_split(data_only_with_target,\n",
    "                                 test_size=0.2,\n",
    "                                 random_state=20200715\n",
    "                                 )"
   ],
   "metadata": {
    "collapsed": false,
    "pycharm": {
     "name": "#%%\n"
    }
   }
  },
  {
   "cell_type": "code",
   "execution_count": 6,
   "outputs": [],
   "source": [
    "# prepare data\n",
    "\n",
    "lfm_train_data = np.zeros(shape=(4712,7015))\n",
    "lfm_test_data = np.zeros(shape=(4712,7015))\n",
    "for u in original_user_list:\n",
    "    train_item_pool = set(train_data[(train_data.UserID == u) & (train_data.Action == 'P')].ItemID)\n",
    "    test_item_pool = set(test_data[(test_data.UserID == u) & (test_data.Action == 'P')].ItemID)\n",
    "    u_idx = original_user_list.index(u)\n",
    "    for i in train_item_pool:\n",
    "        i_idx = original_item_list.index(i)\n",
    "        lfm_train_data[u_idx,i_idx] = 1\n",
    "    for i in test_item_pool:\n",
    "        i_idx = original_item_list.index(i)\n",
    "        lfm_test_data[u_idx,i_idx] = 1\n",
    "\n",
    "lfm_train_data = scipy.sparse.coo_matrix(lfm_train_data)\n",
    "lfm_test_data = scipy.sparse.coo_matrix(lfm_test_data)"
   ],
   "metadata": {
    "collapsed": false,
    "pycharm": {
     "name": "#%%\n"
    }
   }
  },
  {
   "cell_type": "code",
   "execution_count": 17,
   "outputs": [
    {
     "data": {
      "text/plain": "<lightfm.lightfm.LightFM at 0x182560faac8>"
     },
     "execution_count": 17,
     "metadata": {},
     "output_type": "execute_result"
    }
   ],
   "source": [
    "bpr_model = LightFM(no_components=50,\n",
    "                    learning_rate=0.001,\n",
    "                    item_alpha=0.00001,\n",
    "                    user_alpha=0.00001,\n",
    "                    loss='bpr',\n",
    "                    random_state=20200716)\n",
    "\n",
    "bpr_model.fit(lfm_train_data,\n",
    "              epochs=5000)"
   ],
   "metadata": {
    "collapsed": false,
    "pycharm": {
     "name": "#%%\n"
    }
   }
  },
  {
   "cell_type": "code",
   "execution_count": 16,
   "outputs": [
    {
     "name": "stdout",
     "output_type": "stream",
     "text": [
      "Recall: train 0.0597, test 0.0227.\n",
      "Precision: train 0.0132, test 0.0036.\n",
      "AUC: train 0.6751, test 0.5473.\n"
     ]
    },
    {
     "data": {
      "text/plain": "'\\n100\\nRecall: train 0.0246, test 0.0122.\\nPrecision: train 0.0053, test 0.0017.\\nAUC: train 0.5462, test 0.5223.\\n\\n1000\\nRecall: train 0.1084, test 0.0263.\\nPrecision: train 0.0229, test 0.0040.\\nAUC: train 0.8675, test 0.5878.\\n\\n1500\\nRecall: train 0.1129, test 0.0253.\\nPrecision: train 0.0246, test 0.0039.\\nAUC: train 0.9149, test 0.5751.\\n\\n\\n2000\\nRecall: train 0.1183, test 0.0239.\\nPrecision: train 0.0262, test 0.0038.\\nAUC: train 0.9338, test 0.5628.\\n'"
     },
     "execution_count": 16,
     "metadata": {},
     "output_type": "execute_result"
    }
   ],
   "source": [
    "train_recall = recall_at_k(bpr_model, lfm_train_data, k=10).mean()\n",
    "test_recall = recall_at_k(bpr_model, lfm_test_data, k=10).mean()\n",
    "\n",
    "train_precision = precision_at_k(bpr_model, lfm_train_data, k=10).mean()\n",
    "test_precision = precision_at_k(bpr_model, lfm_test_data, k=10).mean()\n",
    "\n",
    "train_auc = auc_score(bpr_model, lfm_train_data).mean()\n",
    "test_auc = auc_score(bpr_model, lfm_test_data).mean()\n",
    "\n",
    "print('Recall: train %.4f, test %.4f.' % (train_recall, test_recall))\n",
    "print('Precision: train %.4f, test %.4f.' % (train_precision, test_precision))\n",
    "print('AUC: train %.4f, test %.4f.' % (train_auc, test_auc))\n",
    "\n",
    "\"\"\"\n",
    "100\n",
    "Recall: train 0.0246, test 0.0122.\n",
    "Precision: train 0.0053, test 0.0017.\n",
    "AUC: train 0.5462, test 0.5223.\n",
    "\n",
    "500\n",
    "Recall: train 0.0597, test 0.0227.\n",
    "Precision: train 0.0132, test 0.0036.\n",
    "AUC: train 0.6751, test 0.5473.\n",
    "\n",
    "1000\n",
    "Recall: train 0.1084, test 0.0263.\n",
    "Precision: train 0.0229, test 0.0040.\n",
    "AUC: train 0.8675, test 0.5878.\n",
    "\n",
    "1500\n",
    "Recall: train 0.1129, test 0.0253.\n",
    "Precision: train 0.0246, test 0.0039.\n",
    "AUC: train 0.9149, test 0.5751.\n",
    "\n",
    "\n",
    "2000\n",
    "Recall: train 0.1183, test 0.0239.\n",
    "Precision: train 0.0262, test 0.0038.\n",
    "AUC: train 0.9338, test 0.5628.\n",
    "\"\"\""
   ],
   "metadata": {
    "collapsed": false,
    "pycharm": {
     "name": "#%%\n"
    }
   }
  }
 ],
 "metadata": {
  "kernelspec": {
   "display_name": "Python 3",
   "language": "python",
   "name": "python3"
  },
  "language_info": {
   "codemirror_mode": {
    "name": "ipython",
    "version": 2
   },
   "file_extension": ".py",
   "mimetype": "text/x-python",
   "name": "python",
   "nbconvert_exporter": "python",
   "pygments_lexer": "ipython2",
   "version": "2.7.6"
  }
 },
 "nbformat": 4,
 "nbformat_minor": 0
}