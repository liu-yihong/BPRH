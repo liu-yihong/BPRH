{
  "nbformat": 4,
  "nbformat_minor": 0,
  "metadata": {
    "kernelspec": {
      "display_name": "Python 3",
      "language": "python",
      "name": "python3"
    },
    "language_info": {
      "codemirror_mode": {
        "name": "ipython",
        "version": 2
      },
      "file_extension": ".py",
      "mimetype": "text/x-python",
      "name": "python",
      "nbconvert_exporter": "python",
      "pygments_lexer": "ipython2",
      "version": "2.7.6"
    },
    "colab": {
      "name": "BRPH-test-0714.ipynb",
      "provenance": [],
      "collapsed_sections": []
    },
    "accelerator": "GPU"
  },
  "cells": [
    {
      "cell_type": "code",
      "metadata": {
        "id": "8d2Hxqwe-Y75",
        "colab_type": "code",
        "colab": {}
      },
      "source": [
        "!pip install cupy-cuda101"
      ],
      "execution_count": null,
      "outputs": []
    },
    {
      "cell_type": "code",
      "metadata": {
        "id": "Jp2yP-e1-Zey",
        "colab_type": "code",
        "colab": {}
      },
      "source": [
        "!pip install livelossplot"
      ],
      "execution_count": null,
      "outputs": []
    },
    {
      "cell_type": "code",
      "metadata": {
        "id": "oG2RjXJR-R8L",
        "colab_type": "code",
        "colab": {}
      },
      "source": [
        "import numpy as np\n",
        "import pandas as pd\n",
        "import scipy\n",
        "from sklearn.model_selection import train_test_split\n",
        "\n",
        "from bprH_gpu import bprH\n",
        "\n",
        "%load_ext autoreload\n",
        "%autoreload 2"
      ],
      "execution_count": null,
      "outputs": []
    },
    {
      "cell_type": "code",
      "metadata": {
        "pycharm": {
          "name": "#%%\n"
        },
        "id": "TGdhF1NX-R8Q",
        "colab_type": "code",
        "colab": {}
      },
      "source": [
        "data = pd.read_csv(\"data/Sobazaar-bprh-cleaned.csv\")"
      ],
      "execution_count": null,
      "outputs": []
    },
    {
      "cell_type": "code",
      "metadata": {
        "pycharm": {
          "name": "#%%\n"
        },
        "id": "4Lv3Lj6C-R8T",
        "colab_type": "code",
        "colab": {}
      },
      "source": [
        "# Here we only consider data with View\n",
        "data = data[~(data.Action == \"L\")]\n",
        "data.reset_index(inplace=True, drop=True)\n",
        "data.drop_duplicates(inplace=True)"
      ],
      "execution_count": null,
      "outputs": []
    },
    {
      "cell_type": "code",
      "metadata": {
        "pycharm": {
          "name": "#%%\n"
        },
        "id": "P_n2hb9I-R8Z",
        "colab_type": "code",
        "colab": {}
      },
      "source": [
        "original_item_list = sorted(set(data.ItemID))\n",
        "original_user_list = sorted(set(data.UserID))\n",
        "\n",
        "data_without_target = data[data.Action != 'P']\n",
        "data_only_with_target = data[data.Action == 'P']"
      ],
      "execution_count": null,
      "outputs": []
    },
    {
      "cell_type": "code",
      "metadata": {
        "pycharm": {
          "name": "#%%\n"
        },
        "id": "Y0ABFrVH-R8c",
        "colab_type": "code",
        "colab": {}
      },
      "source": [
        "d1, test_data = train_test_split(data_only_with_target,\n",
        "                                 test_size=0.2,\n",
        "                                 random_state=20200715\n",
        "                                 )\n",
        "\n",
        "train_data = pd.concat([d1, data_without_target])\n",
        "train_data.reset_index(inplace=True,drop=True)\n",
        "test_data.reset_index(inplace=True,drop=True)"
      ],
      "execution_count": null,
      "outputs": []
    },
    {
      "cell_type": "code",
      "metadata": {
        "pycharm": {
          "name": "#%%\n"
        },
        "id": "o_NfXm11-R8e",
        "colab_type": "code",
        "colab": {
          "base_uri": "https://localhost:8080/",
          "height": 762
        },
        "outputId": "147d8e61-4c51-4f14-f871-f015da088d8c"
      },
      "source": [
        "bprh_model = bprH(dim=50,\n",
        "          omega=1000,\n",
        "          rho=1,\n",
        "          lambda_u=0.000001,\n",
        "          lambda_v=0.000001,\n",
        "          lambda_b=0.000001,\n",
        "          gamma=0.1,\n",
        "          random_state=20200715,\n",
        "          num_iter=360000,\n",
        "          existed_model_path=None)\n",
        "\n",
        "bprh_model.fit(X=train_data,\n",
        "               eval_X=test_data,\n",
        "               original_item_list=original_item_list,\n",
        "               original_user_list=original_user_list,\n",
        "               coselection_saved_path='data/item-set-coselection-test.pkl',\n",
        "               model_saved_path=\"bprh_soba.pkl\",\n",
        "               correlation=True,\n",
        "               coselection=True,\n",
        "               plot_metric=True,\n",
        "               log_metric=True,\n",
        "               iter_to_log=20000,\n",
        "               iter_to_save=60000)"
      ],
      "execution_count": null,
      "outputs": [
        {
          "output_type": "display_data",
          "data": {
            "image/png": "[encoded data removed]",
            "text/plain": [
              "<Figure size 864x864 with 3 Axes>"
            ]
          },
          "metadata": {
            "tags": [],
            "needs_background": "light"
          }
        },
        {
          "output_type": "stream",
          "text": [
            "100%|██████████| 360000/360000 [5:50:45<00:00, 17.11it/s, est_changed=0.5186144190704137, len_I=1, len_J=1, len_K=12]"
          ],
          "name": "stderr"
        },
        {
          "output_type": "stream",
          "text": [
            "AUC\n",
            "\tAUC              \t (min:    0.584, max:    0.819, cur:    0.819)\n",
            "Precision@K\n",
            "\tPrecision@5      \t (min:    0.000, max:    0.005, cur:    0.005)\n",
            "\tPrecision@10     \t (min:    0.000, max:    0.005, cur:    0.005)\n",
            "Recall@K\n",
            "\tRecall@5         \t (min:    0.001, max:    0.018, cur:    0.018)\n",
            "\tRecall@10        \t (min:    0.003, max:    0.037, cur:    0.037)\n"
          ],
          "name": "stdout"
        },
        {
          "output_type": "stream",
          "text": [
            "\n"
          ],
          "name": "stderr"
        }
      ]
    },
    {
      "cell_type": "code",
      "metadata": {
        "pycharm": {
          "name": "#%%\n"
        },
        "id": "-eBNX-kp-R8h",
        "colab_type": "code",
        "colab": {
          "base_uri": "https://localhost:8080/",
          "height": 67
        },
        "outputId": "38e46caa-47bb-4d93-a594-88f74af3d666"
      },
      "source": [
        "scoring_list, p, r, auc = bprh_model.scoring(ground_truth=bprh_model.test_data,\n",
        "                                      K=10,\n",
        "                                      train_data_as_reference_flag=True)\n",
        "print('Recall: test %.4f.' % r)\n",
        "print('Precision: test %.4f.' % p)\n",
        "print('AUC: test %.4f.' % auc)"
      ],
      "execution_count": null,
      "outputs": [
        {
          "output_type": "stream",
          "text": [
            "Recall: test 0.0372.\n",
            "Precision: test 0.0051.\n",
            "AUC: test 0.8193.\n"
          ],
          "name": "stdout"
        }
      ]
    },
    {
      "cell_type": "code",
      "metadata": {
        "pycharm": {
          "name": "#%%\n"
        },
        "id": "KPbkdFdc-R8k",
        "colab_type": "code",
        "colab": {}
      },
      "source": [
        "scoring_list, p, r, auc = bprh_model.scoring(ground_truth=bprh_model.train_data,\n",
        "                                      K=10,\n",
        "                                      train_data_as_reference_flag=False)\n",
        "print('Recall: train %.4f.' % r)\n",
        "print('Precision: train %.4f.' % p)\n",
        "print('AUC: train %.4f.' % auc)"
      ],
      "execution_count": null,
      "outputs": []
    },
    {
      "cell_type": "code",
      "metadata": {
        "id": "ds52SA1nPHmQ",
        "colab_type": "code",
        "colab": {}
      },
      "source": [
        "bprh_model = bprH(dim=50,\n",
        "          omega=1000,\n",
        "          rho=1,\n",
        "          lambda_u=0.000001,\n",
        "          lambda_v=0.000001,\n",
        "          lambda_b=0.000001,\n",
        "          gamma=0.1,\n",
        "          random_state=20200715,\n",
        "          num_iter=720000,\n",
        "          existed_model_path=\"bprh_soba.pkl_359999\")\n",
        "\n",
        "bprh_model.fit(X=train_data,\n",
        "               eval_X=test_data,\n",
        "               original_item_list=original_item_list,\n",
        "               original_user_list=original_user_list,\n",
        "               coselection_saved_path='data/item-set-coselection-test.pkl',\n",
        "               model_saved_path=\"bprh_soba_0716.pkl\",\n",
        "               correlation=True,\n",
        "               coselection=True,\n",
        "               plot_metric=True,\n",
        "               log_metric=True,\n",
        "               iter_to_log=20000,\n",
        "               iter_to_save=60000)"
      ],
      "execution_count": null,
      "outputs": []
    },
    {
      "cell_type": "code",
      "metadata": {
        "id": "pothOjPZn0l-",
        "colab_type": "code",
        "colab": {
          "base_uri": "https://localhost:8080/",
          "height": 67
        },
        "outputId": "7062ba64-5bfc-44d4-bd4e-16f9b2623052"
      },
      "source": [
        "scoring_list, p, r, auc = bprh_model.scoring(ground_truth=bprh_model.test_data,\n",
        "                                      K=10,\n",
        "                                      train_data_as_reference_flag=True)\n",
        "print('Recall: test %.4f.' % r)\n",
        "print('Precision: test %.4f.' % p)\n",
        "print('AUC: test %.4f.' % auc)"
      ],
      "execution_count": 14,
      "outputs": [
        {
          "output_type": "stream",
          "text": [
            "Recall: test 0.0636.\n",
            "Precision: test 0.0084.\n",
            "AUC: test 0.8694.\n"
          ],
          "name": "stdout"
        }
      ]
    },
    {
      "cell_type": "code",
      "metadata": {
        "colab_type": "code",
        "id": "oZ6c381toLMY",
        "colab": {}
      },
      "source": [
        "bprh_model = bprH(dim=50,\n",
        "          omega=1000,\n",
        "          rho=1,\n",
        "          lambda_u=0.000001,\n",
        "          lambda_v=0.000001,\n",
        "          lambda_b=0.000001,\n",
        "          gamma=0.1,\n",
        "          random_state=20200715,\n",
        "          num_iter=720000,\n",
        "          existed_model_path=\"bprh_soba_0716.pkl_359999\")\n",
        "\n",
        "bprh_model.fit(X=train_data,\n",
        "               eval_X=test_data,\n",
        "               original_item_list=original_item_list,\n",
        "               original_user_list=original_user_list,\n",
        "               coselection_saved_path='data/item-set-coselection-test.pkl',\n",
        "               model_saved_path=\"bprh_soba_0716.pkl\",\n",
        "               correlation=True,\n",
        "               coselection=True,\n",
        "               plot_metric=True,\n",
        "               log_metric=True,\n",
        "               iter_to_log=20000,\n",
        "               iter_to_save=60000)"
      ],
      "execution_count": null,
      "outputs": []
    }
  ]
}