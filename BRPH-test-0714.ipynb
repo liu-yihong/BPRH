{
 "cells": [
  {
   "cell_type": "code",
   "execution_count": 29,
   "metadata": {
    "collapsed": true
   },
   "outputs": [
    {
     "name": "stderr",
     "output_type": "stream",
     "text": [
      "C:\\ProgramData\\Anaconda3\\lib\\site-packages\\lightfm\\_lightfm_fast.py:9: UserWarning: LightFM was compiled without OpenMP support. Only a single thread will be used.\n",
      "  warnings.warn('LightFM was compiled without OpenMP support. '\n"
     ]
    }
   ],
   "source": [
    "import numpy as np\n",
    "import pandas as pd\n",
    "import scipy\n",
    "from sklearn.model_selection import train_test_split\n",
    "\n",
    "from lightfm import LightFM\n",
    "from lightfm.evaluation import precision_at_k\n",
    "from lightfm.evaluation import recall_at_k\n",
    "from lightfm.evaluation import auc_score\n",
    "\n",
    "from bprH_gpu import bprH\n",
    "\n",
    "%load_ext autoreload\n",
    "%autoreload 2"
   ]
  },
  {
   "cell_type": "code",
   "execution_count": 8,
   "outputs": [],
   "source": [
    "data = pd.read_csv(\"data/Sobazaar-bprh-cleaned.csv\")"
   ],
   "metadata": {
    "collapsed": false,
    "pycharm": {
     "name": "#%%\n"
    }
   }
  },
  {
   "cell_type": "code",
   "execution_count": 22,
   "outputs": [],
   "source": [
    "# Here we only consider data with View\n",
    "data = data[~(data.Action == \"L\")]\n",
    "data.reset_index(inplace=True, drop=True)\n",
    "data.drop_duplicates(inplace=True)"
   ],
   "metadata": {
    "collapsed": false,
    "pycharm": {
     "name": "#%%\n"
    }
   }
  },
  {
   "cell_type": "code",
   "execution_count": 27,
   "outputs": [],
   "source": [
    "original_item_list = sorted(set(data.ItemID))\n",
    "original_user_list = sorted(set(data.UserID))\n",
    "\n",
    "data_without_target = data[data.Action != 'P']\n",
    "data_only_with_target = data[data.Action == 'P']"
   ],
   "metadata": {
    "collapsed": false,
    "pycharm": {
     "name": "#%%\n"
    }
   }
  },
  {
   "cell_type": "code",
   "execution_count": 28,
   "outputs": [],
   "source": [
    "d1, test_data = train_test_split(data_only_with_target,\n",
    "                                 test_size=0.2,\n",
    "                                 random_state=20200713\n",
    "                                 )\n",
    "\n",
    "train_data = pd.concat([d1, data_without_target])\n",
    "train_data.reset_index(inplace=True,drop=True)\n",
    "test_data.reset_index(inplace=True,drop=True)"
   ],
   "metadata": {
    "collapsed": false,
    "pycharm": {
     "name": "#%%\n"
    }
   }
  },
  {
   "cell_type": "code",
   "execution_count": 41,
   "outputs": [
    {
     "name": "stdout",
     "output_type": "stream",
     "text": [
      "Registering Model Parameters\n",
      "Build I_u_t, I_u_a\n",
      "Calculate auxiliary-target correlation\n",
      "Generate Itemset Coselection - Build U_i\n",
      "Generate Itemset Coselection - Build S\n",
      "Initializing User and Item Matrices\n",
      "Start Training\n"
     ]
    },
    {
     "name": "stderr",
     "output_type": "stream",
     "text": [
      "100%|██████████| 4712/4712 [01:47<00:00, 43.85it/s]\n",
      "100%|██████████| 4712/4712 [00:00<00:00, 336762.15it/s]\n",
      "100%|██████████| 7015/7015 [01:32<00:00, 76.06it/s] \n",
      "100%|██████████| 7015/7015 [00:29<00:00, 241.43it/s]\n",
      "  4%|▍         | 3834/90000 [34:26<12:54:06,  1.86it/s, est_changed=82.92516138683224, len_I=1, len_J=1, len_K=1]    \n"
     ]
    },
    {
     "ename": "KeyboardInterrupt",
     "evalue": "",
     "output_type": "error",
     "traceback": [
      "\u001B[1;31m---------------------------------------------------------------------------\u001B[0m",
      "\u001B[1;31mKeyboardInterrupt\u001B[0m                         Traceback (most recent call last)",
      "\u001B[1;32m<ipython-input-41-555e8d4b5be5>\u001B[0m in \u001B[0;36m<module>\u001B[1;34m\u001B[0m\n\u001B[0;32m     18\u001B[0m                \u001B[0mplot_metric\u001B[0m\u001B[1;33m=\u001B[0m\u001B[1;32mFalse\u001B[0m\u001B[1;33m,\u001B[0m\u001B[1;33m\u001B[0m\u001B[1;33m\u001B[0m\u001B[0m\n\u001B[0;32m     19\u001B[0m                \u001B[0mlog_metric\u001B[0m\u001B[1;33m=\u001B[0m\u001B[1;32mFalse\u001B[0m\u001B[1;33m,\u001B[0m\u001B[1;33m\u001B[0m\u001B[1;33m\u001B[0m\u001B[0m\n\u001B[1;32m---> 20\u001B[1;33m                iter_to_log=1000)\n\u001B[0m\u001B[0;32m     21\u001B[0m \u001B[1;33m\u001B[0m\u001B[0m\n",
      "\u001B[1;32mD:\\OneDrive - The University of Texas at Dallas\\UTD MIS PhD YXL180111\\2020 Summer\\Research\\BPR\\BPRH\\bprH_gpu.py\u001B[0m in \u001B[0;36mfit\u001B[1;34m(self, X, eval_X, original_item_list, original_user_list, y, saved_path, iter_to_log, correlation, coselection, plot_metric, log_metric)\u001B[0m\n\u001B[0;32m    470\u001B[0m                     \u001B[0mlen_I\u001B[0m\u001B[1;33m=\u001B[0m\u001B[0mlen\u001B[0m\u001B[1;33m(\u001B[0m\u001B[0mI\u001B[0m\u001B[1;33m)\u001B[0m\u001B[1;33m,\u001B[0m\u001B[1;33m\u001B[0m\u001B[1;33m\u001B[0m\u001B[0m\n\u001B[0;32m    471\u001B[0m                     \u001B[0mlen_J\u001B[0m\u001B[1;33m=\u001B[0m\u001B[0mlen\u001B[0m\u001B[1;33m(\u001B[0m\u001B[0mJ\u001B[0m\u001B[1;33m)\u001B[0m\u001B[1;33m,\u001B[0m\u001B[1;33m\u001B[0m\u001B[1;33m\u001B[0m\u001B[0m\n\u001B[1;32m--> 472\u001B[1;33m                     len_K=len(K))\n\u001B[0m\u001B[0;32m    473\u001B[0m \u001B[1;33m\u001B[0m\u001B[0m\n\u001B[0;32m    474\u001B[0m     \u001B[1;32mdef\u001B[0m \u001B[0mpredict_estimation\u001B[0m\u001B[1;33m(\u001B[0m\u001B[0mself\u001B[0m\u001B[1;33m,\u001B[0m \u001B[0muser_to_predict\u001B[0m\u001B[1;33m,\u001B[0m \u001B[0mitem_to_predict\u001B[0m\u001B[1;33m=\u001B[0m\u001B[1;32mNone\u001B[0m\u001B[1;33m)\u001B[0m\u001B[1;33m:\u001B[0m\u001B[1;33m\u001B[0m\u001B[1;33m\u001B[0m\u001B[0m\n",
      "\u001B[1;32mC:\\ProgramData\\Anaconda3\\lib\\site-packages\\tqdm\\std.py\u001B[0m in \u001B[0;36mset_postfix\u001B[1;34m(self, ordered_dict, refresh, **kwargs)\u001B[0m\n\u001B[0;32m   1382\u001B[0m             \u001B[1;31m# Else for any other type, try to get the string conversion\u001B[0m\u001B[1;33m\u001B[0m\u001B[1;33m\u001B[0m\u001B[1;33m\u001B[0m\u001B[0m\n\u001B[0;32m   1383\u001B[0m             \u001B[1;32melif\u001B[0m \u001B[1;32mnot\u001B[0m \u001B[0misinstance\u001B[0m\u001B[1;33m(\u001B[0m\u001B[0mpostfix\u001B[0m\u001B[1;33m[\u001B[0m\u001B[0mkey\u001B[0m\u001B[1;33m]\u001B[0m\u001B[1;33m,\u001B[0m \u001B[0m_basestring\u001B[0m\u001B[1;33m)\u001B[0m\u001B[1;33m:\u001B[0m\u001B[1;33m\u001B[0m\u001B[1;33m\u001B[0m\u001B[0m\n\u001B[1;32m-> 1384\u001B[1;33m                 \u001B[0mpostfix\u001B[0m\u001B[1;33m[\u001B[0m\u001B[0mkey\u001B[0m\u001B[1;33m]\u001B[0m \u001B[1;33m=\u001B[0m \u001B[0mstr\u001B[0m\u001B[1;33m(\u001B[0m\u001B[0mpostfix\u001B[0m\u001B[1;33m[\u001B[0m\u001B[0mkey\u001B[0m\u001B[1;33m]\u001B[0m\u001B[1;33m)\u001B[0m\u001B[1;33m\u001B[0m\u001B[1;33m\u001B[0m\u001B[0m\n\u001B[0m\u001B[0;32m   1385\u001B[0m             \u001B[1;31m# Else if it's a string, don't need to preprocess anything\u001B[0m\u001B[1;33m\u001B[0m\u001B[1;33m\u001B[0m\u001B[1;33m\u001B[0m\u001B[0m\n\u001B[0;32m   1386\u001B[0m         \u001B[1;31m# Stitch together to get the final postfix\u001B[0m\u001B[1;33m\u001B[0m\u001B[1;33m\u001B[0m\u001B[1;33m\u001B[0m\u001B[0m\n",
      "\u001B[1;32mcupy\\core\\core.pyx\u001B[0m in \u001B[0;36mcupy.core.core.ndarray.__str__\u001B[1;34m()\u001B[0m\n",
      "\u001B[1;31mKeyboardInterrupt\u001B[0m: "
     ]
    }
   ],
   "source": [
    "bprh_model = bprH(dim=50,\n",
    "                 omega=1000,\n",
    "                 rho=1,\n",
    "                 lambda_u=0.000001,\n",
    "                 lambda_v=0.000001,\n",
    "                 lambda_b=0.000001,\n",
    "                 gamma=1,\n",
    "                 random_state=20200715,\n",
    "                 num_iter=180000,\n",
    "                  existed_model_path=None)\n",
    "\n",
    "bprh_model.fit(X=train_data,\n",
    "               eval_X=test_data,\n",
    "               original_item_list=original_item_list,\n",
    "               original_user_list=original_user_list,\n",
    "               coselection_saved_path='data/item-set-coselection-test.pkl',\n",
    "               model_saved_path=\"bprh_soba.pkl\",\n",
    "               correlation=True,\n",
    "               coselection=True,\n",
    "               plot_metric=False,\n",
    "               log_metric=False,\n",
    "               iter_to_log=10000,\n",
    "               iter_to_save=10000)"
   ],
   "metadata": {
    "collapsed": false,
    "pycharm": {
     "name": "#%%\n"
    }
   }
  },
  {
   "cell_type": "code",
   "execution_count": 38,
   "outputs": [
    {
     "name": "stdout",
     "output_type": "stream",
     "text": [
      "Recall: test 0.0012.\n",
      "Precision: test 0.0003.\n"
     ]
    }
   ],
   "source": [
    "scoring_list, p, r, _ = bprh_model.scoring(ground_truth=bprh_model.test_data,\n",
    "                                      K=10,\n",
    "                                      train_data_as_reference_flag=True)\n",
    "print('Recall: test %.4f.' % r)\n",
    "print('Precision: test %.4f.' % p)"
   ],
   "metadata": {
    "collapsed": false,
    "pycharm": {
     "name": "#%%\n"
    }
   }
  },
  {
   "cell_type": "code",
   "execution_count": 39,
   "outputs": [
    {
     "name": "stdout",
     "output_type": "stream",
     "text": [
      "Recall: train 0.0023.\n",
      "Precision: train 0.0004.\n"
     ]
    }
   ],
   "source": [
    "scoring_list, p, r, _ = bprh_model.scoring(ground_truth=bprh_model.train_data,\n",
    "                                      K=10,\n",
    "                                      train_data_as_reference_flag=False)\n",
    "print('Recall: train %.4f.' % r)\n",
    "print('Precision: train %.4f.' % p)"
   ],
   "metadata": {
    "collapsed": false,
    "pycharm": {
     "name": "#%%\n"
    }
   }
  }
 ],
 "metadata": {
  "kernelspec": {
   "display_name": "Python 3",
   "language": "python",
   "name": "python3"
  },
  "language_info": {
   "codemirror_mode": {
    "name": "ipython",
    "version": 2
   },
   "file_extension": ".py",
   "mimetype": "text/x-python",
   "name": "python",
   "nbconvert_exporter": "python",
   "pygments_lexer": "ipython2",
   "version": "2.7.6"
  }
 },
 "nbformat": 4,
 "nbformat_minor": 0
}