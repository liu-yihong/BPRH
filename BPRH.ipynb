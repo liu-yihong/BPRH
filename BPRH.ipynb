{
 "cells": [
  {
   "cell_type": "code",
   "execution_count": 1,
   "metadata": {
    "collapsed": true
   },
   "outputs": [],
   "source": [
    "# import packages\n",
    "import pandas as pd\n",
    "import numpy as np"
   ]
  },
  {
   "cell_type": "code",
   "execution_count": 2,
   "outputs": [],
   "source": [
    "# read data\n",
    "soba = pd.read_csv(\"data/Sobazaar-hashID.csv\")\n",
    "\n",
    "# clean data\n",
    "action_set = set(soba.Action)\n",
    "item_set = set(soba.ItemID)\n",
    "user_set = set(soba.UserID)\n",
    "\n",
    "# Users with at least one purchase behavior\n",
    "user_p_id = set(soba[soba.Action == 'purchase:buy_clicked'].UserID)\n",
    "temp = soba[soba.UserID.isin(user_p_id)]\n",
    "temp = temp[temp.Action.isin(['product_detail_clicked', 'product_wanted', 'purchase:buy_clicked'])]\n",
    "soba_cleaned_1 = temp.sort_values(by=['UserID', 'Timestamp'])\n",
    "del temp\n",
    "soba_cleaned_1.reset_index(drop=True, inplace=True)\n",
    "\n",
    "# Users with at least one purchase &\n",
    "# Items with at least one purchase\n",
    "item_p_id = set(soba_cleaned_1[soba_cleaned_1.Action == 'purchase:buy_clicked'].ItemID)\n",
    "soba_cleaned_2 = soba_cleaned_1[soba_cleaned_1.ItemID.isin(item_p_id)]\n",
    "soba_cleaned_2.reset_index(drop=True, inplace=True)\n",
    "\n",
    "# set the desired version\n",
    "soba_cleaned = soba_cleaned_2"
   ],
   "metadata": {
    "collapsed": false,
    "pycharm": {
     "name": "#%%\n"
    }
   }
  },
  {
   "cell_type": "code",
   "execution_count": 3,
   "outputs": [],
   "source": [
    "# parameter setting\n",
    "dim = 10\n",
    "num_iter = 1000\n",
    "w = 1\n",
    "rho = 0.5\n",
    "lambda_u = 1\n",
    "lambda_v = 1\n",
    "lambda_b = 1\n",
    "gamma = 1\n",
    "num_u = len(set(soba_cleaned.UserID))\n",
    "num_i = len(set(soba_cleaned.ItemID))"
   ],
   "metadata": {
    "collapsed": false,
    "pycharm": {
     "name": "#%%\n"
    }
   }
  },
  {
   "cell_type": "code",
   "execution_count": 14,
   "outputs": [],
   "source": [
    "# Calculate auxiliary-target correlation C for every user and each types of auxiliary action\n",
    "target_action = 'purchase:buy_clicked'\n",
    "auxiliary_action = ['product_detail_clicked', 'product_wanted']\n",
    "C_u = dict()\n",
    "for u in set(soba_cleaned.UserID):\n",
    "    C_u[u] = dict()\n",
    "    I_t_u = set(soba_cleaned[(soba_cleaned.UserID == u) & (soba_cleaned.Action == target_action)].ItemID)\n",
    "    # TODO filtered item set\n",
    "    for X in auxiliary_action:\n",
    "        I_a_u = set(soba_cleaned[(soba_cleaned.UserID == u) & (soba_cleaned.Action == X)].ItemID)\n",
    "        if len(I_a_u) == 0:\n",
    "            C_u[u][X] = 0\n",
    "            continue\n",
    "        C_u_at = len(I_t_u.intersection(I_a_u)) / len(I_t_u)\n",
    "        C_u_ta = len(I_t_u.intersection(I_a_u)) / len(I_a_u)\n",
    "        if C_u_ta + C_u_at == 0:\n",
    "            C_u[u][X] = 0\n",
    "            continue\n",
    "        C_u_X = 2 * C_u_at * C_u_ta / (C_u_ta + C_u_at)\n",
    "        C_u[u][X] = C_u_X"
   ],
   "metadata": {
    "collapsed": false,
    "pycharm": {
     "name": "#%%\n"
    }
   }
  },
  {
   "cell_type": "code",
   "execution_count": 16,
   "outputs": [],
   "source": [
    "temp = pd.DataFrame.from_dict(C_u, orient='index')\n",
    "temp['alpha'] = w * rho * temp.product_detail_clicked + w * (1 - rho) * temp.product_wanted\n",
    "alpha_u = temp\n",
    "del temp\n",
    "alpha_u.reset_index(inplace=True)"
   ],
   "metadata": {
    "collapsed": false,
    "pycharm": {
     "name": "#%%\n"
    }
   }
  },
  {
   "cell_type": "code",
   "execution_count": 19,
   "outputs": [
    {
     "name": "stdout",
     "output_type": "stream",
     "text": [
      "Process:  0.00014255167498218105\n",
      "Process:  0.0002851033499643621\n",
      "Process:  0.00042765502494654313\n",
      "Process:  0.0005702066999287242\n",
      "Process:  0.0007127583749109052\n",
      "Process:  0.0008553100498930863\n",
      "Process:  0.0009978617248752673\n",
      "Process:  0.0011404133998574484\n",
      "Process:  0.0012829650748396293\n",
      "Process:  0.0014255167498218105\n",
      "Process:  0.0015680684248039914\n",
      "Process:  0.0017106200997861725\n",
      "Process:  0.0018531717747683535\n",
      "Process:  0.0019957234497505346\n",
      "Process:  0.0021382751247327157\n",
      "Process:  0.002280826799714897\n",
      "Process:  0.0024233784746970776\n",
      "Process:  0.0025659301496792587\n",
      "Process:  0.00270848182466144\n",
      "Process:  0.002851033499643621\n",
      "Process:  0.0029935851746258017\n",
      "Process:  0.003136136849607983\n",
      "Process:  0.003278688524590164\n",
      "Process:  0.003421240199572345\n",
      "Process:  0.003563791874554526\n",
      "Process:  0.003706343549536707\n",
      "Process:  0.003848895224518888\n",
      "Process:  0.003991446899501069\n",
      "Process:  0.00413399857448325\n",
      "Process:  0.0042765502494654314\n",
      "Process:  0.004419101924447612\n",
      "Process:  0.004561653599429794\n",
      "Process:  0.004704205274411974\n",
      "Process:  0.004846756949394155\n",
      "Process:  0.004989308624376337\n",
      "Process:  0.005131860299358517\n",
      "Process:  0.005274411974340698\n",
      "Process:  0.00541696364932288\n",
      "Process:  0.00555951532430506\n",
      "Process:  0.005702066999287242\n",
      "Process:  0.005844618674269423\n",
      "Process:  0.005987170349251603\n",
      "Process:  0.006129722024233785\n",
      "Process:  0.006272273699215966\n",
      "Process:  0.006414825374198147\n",
      "Process:  0.006557377049180328\n",
      "Process:  0.0066999287241625086\n",
      "Process:  0.00684248039914469\n",
      "Process:  0.006985032074126871\n",
      "Process:  0.007127583749109052\n",
      "Process:  0.007270135424091233\n",
      "Process:  0.007412687099073414\n",
      "Process:  0.007555238774055595\n",
      "Process:  0.007697790449037776\n",
      "Process:  0.007840342124019958\n",
      "Process:  0.007982893799002138\n",
      "Process:  0.008125445473984319\n",
      "Process:  0.0082679971489665\n",
      "Process:  0.008410548823948682\n",
      "Process:  0.008553100498930863\n",
      "Process:  0.008695652173913044\n",
      "Process:  0.008838203848895224\n",
      "Process:  0.008980755523877405\n",
      "Process:  0.009123307198859587\n",
      "Process:  0.009265858873841768\n",
      "Process:  0.009408410548823949\n",
      "Process:  0.00955096222380613\n",
      "Process:  0.00969351389878831\n",
      "Process:  0.009836065573770493\n",
      "Process:  0.009978617248752673\n",
      "Process:  0.010121168923734854\n",
      "Process:  0.010263720598717035\n",
      "Process:  0.010406272273699215\n",
      "Process:  0.010548823948681396\n",
      "Process:  0.010691375623663579\n",
      "Process:  0.01083392729864576\n",
      "Process:  0.01097647897362794\n",
      "Process:  0.01111903064861012\n",
      "Process:  0.011261582323592301\n",
      "Process:  0.011404133998574484\n",
      "Process:  0.011546685673556665\n",
      "Process:  0.011689237348538845\n",
      "Process:  0.011831789023521026\n",
      "Process:  0.011974340698503207\n",
      "Process:  0.012116892373485389\n",
      "Process:  0.01225944404846757\n",
      "Process:  0.01240199572344975\n",
      "Process:  0.012544547398431931\n",
      "Process:  0.012687099073414112\n",
      "Process:  0.012829650748396294\n",
      "Process:  0.012972202423378475\n",
      "Process:  0.013114754098360656\n"
     ]
    },
    {
     "ename": "KeyboardInterrupt",
     "evalue": "",
     "output_type": "error",
     "traceback": [
      "\u001B[1;31m---------------------------------------------------------------------------\u001B[0m",
      "\u001B[1;31mKeyboardInterrupt\u001B[0m                         Traceback (most recent call last)",
      "\u001B[1;32m<ipython-input-19-02d79ab9223e>\u001B[0m in \u001B[0;36m<module>\u001B[1;34m\u001B[0m\n\u001B[0;32m      8\u001B[0m     \u001B[0mU_i\u001B[0m \u001B[1;33m=\u001B[0m \u001B[0mset\u001B[0m\u001B[1;33m(\u001B[0m\u001B[0msoba_cleaned\u001B[0m\u001B[1;33m[\u001B[0m\u001B[0msoba_cleaned\u001B[0m\u001B[1;33m.\u001B[0m\u001B[0mItemID\u001B[0m \u001B[1;33m==\u001B[0m \u001B[0mi\u001B[0m\u001B[1;33m]\u001B[0m\u001B[1;33m.\u001B[0m\u001B[0mUserID\u001B[0m\u001B[1;33m)\u001B[0m\u001B[1;33m\u001B[0m\u001B[1;33m\u001B[0m\u001B[0m\n\u001B[0;32m      9\u001B[0m     \u001B[1;32mfor\u001B[0m \u001B[0mj\u001B[0m \u001B[1;32min\u001B[0m \u001B[0mset\u001B[0m\u001B[1;33m(\u001B[0m\u001B[0msoba_cleaned\u001B[0m\u001B[1;33m.\u001B[0m\u001B[0mItemID\u001B[0m\u001B[1;33m)\u001B[0m\u001B[1;33m:\u001B[0m\u001B[1;33m\u001B[0m\u001B[1;33m\u001B[0m\u001B[0m\n\u001B[1;32m---> 10\u001B[1;33m         \u001B[0mU_j\u001B[0m \u001B[1;33m=\u001B[0m \u001B[0mset\u001B[0m\u001B[1;33m(\u001B[0m\u001B[0msoba_cleaned\u001B[0m\u001B[1;33m[\u001B[0m\u001B[0msoba_cleaned\u001B[0m\u001B[1;33m.\u001B[0m\u001B[0mItemID\u001B[0m \u001B[1;33m==\u001B[0m \u001B[0mj\u001B[0m\u001B[1;33m]\u001B[0m\u001B[1;33m.\u001B[0m\u001B[0mUserID\u001B[0m\u001B[1;33m)\u001B[0m\u001B[1;33m\u001B[0m\u001B[1;33m\u001B[0m\u001B[0m\n\u001B[0m\u001B[0;32m     11\u001B[0m         \u001B[1;32mif\u001B[0m \u001B[0mlen\u001B[0m\u001B[1;33m(\u001B[0m\u001B[0mU_i\u001B[0m\u001B[1;33m.\u001B[0m\u001B[0mintersection\u001B[0m\u001B[1;33m(\u001B[0m\u001B[0mU_j\u001B[0m\u001B[1;33m)\u001B[0m\u001B[1;33m)\u001B[0m \u001B[1;33m>=\u001B[0m \u001B[1;36m2\u001B[0m\u001B[1;33m:\u001B[0m \u001B[0mS\u001B[0m\u001B[1;33m[\u001B[0m\u001B[0mi\u001B[0m\u001B[1;33m]\u001B[0m\u001B[1;33m.\u001B[0m\u001B[0madd\u001B[0m\u001B[1;33m(\u001B[0m\u001B[0mj\u001B[0m\u001B[1;33m)\u001B[0m\u001B[1;33m\u001B[0m\u001B[1;33m\u001B[0m\u001B[0m\n\u001B[0;32m     12\u001B[0m \u001B[1;33m\u001B[0m\u001B[0m\n",
      "\u001B[1;32mC:\\ProgramData\\Anaconda3\\lib\\site-packages\\pandas\\core\\frame.py\u001B[0m in \u001B[0;36m__getitem__\u001B[1;34m(self, key)\u001B[0m\n\u001B[0;32m   2789\u001B[0m         \u001B[1;31m# Do we have a (boolean) 1d indexer?\u001B[0m\u001B[1;33m\u001B[0m\u001B[1;33m\u001B[0m\u001B[1;33m\u001B[0m\u001B[0m\n\u001B[0;32m   2790\u001B[0m         \u001B[1;32mif\u001B[0m \u001B[0mcom\u001B[0m\u001B[1;33m.\u001B[0m\u001B[0mis_bool_indexer\u001B[0m\u001B[1;33m(\u001B[0m\u001B[0mkey\u001B[0m\u001B[1;33m)\u001B[0m\u001B[1;33m:\u001B[0m\u001B[1;33m\u001B[0m\u001B[1;33m\u001B[0m\u001B[0m\n\u001B[1;32m-> 2791\u001B[1;33m             \u001B[1;32mreturn\u001B[0m \u001B[0mself\u001B[0m\u001B[1;33m.\u001B[0m\u001B[0m_getitem_bool_array\u001B[0m\u001B[1;33m(\u001B[0m\u001B[0mkey\u001B[0m\u001B[1;33m)\u001B[0m\u001B[1;33m\u001B[0m\u001B[1;33m\u001B[0m\u001B[0m\n\u001B[0m\u001B[0;32m   2792\u001B[0m \u001B[1;33m\u001B[0m\u001B[0m\n\u001B[0;32m   2793\u001B[0m         \u001B[1;31m# We are left with two options: a single key, and a collection of keys,\u001B[0m\u001B[1;33m\u001B[0m\u001B[1;33m\u001B[0m\u001B[1;33m\u001B[0m\u001B[0m\n",
      "\u001B[1;32mC:\\ProgramData\\Anaconda3\\lib\\site-packages\\pandas\\core\\frame.py\u001B[0m in \u001B[0;36m_getitem_bool_array\u001B[1;34m(self, key)\u001B[0m\n\u001B[0;32m   2842\u001B[0m         \u001B[1;31m# be reindexed to match DataFrame rows\u001B[0m\u001B[1;33m\u001B[0m\u001B[1;33m\u001B[0m\u001B[1;33m\u001B[0m\u001B[0m\n\u001B[0;32m   2843\u001B[0m         \u001B[0mkey\u001B[0m \u001B[1;33m=\u001B[0m \u001B[0mcheck_bool_indexer\u001B[0m\u001B[1;33m(\u001B[0m\u001B[0mself\u001B[0m\u001B[1;33m.\u001B[0m\u001B[0mindex\u001B[0m\u001B[1;33m,\u001B[0m \u001B[0mkey\u001B[0m\u001B[1;33m)\u001B[0m\u001B[1;33m\u001B[0m\u001B[1;33m\u001B[0m\u001B[0m\n\u001B[1;32m-> 2844\u001B[1;33m         \u001B[0mindexer\u001B[0m \u001B[1;33m=\u001B[0m \u001B[0mkey\u001B[0m\u001B[1;33m.\u001B[0m\u001B[0mnonzero\u001B[0m\u001B[1;33m(\u001B[0m\u001B[1;33m)\u001B[0m\u001B[1;33m[\u001B[0m\u001B[1;36m0\u001B[0m\u001B[1;33m]\u001B[0m\u001B[1;33m\u001B[0m\u001B[1;33m\u001B[0m\u001B[0m\n\u001B[0m\u001B[0;32m   2845\u001B[0m         \u001B[1;32mreturn\u001B[0m \u001B[0mself\u001B[0m\u001B[1;33m.\u001B[0m\u001B[0m_take_with_is_copy\u001B[0m\u001B[1;33m(\u001B[0m\u001B[0mindexer\u001B[0m\u001B[1;33m,\u001B[0m \u001B[0maxis\u001B[0m\u001B[1;33m=\u001B[0m\u001B[1;36m0\u001B[0m\u001B[1;33m)\u001B[0m\u001B[1;33m\u001B[0m\u001B[1;33m\u001B[0m\u001B[0m\n\u001B[0;32m   2846\u001B[0m \u001B[1;33m\u001B[0m\u001B[0m\n",
      "\u001B[1;31mKeyboardInterrupt\u001B[0m: "
     ]
    }
   ],
   "source": [
    "# generate item-set based on co-selection\n",
    "S = dict()\n",
    "p = 0\n",
    "for i in set(soba_cleaned.ItemID):\n",
    "    p += 1\n",
    "    print('Process: ', p / len(set(soba_cleaned.ItemID)))\n",
    "    S[i] = set()\n",
    "    U_i = set(soba_cleaned[soba_cleaned.ItemID == i].UserID)\n",
    "    for j in set(soba_cleaned.ItemID):\n",
    "        U_j = set(soba_cleaned[soba_cleaned.ItemID == j].UserID)\n",
    "        if len(U_i.intersection(U_j)) >= 2: S[i].add(j)\n"
   ],
   "metadata": {
    "collapsed": false,
    "pycharm": {
     "name": "#%%\n"
    }
   }
  },
  {
   "cell_type": "code",
   "execution_count": 13,
   "outputs": [],
   "source": [
    "# initialization\n",
    "U = np.random.uniform(size=(num_u, dim))\n",
    "V = np.random.uniform(size=(dim, num_i))\n",
    "B = np.random.uniform(size=(num_i, 1))"
   ],
   "metadata": {
    "collapsed": false,
    "pycharm": {
     "name": "#%%\n"
    }
   }
  }
 ],
 "metadata": {
  "kernelspec": {
   "display_name": "Python 3",
   "language": "python",
   "name": "python3"
  },
  "language_info": {
   "codemirror_mode": {
    "name": "ipython",
    "version": 2
   },
   "file_extension": ".py",
   "mimetype": "text/x-python",
   "name": "python",
   "nbconvert_exporter": "python",
   "pygments_lexer": "ipython2",
   "version": "2.7.6"
  }
 },
 "nbformat": 4,
 "nbformat_minor": 0
}