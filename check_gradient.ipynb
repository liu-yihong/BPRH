{
 "cells": [
  {
   "cell_type": "code",
   "execution_count": 1,
   "metadata": {
    "collapsed": true
   },
   "outputs": [],
   "source": [
    "import pandas as pd\n",
    "import numpy as np\n",
    "import cupy\n",
    "\n",
    "def sigmoid(z):\n",
    "    return cupy.reciprocal(1 + cupy.exp(-z))"
   ]
  },
  {
   "cell_type": "code",
   "execution_count": 16,
   "outputs": [],
   "source": [
    "U = cupy.array([\n",
    "    [0.69254207,\t0.120757424,\t1],\n",
    "    [0.794932131,\t0.506465029,\t1],\n",
    "    [0.087887546,\t0.625198524,\t1],\n",
    "    [0.186622288,\t0.64901336,\t1]\n",
    "])\n",
    "\n",
    "V = cupy.array([\n",
    "    [0.961109006,\t0.806823022,\t0.906683013,\t0.442439555],\n",
    "    [0.613409475,\t0.350356184,\t0.527786582,\t0.297789197],\n",
    "    [0.451780345,\t0.92009755,\t0.848521427,\t0.774361515]\n",
    "])"
   ],
   "metadata": {
    "collapsed": false,
    "pycharm": {
     "name": "#%%\n"
    }
   }
  },
  {
   "cell_type": "code",
   "execution_count": 17,
   "outputs": [],
   "source": [
    "est_pref = cupy.dot(U,V)"
   ],
   "metadata": {
    "collapsed": false,
    "pycharm": {
     "name": "#%%\n"
    }
   }
  },
  {
   "cell_type": "code",
   "execution_count": 18,
   "outputs": [],
   "source": [
    "u = 0\n",
    "I = {0}\n",
    "J = {2, 3}\n",
    "K = {1}\n",
    "\n",
    "spec_alpha_u = 0.5"
   ],
   "metadata": {
    "collapsed": false,
    "pycharm": {
     "name": "#%%\n"
    }
   }
  },
  {
   "cell_type": "code",
   "execution_count": 19,
   "outputs": [],
   "source": [
    "U_u = U[u, :-1]\n",
    "\n",
    "r_hat_uI = cupy.average(est_pref[u, sorted(I)]) if len(\n",
    "                    I) != 0 else cupy.array([0])\n",
    "r_hat_uJ = cupy.average(est_pref[u, sorted(J)]) if len(\n",
    "                    J) != 0 else cupy.array([0])\n",
    "r_hat_uK = cupy.average(est_pref[u, sorted(K)]) if len(\n",
    "                    K) != 0 else cupy.array([0])\n",
    "\n",
    "r_hat_uIJ = r_hat_uI - r_hat_uJ\n",
    "r_hat_uJK = r_hat_uJ - r_hat_uK\n",
    "\n",
    "V_bar_I = cupy.average(V[:-1, sorted(I)], axis=1) if len(\n",
    "    I) != 0 else cupy.zeros(\n",
    "    shape=(2,))\n",
    "V_bar_J = cupy.average(V[:-1, sorted(J)], axis=1) if len(\n",
    "    J) != 0 else cupy.zeros(\n",
    "    shape=(2,))\n",
    "V_bar_K = cupy.average(V[:-1, sorted(K)], axis=1) if len(\n",
    "    K) != 0 else cupy.zeros(\n",
    "    shape=(2,))\n",
    "# get b_I, b_J, b_K\n",
    "b_I = cupy.average(V[-1, sorted(I)]) if len(I) != 0 else cupy.array([0])\n",
    "b_J = cupy.average(V[-1, sorted(J)]) if len(J) != 0 else cupy.array([0])\n",
    "b_K = cupy.average(V[-1, sorted(K)]) if len(K) != 0 else cupy.array([0])"
   ],
   "metadata": {
    "collapsed": false,
    "pycharm": {
     "name": "#%%\n"
    }
   }
  },
  {
   "cell_type": "code",
   "execution_count": 20,
   "outputs": [],
   "source": [
    "# Nabla\n",
    "df_dUu = sigmoid(- r_hat_uIJ / spec_alpha_u) / spec_alpha_u * (V_bar_I - V_bar_J) + \\\n",
    "                         sigmoid(- r_hat_uJK) * (V_bar_J - V_bar_K)\n",
    "dR_dUu = 2 * 0.1 * U_u\n",
    "\n",
    "df_dbi = sigmoid(- r_hat_uIJ / spec_alpha_u) / (len(I) * spec_alpha_u)\n",
    "dR_dbi = 2 * 0.1 * b_I / len(I)\n",
    "df_dVi = df_dbi * U_u\n",
    "dR_dVi = 2 * 0.1 * V_bar_I / len(I)\n",
    "\n",
    "df_dbj = ( - sigmoid(- r_hat_uIJ / spec_alpha_u) / spec_alpha_u + sigmoid(- r_hat_uJK) ) / len(J)\n",
    "dR_dbj = 2 * 0.1 * b_J / len(J)\n",
    "df_dVj = df_dbj * U_u\n",
    "dR_dVj = 2 * 0.1 * V_bar_J / len(J)\n",
    "\n",
    "df_dbk = - sigmoid(- r_hat_uJK) / len(K)\n",
    "dR_dbk = 2 * 0.1 * b_K / len(K)\n",
    "df_dVk = df_dbk * U_u\n",
    "dR_dVk = 2 * 0.1 * V_bar_K / len(K)"
   ],
   "metadata": {
    "collapsed": false,
    "pycharm": {
     "name": "#%%\n"
    }
   }
  },
  {
   "cell_type": "code",
   "execution_count": 21,
   "outputs": [],
   "source": [
    "# update\n",
    "U[u, :-1] += 0.01 * (df_dUu - dR_dUu)\n",
    "\n",
    "V[:-1, sorted(I)] += 0.01 * (df_dVi - dR_dVi)[:, None]  # trick: transpose here\n",
    "# update b_i = b_i + 0.01 * (df_dbi - dR_dbi)\n",
    "V[-1, sorted(I)] += 0.01 * (df_dbi - dR_dbi)\n",
    "\n",
    "V[:-1, sorted(J)] += 0.01 * (df_dVj - dR_dVj)[:, None]  # trick: transpose here\n",
    "# update b_j = b_j + 0.01 * (df_dbj - dR_dbj)\n",
    "V[-1, sorted(J)] += 0.01 * (df_dbj - dR_dbj)\n",
    "\n",
    "V[:-1, sorted(K)] += 0.01 * (df_dVk - dR_dVk)[:, None]  # trick: transpose here\n",
    "# update b_k = b_k + 0.01 * (df_dbk - dR_dbk)\n",
    "V[-1, sorted(K)] += 0.01 * (df_dbk - dR_dbk)"
   ],
   "metadata": {
    "collapsed": false,
    "pycharm": {
     "name": "#%%\n"
    }
   }
  },
  {
   "cell_type": "code",
   "execution_count": 23,
   "outputs": [],
   "source": [
    "# new est pref\n",
    "new_est_pref = cupy.dot(U,V)"
   ],
   "metadata": {
    "collapsed": false,
    "pycharm": {
     "name": "#%%\n"
    }
   }
  }
 ],
 "metadata": {
  "kernelspec": {
   "display_name": "Python 3",
   "language": "python",
   "name": "python3"
  },
  "language_info": {
   "codemirror_mode": {
    "name": "ipython",
    "version": 2
   },
   "file_extension": ".py",
   "mimetype": "text/x-python",
   "name": "python",
   "nbconvert_exporter": "python",
   "pygments_lexer": "ipython2",
   "version": "2.7.6"
  }
 },
 "nbformat": 4,
 "nbformat_minor": 0
}