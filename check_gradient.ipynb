{
 "cells": [
  {
   "cell_type": "code",
   "execution_count": 1,
   "metadata": {
    "collapsed": true
   },
   "outputs": [],
   "source": [
    "import pandas as pd\n",
    "import numpy as np\n",
    "import cupy\n",
    "\n",
    "def sigmoid(z):\n",
    "    return cupy.reciprocal(1 + cupy.exp(-z))\n",
    "\n",
    "def indicator(z):\n",
    "    return 1 if z else 0\n",
    "\n",
    "def indicator_len(z):\n",
    "    return len(z) if len(z) != 0 else 1"
   ]
  },
  {
   "cell_type": "code",
   "execution_count": 37,
   "outputs": [],
   "source": [
    "U = cupy.array([\n",
    "    [0.69254207,\t0.120757424,\t1],\n",
    "    [0.794932131,\t0.506465029,\t1],\n",
    "    [0.087887546,\t0.625198524,\t1],\n",
    "    [0.186622288,\t0.64901336,\t1]\n",
    "])\n",
    "\n",
    "V = cupy.array([\n",
    "    [0.961109006,\t0.806823022,\t0.906683013,\t0.442439555],\n",
    "    [0.613409475,\t0.350356184,\t0.527786582,\t0.297789197],\n",
    "    [0.451780345,\t0.92009755,\t0.848521427,\t0.774361515]\n",
    "])"
   ],
   "metadata": {
    "collapsed": false,
    "pycharm": {
     "name": "#%%\n"
    }
   }
  },
  {
   "cell_type": "code",
   "execution_count": 31,
   "outputs": [],
   "source": [
    "est_pref = cupy.dot(U,V)"
   ],
   "metadata": {
    "collapsed": false,
    "pycharm": {
     "name": "#%%\n"
    }
   }
  },
  {
   "cell_type": "code",
   "execution_count": 38,
   "outputs": [],
   "source": [
    "u = 0\n",
    "I = {0}\n",
    "#I = {}\n",
    "#J = {2, 3}\n",
    "J = {}\n",
    "K = {1}\n",
    "#K = {}\n",
    "\n",
    "spec_alpha_u = 0.5\n",
    "gamma = 0.01\n",
    "lambda_u = 0.1\n",
    "lambda_v = 0.1\n",
    "lambda_b = 0.1"
   ],
   "metadata": {
    "collapsed": false,
    "pycharm": {
     "name": "#%%\n"
    }
   }
  },
  {
   "cell_type": "code",
   "execution_count": 38,
   "outputs": [
    {
     "data": {
      "text/plain": "2217152943880"
     },
     "execution_count": 38,
     "metadata": {},
     "output_type": "execute_result"
    }
   ],
   "source": [
    "id(U[u, :-1])"
   ],
   "metadata": {
    "collapsed": false,
    "pycharm": {
     "name": "#%%\n"
    }
   }
  },
  {
   "cell_type": "code",
   "execution_count": 39,
   "outputs": [],
   "source": [
    "U_u = U[u, :-1].copy()"
   ],
   "metadata": {
    "collapsed": false,
    "pycharm": {
     "name": "#%%\n"
    }
   }
  },
  {
   "cell_type": "code",
   "execution_count": 40,
   "outputs": [],
   "source": [
    "r_hat_uI = cupy.average(est_pref[u, sorted(I)]) if len(\n",
    "                    I) != 0 else cupy.array([0])\n",
    "r_hat_uJ = cupy.average(est_pref[u, sorted(J)]) if len(\n",
    "                    J) != 0 else cupy.array([0])\n",
    "r_hat_uK = cupy.average(est_pref[u, sorted(K)]) if len(\n",
    "                    K) != 0 else cupy.array([0])\n",
    "\n",
    "r_hat_uIJ = r_hat_uI - r_hat_uJ\n",
    "r_hat_uJK = r_hat_uJ - r_hat_uK\n",
    "\n",
    "V_bar_I = cupy.average(V[:-1, sorted(I)], axis=1) if len(\n",
    "    I) != 0 else cupy.zeros(\n",
    "    shape=(2,))\n",
    "V_bar_J = cupy.average(V[:-1, sorted(J)], axis=1) if len(\n",
    "    J) != 0 else cupy.zeros(\n",
    "    shape=(2,))\n",
    "V_bar_K = cupy.average(V[:-1, sorted(K)], axis=1) if len(\n",
    "    K) != 0 else cupy.zeros(\n",
    "    shape=(2,))\n",
    "# get b_I, b_J, b_K\n",
    "b_I = cupy.average(V[-1, sorted(I)]) if len(I) != 0 else cupy.array([0])\n",
    "b_J = cupy.average(V[-1, sorted(J)]) if len(J) != 0 else cupy.array([0])\n",
    "b_K = cupy.average(V[-1, sorted(K)]) if len(K) != 0 else cupy.array([0])"
   ],
   "metadata": {
    "collapsed": false,
    "pycharm": {
     "name": "#%%\n"
    }
   }
  },
  {
   "cell_type": "code",
   "execution_count": 41,
   "outputs": [],
   "source": [
    "indicator_I = indicator(len(I) == 0)\n",
    "indicator_J = indicator(len(J) == 0)\n",
    "indicator_K = indicator(len(K) == 0)\n",
    "indicator_sum = indicator_I + indicator_J + indicator_K"
   ],
   "metadata": {
    "collapsed": false,
    "pycharm": {
     "name": "#%%\n"
    }
   }
  },
  {
   "cell_type": "code",
   "execution_count": 42,
   "outputs": [],
   "source": [
    "if 0 <= indicator_sum <= 1:\n",
    "    # these are the cases when only one set are empty or no set is empty\n",
    "    # when all three are not empty, or I is empty, or K is empty, it is\n",
    "    # easy to rewrite the obj by multiplying the indicator\n",
    "    # when J is empty, we have to rewrite the obj\n",
    "    if indicator_J == 1:\n",
    "        # when J is empty\n",
    "        r_hat_uIK = r_hat_uI - r_hat_uK\n",
    "\n",
    "        # NABLA U_u\n",
    "        df_dUu = sigmoid(- r_hat_uIK) * (V_bar_I - V_bar_K)\n",
    "        dR_dUu = 2 * lambda_u * U_u\n",
    "        # update U_u = U_u + gamma * (df_dUu - dR_dUu)\n",
    "        U[u, :-1] += gamma * (df_dUu - dR_dUu)\n",
    "\n",
    "        # NABLA V_i\n",
    "        df_dbi = (1 - indicator_I) * sigmoid(- r_hat_uIK ) / indicator_len(I)\n",
    "        dR_dbi = (1 - indicator_I) * 2 * lambda_b * b_I / indicator_len(I)\n",
    "        df_dVi = df_dbi * U_u\n",
    "        dR_dVi = 2 * lambda_v * V_bar_I / indicator_len(I)\n",
    "        # update V_i = V_i + gamma * (df_dVi - dR_dVi)\n",
    "        V[:-1, sorted(I)] += gamma * (df_dVi - dR_dVi)[:, None]  # trick: transpose here\n",
    "        # update b_i = b_i + gamma * (df_dbi - dR_dbi)\n",
    "        V[-1, sorted(I)] += gamma * (df_dbi - dR_dbi)\n",
    "\n",
    "        # No change on J\n",
    "\n",
    "        # NABLA V_k\n",
    "        df_dbk = (1 - indicator_K) * - sigmoid(- r_hat_uIK) / indicator_len(K)\n",
    "        dR_dbk = (1 - indicator_K) * 2 * lambda_b * b_K / indicator_len(K)\n",
    "        df_dVk = df_dbk * U_u\n",
    "        dR_dVk = 2 * lambda_v * V_bar_K / indicator_len(K)\n",
    "\n",
    "        # update V_k = V_k + gamma * (df_dVk - dR_dVk)\n",
    "        V[:-1, sorted(K)] += gamma * (df_dVk - dR_dVk)[:, None]  # trick: transpose here\n",
    "        # update b_k = b_k + gamma * (df_dbk - dR_dbk)\n",
    "        V[-1, sorted(K)] += gamma * (df_dbk - dR_dbk)\n",
    "\n",
    "    else:\n",
    "        # when J is not empty\n",
    "        # NABLA U_u\n",
    "        df_dUu = (1 - indicator_I) * sigmoid(- r_hat_uIJ / spec_alpha_u) / spec_alpha_u * (V_bar_I - V_bar_J) + \\\n",
    " (1 - indicator_K) * sigmoid(- r_hat_uJK) * (V_bar_J - V_bar_K)\n",
    "        dR_dUu = 2 * lambda_u * U_u\n",
    "        # update U_u = U_u + gamma * (df_dUu - dR_dUu)\n",
    "        U[u, :-1] += gamma * (df_dUu - dR_dUu)\n",
    "\n",
    "        # NABLA V_i\n",
    "        df_dbi = (1 - indicator_I) * sigmoid(- r_hat_uIJ / spec_alpha_u) / (indicator_len(I) * spec_alpha_u)\n",
    "        dR_dbi = (1 - indicator_I) * 2 * lambda_b * b_I / indicator_len(I)\n",
    "        df_dVi = df_dbi * U_u\n",
    "        dR_dVi = 2 * lambda_v * V_bar_I / indicator_len(I)\n",
    "        # update V_i = V_i + gamma * (df_dVi - dR_dVi)\n",
    "        V[:-1, sorted(I)] += gamma * (df_dVi - dR_dVi)[:, None]  # trick: transpose here\n",
    "        # update b_i = b_i + gamma * (df_dbi - dR_dbi)\n",
    "        V[-1, sorted(I)] += gamma * (df_dbi - dR_dbi)\n",
    "\n",
    "        # NABLA V_j\n",
    "        df_dbj = (1 - indicator_I) * (- sigmoid(- r_hat_uIJ / spec_alpha_u) / spec_alpha_u +\n",
    "          (1 - indicator_K) * sigmoid(- r_hat_uJK)) / indicator_len(J)\n",
    "        dR_dbj = 2 * lambda_b * b_J / indicator_len(J)\n",
    "        df_dVj = df_dbj * U_u\n",
    "        dR_dVj = 2 * lambda_v * V_bar_J / indicator_len(J)\n",
    "\n",
    "        # update V_j = V_j + gamma * (df_dVj - dR_dVj)\n",
    "        V[:-1, sorted(J)] += gamma * (df_dVj - dR_dVj)[:, None]  # trick: transpose here\n",
    "        # update b_j = b_j + gamma * (df_dbj - dR_dbj)\n",
    "        V[-1, sorted(J)] += gamma * (df_dbj - dR_dbj)\n",
    "\n",
    "        # NABLA V_k\n",
    "        df_dbk = (1 - indicator_K) * - sigmoid(- r_hat_uJK) / indicator_len(K)\n",
    "        dR_dbk = (1 - indicator_K) * 2 * lambda_b * b_K / indicator_len(K)\n",
    "        df_dVk = df_dbk * U_u\n",
    "        dR_dVk = 2 * lambda_v * V_bar_K / indicator_len(K)\n",
    "\n",
    "        # update V_k = V_k + gamma * (df_dVk - dR_dVk)\n",
    "        V[:-1, sorted(K)] += gamma * (df_dVk - dR_dVk)[:, None]  # trick: transpose here\n",
    "        # update b_k = b_k + gamma * (df_dbk - dR_dbk)\n",
    "        V[-1, sorted(K)] += gamma * (df_dbk - dR_dbk)\n",
    "\n",
    "else:\n",
    "    # these are the cases when at least two sets are empty\n",
    "    # at these cases, we ignore this user and continue the loop\n",
    "    print(\"ERROR CASE\")"
   ],
   "metadata": {
    "collapsed": false,
    "pycharm": {
     "name": "#%%\n"
    }
   }
  },
  {
   "cell_type": "code",
   "execution_count": 35,
   "outputs": [],
   "source": [
    "# new est pref\n",
    "new_est_pref = cupy.dot(U,V)"
   ],
   "metadata": {
    "collapsed": false,
    "pycharm": {
     "name": "#%%\n"
    }
   }
  },
  {
   "cell_type": "code",
   "execution_count": 46,
   "outputs": [
    {
     "name": "stdout",
     "output_type": "stream",
     "text": [
      "0\n",
      "1\n",
      "2\n",
      "3\n",
      "4\n",
      "5\n"
     ]
    }
   ],
   "source": [
    "for i in [0,1,2,3,4,5]:\n",
    "    print(i)"
   ],
   "metadata": {
    "collapsed": false,
    "pycharm": {
     "name": "#%%\n"
    }
   }
  }
 ],
 "metadata": {
  "kernelspec": {
   "display_name": "Python 3",
   "language": "python",
   "name": "python3"
  },
  "language_info": {
   "codemirror_mode": {
    "name": "ipython",
    "version": 2
   },
   "file_extension": ".py",
   "mimetype": "text/x-python",
   "name": "python",
   "nbconvert_exporter": "python",
   "pygments_lexer": "ipython2",
   "version": "2.7.6"
  }
 },
 "nbformat": 4,
 "nbformat_minor": 0
}