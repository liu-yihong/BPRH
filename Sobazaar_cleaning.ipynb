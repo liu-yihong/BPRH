{
 "cells": [
  {
   "cell_type": "code",
   "execution_count": 41,
   "metadata": {
    "collapsed": true
   },
   "outputs": [],
   "source": [
    "import pandas as pd\n",
    "from tqdm import tqdm"
   ]
  },
  {
   "cell_type": "code",
   "execution_count": 54,
   "outputs": [
    {
     "data": {
      "text/plain": "\"\\nAction includes + num\\n\\ncontent:interact:product_clicked\\t1445\\ncontent:interact:product_detail_viewed\\t151582\\ncontent:interact:product_wanted\\t8915\\npixel-init\\t5451 -> ignore\\npixel-order\\t4 -> ignore\\npixel-order-no-reference\\t1325 -> ignore\\nproduct_detail_clicked\\t386606\\nproduct_wanted\\t269064\\npurchase:buy_clicked\\t18267\\n\\npurchase:\\n 'purchase:buy_clicked'\\n\\nview:\\n'content:interact:product_clicked'\\n'content:interact:product_detail_viewed'\\n'product_detail_clicked'\\n\\nlike:\\n'content:interact:product_wanted'\\n'product_wanted'\\n\""
     },
     "execution_count": 54,
     "metadata": {},
     "output_type": "execute_result"
    }
   ],
   "source": [
    "data = pd.read_csv(\"data/Sobazaar-hashID.csv\")\n",
    "# data.drop(\"Timestamp\", inplace=True, axis=1)\n",
    "data.drop_duplicates(inplace=True)\n",
    "data.sort_values([\"UserID\", \"Timestamp\"],inplace=True)\n",
    "\"\"\"\n",
    "Action includes + num\n",
    "\n",
    "content:interact:product_clicked\t1445\n",
    "content:interact:product_detail_viewed\t151582\n",
    "content:interact:product_wanted\t8915\n",
    "pixel-init\t5451 -> ignore\n",
    "pixel-order\t4 -> ignore\n",
    "pixel-order-no-reference\t1325 -> ignore\n",
    "product_detail_clicked\t386606\n",
    "product_wanted\t269064\n",
    "purchase:buy_clicked\t18267\n",
    "\n",
    "purchase:\n",
    " 'purchase:buy_clicked'\n",
    "\n",
    "view:\n",
    "'content:interact:product_clicked'\n",
    "'content:interact:product_detail_viewed'\n",
    "'product_detail_clicked'\n",
    "\n",
    "like:\n",
    "'content:interact:product_wanted'\n",
    "'product_wanted'\n",
    "\"\"\""
   ],
   "metadata": {
    "collapsed": false,
    "pycharm": {
     "name": "#%%\n"
    }
   }
  },
  {
   "cell_type": "code",
   "execution_count": 55,
   "outputs": [],
   "source": [
    "data.drop(\"Timestamp\", inplace=True, axis=1)\n",
    "data.drop_duplicates(inplace=True)\n",
    "\n",
    "# drop pixel% records\n",
    "data = data[~data.Action.isin([\"pixel-order\", \"pixel-order-no-reference\"])]"
   ],
   "metadata": {
    "collapsed": false,
    "pycharm": {
     "name": "#%%\n"
    }
   }
  },
  {
   "cell_type": "code",
   "execution_count": 56,
   "outputs": [],
   "source": [
    "def action_dict(z):\n",
    "    if z == \"purchase:buy_clicked\":\n",
    "        return \"P\"\n",
    "    elif z in ['content:interact:product_clicked',\n",
    "               'content:interact:product_detail_viewed',\n",
    "               'product_detail_clicked',\n",
    "               \"pixel-init\"]:\n",
    "        return \"V\"\n",
    "    elif z in ['content:interact:product_wanted',\n",
    "               'product_wanted']:\n",
    "        return \"L\""
   ],
   "metadata": {
    "collapsed": false,
    "pycharm": {
     "name": "#%%\n"
    }
   }
  },
  {
   "cell_type": "code",
   "execution_count": 57,
   "outputs": [],
   "source": [
    "data.Action = data.Action.apply(lambda x: action_dict(x))\n",
    "data.drop_duplicates(inplace=True)"
   ],
   "metadata": {
    "collapsed": false,
    "pycharm": {
     "name": "#%%\n"
    }
   }
  },
  {
   "cell_type": "code",
   "execution_count": 58,
   "outputs": [],
   "source": [
    "selected_user_list = set(data[data.Action == \"P\"].UserID)\n",
    "selected_item_list = set(data[data.Action == \"P\"].ItemID)\n",
    "\n",
    "data = data[(data.UserID.isin(selected_user_list)) & (data.ItemID.isin(selected_item_list))]"
   ],
   "metadata": {
    "collapsed": false,
    "pycharm": {
     "name": "#%%\n"
    }
   }
  },
  {
   "cell_type": "code",
   "execution_count": 60,
   "outputs": [
    {
     "data": {
      "text/plain": "(95589, 3)"
     },
     "execution_count": 60,
     "metadata": {},
     "output_type": "execute_result"
    }
   ],
   "source": [
    "data[data.Action == \"L\"].shape"
   ],
   "metadata": {
    "collapsed": false,
    "pycharm": {
     "name": "#%%\n"
    }
   }
  },
  {
   "cell_type": "code",
   "execution_count": 61,
   "outputs": [],
   "source": [
    "data.to_csv(\"data/Sobazaar-bprh-cleaned.csv\")"
   ],
   "metadata": {
    "collapsed": false,
    "pycharm": {
     "name": "#%%\n"
    }
   }
  }
 ],
 "metadata": {
  "kernelspec": {
   "display_name": "Python 3",
   "language": "python",
   "name": "python3"
  },
  "language_info": {
   "codemirror_mode": {
    "name": "ipython",
    "version": 2
   },
   "file_extension": ".py",
   "mimetype": "text/x-python",
   "name": "python",
   "nbconvert_exporter": "python",
   "pygments_lexer": "ipython2",
   "version": "2.7.6"
  }
 },
 "nbformat": 4,
 "nbformat_minor": 0
}